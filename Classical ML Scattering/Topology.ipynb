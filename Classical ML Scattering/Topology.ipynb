{
 "cells": [
  {
   "cell_type": "code",
   "execution_count": 13,
   "metadata": {},
   "outputs": [],
   "source": [
    "import numpy as np\n",
    "import matplotlib.pyplot as plt\n",
    "import time"
   ]
  },
  {
   "cell_type": "code",
   "execution_count": 2,
   "metadata": {},
   "outputs": [],
   "source": [
    "X = np.load('Input_data_ML.npy')\n",
    "Y = np.load('Output_data_ML.npy')"
   ]
  },
  {
   "cell_type": "code",
   "execution_count": 3,
   "metadata": {},
   "outputs": [
    {
     "name": "stdout",
     "output_type": "stream",
     "text": [
      "(99988, 38) (99988, 15)\n"
     ]
    }
   ],
   "source": [
    "#Normalising X\n",
    "x_mean=np.mean(np.mean(X,axis=0),axis=0)\n",
    "x_std=np.std(np.std(X,axis=0),axis=0)\n",
    "X=(X-x_mean)/x_std\n",
    "\n",
    "\n",
    "Y=Y.T\n",
    "\n",
    "#Fixing Y[11]\n",
    "Y[Y[:,11]>2*np.pi,11]=Y[Y[:,11]>2*np.pi,11]-2*np.pi\n",
    "Y[Y[:,11]<0,11]=Y[Y[:,11]<0,11]+2*np.pi\n",
    "#Output[:,12:]=Output[:,12:]+2.0*np.pi\n",
    "\n",
    "X=X[:100000,:]\n",
    "Y=Y[:100000,:]  \n",
    "\n",
    "#IQR\n",
    "Q1=np.quantile(Y,0.10,axis=0)\n",
    "Q3=np.quantile(Y,0.90,axis=0)\n",
    "IQR=Q3-Q1\n",
    "X=X[~((Y < (Q1 - 1.5 * IQR)) |(Y > (Q3 + 1.5 * IQR))).any(axis=1)]\n",
    "Y=Y[~((Y < (Q1 - 1.5 * IQR)) |(Y > (Q3 + 1.5 * IQR))).any(axis=1)]\n",
    "\n",
    "#Min_Max Scaling of Y\n",
    "y_min=np.min(Y,axis=0)\n",
    "Y=Y-y_min\n",
    "y_max=np.max(Y,axis=0)\n",
    "Y=Y/y_max\n",
    "\n",
    "print(np.shape(X),np.shape(Y))"
   ]
  },
  {
   "cell_type": "code",
   "execution_count": 111,
   "metadata": {},
   "outputs": [],
   "source": [
    "frac=[]"
   ]
  },
  {
   "cell_type": "code",
   "execution_count": 112,
   "metadata": {},
   "outputs": [
    {
     "name": "stdout",
     "output_type": "stream",
     "text": [
      "0.25 \t 0.010303070303030102 \t 7.909421682357788\n",
      "0.3 \t 0.030505030703050308 \t 7.848350524902344\n",
      "0.35 \t 0.0703030103030307 \t 7.8808698654174805\n",
      "0.42 \t 0.030603030305080506 \t 7.754249572753906\n",
      "0.5 \t 0.07251903050512051 \t 7.890790700912476\n",
      "0.59 \t 0.031422120707050506 \t 7.831323862075806\n",
      "0.71 \t 0.07070906210316091 \t 7.777881145477295\n",
      "0.84 \t 0.07080709111509394 \t 7.880200386047363\n",
      "1.0 \t 0.3113141109371416 \t 7.858972549438477\n",
      "1.19 \t 0.20091020092810072 \t 7.828955888748169\n",
      "1.41 \t 0.341417271519253 \t 7.834639549255371\n",
      "1.68 \t 0.341827190926578 \t 7.767399072647095\n",
      "2.0 \t 0.7267428521313035 \t 7.8098461627960205\n",
      "2.38 \t 1.1352528397230632 \t 7.828733444213867\n",
      "2.83 \t 4.374566404273339 \t 7.848670959472656\n",
      "3.36 \t 0.7870893786435049 \t 7.856438398361206\n",
      "4.0 \t 11.34467020116574 \t 7.789000511169434\n",
      "4.76 \t 22.247946818747973 \t 7.844481945037842\n",
      "5.66 \t 43.037459608980406 \t 7.828472137451172\n",
      "6.73 \t 23.498381311818235 \t 7.834590435028076\n",
      "8.0 \t 107.6023302095132 \t 8.152118921279907\n",
      "9.51 \t 79.75075410620397 \t 8.324283361434937\n",
      "11.31 \t 285.2764779367084 \t 7.789001226425171\n",
      "13.45 \t 241.03834838188962 \t 7.840012788772583\n",
      "16.0 \t 682.3235164478252 \t 7.852293968200684\n",
      "19.03 \t 554.9028285755444 \t 7.967042446136475\n",
      "22.63 \t 558.1906397287879 \t 7.807857036590576\n",
      "26.91 \t 762.7174277700494 \t 7.79679012298584\n"
     ]
    }
   ],
   "source": [
    "frac=list(frac)\n",
    "eps=2\n",
    "for eps in 2.0**np.arange(-2,5,0.25):\n",
    "    n=np.shape(X)[0]\n",
    "    N_eps=0\n",
    "    t=time.time()\n",
    "    for i in np.random.randint(n,size=100):\n",
    "        N_eps+=np.sum(np.linalg.norm(X-X[i],axis=1)<eps)\n",
    "        N_eps=N_eps/100\n",
    "    print(np.round(eps,2), '\\t' , N_eps, '\\t', time.time()-t)\n",
    "    frac.append([eps,N_eps])"
   ]
  },
  {
   "cell_type": "code",
   "execution_count": 122,
   "metadata": {},
   "outputs": [
    {
     "data": {
      "text/plain": [
       "array([ 2.55628108, -2.02129191])"
      ]
     },
     "execution_count": 122,
     "metadata": {},
     "output_type": "execute_result"
    },
    {
     "data": {
      "image/png": "[encoded data removed]",
      "text/plain": [
       "<Figure size 432x288 with 1 Axes>"
      ]
     },
     "metadata": {
      "needs_background": "light"
     },
     "output_type": "display_data"
    }
   ],
   "source": [
    "frac=np.array(frac)\n",
    "plt.scatter(np.log2(frac[:,0]),np.log2(frac[:,1]))\n",
    "pol=np.polyfit(np.log2(frac[:,0]),np.log2(frac[:,1]),1)\n",
    "plt.plot(np.log2(frac[:,0]),np.polyval(pol,np.log2(frac[:,0])))\n",
    "pol"
   ]
  },
  {
   "cell_type": "code",
   "execution_count": null,
   "metadata": {},
   "outputs": [],
   "source": []
  }
 ],
 "metadata": {
  "kernelspec": {
   "display_name": "Python 3",
   "language": "python",
   "name": "python3"
  },
  "language_info": {
   "codemirror_mode": {
    "name": "ipython",
    "version": 3
   },
   "file_extension": ".py",
   "mimetype": "text/x-python",
   "name": "python",
   "nbconvert_exporter": "python",
   "pygments_lexer": "ipython3",
   "version": "3.6.10"
  }
 },
 "nbformat": 4,
 "nbformat_minor": 2
}
