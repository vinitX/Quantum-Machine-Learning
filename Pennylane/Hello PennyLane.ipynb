{
 "cells": [
  {
   "cell_type": "code",
   "execution_count": 7,
   "metadata": {
    "colab": {
     "base_uri": "https://localhost:8080/",
     "height": 1000
    },
    "colab_type": "code",
    "executionInfo": {
     "elapsed": 77464,
     "status": "ok",
     "timestamp": 1592839657621,
     "user": {
      "displayName": "Vinit Singh",
      "photoUrl": "https://lh3.googleusercontent.com/a-/AOh14GgoL8sImEqXRxPWWhRxjJ5WXMgF2SYIIK4QOnexgbk=s64",
      "userId": "08885898808014521859"
     },
     "user_tz": -330
    },
    "id": "dJYofNIaofKl",
    "outputId": "8d916e97-b63f-4de9-bb19-7fb3790d45ec"
   },
   "outputs": [],
   "source": [
    "#!pip install pennylane --upgrade\n",
    "#!pip install pennylane-sf pennylane-qiskit pennylane-cirq pennylane-forest pennylane-qsharp\n",
    "#!pip install autograd tensorflow>=1.13.2"
   ]
  },
  {
   "cell_type": "code",
   "execution_count": 8,
   "metadata": {
    "colab": {},
    "colab_type": "code",
    "executionInfo": {
     "elapsed": 49785,
     "status": "ok",
     "timestamp": 1592839660162,
     "user": {
      "displayName": "Vinit Singh",
      "photoUrl": "https://lh3.googleusercontent.com/a-/AOh14GgoL8sImEqXRxPWWhRxjJ5WXMgF2SYIIK4QOnexgbk=s64",
      "userId": "08885898808014521859"
     },
     "user_tz": -330
    },
    "id": "VSEQpzgmoYv2"
   },
   "outputs": [],
   "source": [
    "import pennylane as qml\n",
    "from pennylane import numpy as np"
   ]
  },
  {
   "cell_type": "code",
   "execution_count": 29,
   "metadata": {
    "colab": {},
    "colab_type": "code",
    "id": "z-KeYqOtoYwP"
   },
   "outputs": [],
   "source": [
    "dev = qml.device(\"default.qubit\", wires=4)\n",
    "\n",
    "@qml.qnode(dev)\n",
    "def circuit(params):\n",
    "    for i in range(4):\n",
    "        qml.RX(params[i*2], wires=i)\n",
    "        qml.RY(params[i*2+1], wires=i)\n",
    "    return [qml.expval(qml.PauliZ(i)) for i in range(4)]\n"
   ]
  },
  {
   "cell_type": "code",
   "execution_count": 30,
   "metadata": {},
   "outputs": [
    {
     "data": {
      "text/plain": [
       "array([0.80235829, 0.47224286, 0.61661407, 0.48615388])"
      ]
     },
     "execution_count": 30,
     "metadata": {},
     "output_type": "execute_result"
    }
   ],
   "source": [
    "circuit(np.random.rand(8))"
   ]
  },
  {
   "cell_type": "code",
   "execution_count": 33,
   "metadata": {
    "colab": {},
    "colab_type": "code",
    "id": "y1r5hY5uoYwd"
   },
   "outputs": [],
   "source": [
    "def cost(x):\n",
    "    return np.sum(circuit(x))"
   ]
  },
  {
   "cell_type": "code",
   "execution_count": 38,
   "metadata": {
    "colab": {},
    "colab_type": "code",
    "id": "78CSy9X-oYwg"
   },
   "outputs": [
    {
     "name": "stdout",
     "output_type": "stream",
     "text": [
      "2.8087973225378717\n"
     ]
    }
   ],
   "source": [
    "init_params = np.random.rand(8)\n",
    "print(cost(init_params))"
   ]
  },
  {
   "cell_type": "code",
   "execution_count": 39,
   "metadata": {
    "colab": {},
    "colab_type": "code",
    "id": "LTMcysHMoYwk"
   },
   "outputs": [
    {
     "name": "stdout",
     "output_type": "stream",
     "text": [
      "Cost after step     5: -1.6321401\n",
      "Cost after step    10: -3.7008383\n",
      "Cost after step    15: -3.9969684\n",
      "Cost after step    20: -3.9999816\n",
      "Cost after step    25: -3.9999999\n",
      "Cost after step    30: -4.0000000\n",
      "Cost after step    35: -4.0000000\n",
      "Cost after step    40: -4.0000000\n",
      "Cost after step    45: -4.0000000\n",
      "Cost after step    50: -4.0000000\n",
      "Cost after step    55: -4.0000000\n",
      "Cost after step    60: -4.0000000\n",
      "Cost after step    65: -4.0000000\n",
      "Cost after step    70: -4.0000000\n",
      "Cost after step    75: -4.0000000\n",
      "Cost after step    80: -4.0000000\n",
      "Cost after step    85: -4.0000000\n",
      "Cost after step    90: -4.0000000\n",
      "Cost after step    95: -4.0000000\n",
      "Cost after step   100: -4.0000000\n",
      "Optimized rotation angles: [1.17218942e-17 3.14159265e+00 8.36207029e-17 3.14159265e+00\n",
      " 3.14159265e+00 7.17985285e-17 3.14159265e+00 1.11021532e-16]\n"
     ]
    }
   ],
   "source": [
    "# initialise the optimizer\n",
    "opt = qml.GradientDescentOptimizer(stepsize=0.4)\n",
    "\n",
    "# set the number of steps\n",
    "steps = 100\n",
    "# set the initial parameter values\n",
    "params = init_params\n",
    "\n",
    "for i in range(steps):\n",
    "    # update the circuit parameters\n",
    "    params = opt.step(cost, params)\n",
    "\n",
    "    if (i + 1) % 5 == 0:\n",
    "        print(\"Cost after step {:5d}: {: .7f}\".format(i + 1, cost(params)))\n",
    "\n",
    "print(\"Optimized rotation angles: {}\".format(params))"
   ]
  },
  {
   "cell_type": "code",
   "execution_count": null,
   "metadata": {},
   "outputs": [],
   "source": []
  }
 ],
 "metadata": {
  "colab": {
   "name": "tutorial_qubit_rotation.ipynb",
   "provenance": []
  },
  "kernelspec": {
   "display_name": "Python 3",
   "language": "python",
   "name": "python3"
  },
  "language_info": {
   "codemirror_mode": {
    "name": "ipython",
    "version": 3
   },
   "file_extension": ".py",
   "mimetype": "text/x-python",
   "name": "python",
   "nbconvert_exporter": "python",
   "pygments_lexer": "ipython3",
   "version": "3.6.10"
  }
 },
 "nbformat": 4,
 "nbformat_minor": 1
}
