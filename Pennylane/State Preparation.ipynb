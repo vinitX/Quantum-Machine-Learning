{
 "cells": [
  {
   "cell_type": "code",
   "execution_count": 2,
   "metadata": {
    "colab": {
     "base_uri": "https://localhost:8080/",
     "height": 1000
    },
    "colab_type": "code",
    "executionInfo": {
     "elapsed": 77464,
     "status": "ok",
     "timestamp": 1592839657621,
     "user": {
      "displayName": "Vinit Singh",
      "photoUrl": "https://lh3.googleusercontent.com/a-/AOh14GgoL8sImEqXRxPWWhRxjJ5WXMgF2SYIIK4QOnexgbk=s64",
      "userId": "08885898808014521859"
     },
     "user_tz": -330
    },
    "id": "dJYofNIaofKl",
    "outputId": "8d916e97-b63f-4de9-bb19-7fb3790d45ec"
   },
   "outputs": [],
   "source": [
    "#!pip install pennylane --upgrade\n",
    "#!pip install pennylane-sf pennylane-qiskit pennylane-cirq pennylane-forest pennylane-qsharp\n",
    "#!pip install autograd tensorflow>=1.13.2"
   ]
  },
  {
   "cell_type": "code",
   "execution_count": 3,
   "metadata": {
    "colab": {},
    "colab_type": "code",
    "executionInfo": {
     "elapsed": 49785,
     "status": "ok",
     "timestamp": 1592839660162,
     "user": {
      "displayName": "Vinit Singh",
      "photoUrl": "https://lh3.googleusercontent.com/a-/AOh14GgoL8sImEqXRxPWWhRxjJ5WXMgF2SYIIK4QOnexgbk=s64",
      "userId": "08885898808014521859"
     },
     "user_tz": -330
    },
    "id": "VSEQpzgmoYv2"
   },
   "outputs": [],
   "source": [
    "%matplotlib inline\n",
    "import pennylane as qml\n",
    "from pennylane import numpy as np"
   ]
  },
  {
   "cell_type": "code",
   "execution_count": 4,
   "metadata": {},
   "outputs": [],
   "source": [
    "dev = qml.device(\"default.qubit\", wires=2)"
   ]
  },
  {
   "cell_type": "code",
   "execution_count": 6,
   "metadata": {},
   "outputs": [],
   "source": [
    "@qml.qnode(dev)\n",
    "def state_prep(x):\n",
    "    # Encode input x into quantum state\n",
    "    qml.QubitStateVector(x,wires=[0,1])\n",
    "\n",
    "    return qml.probs(wires=[0, 1])"
   ]
  },
  {
   "cell_type": "code",
   "execution_count": 10,
   "metadata": {},
   "outputs": [
    {
     "name": "stdout",
     "output_type": "stream",
     "text": [
      "[0.63652771 0.03518455 0.07600368 0.25228406]\n"
     ]
    },
    {
     "data": {
      "text/plain": [
       "array([0.63652771, 0.03518455, 0.07600368, 0.25228406])"
      ]
     },
     "execution_count": 10,
     "metadata": {},
     "output_type": "execute_result"
    }
   ],
   "source": [
    "X=np.random.randn(4)\n",
    "X=X/np.linalg.norm(X)\n",
    "\n",
    "print(X**2)\n",
    "state_prep(X)"
   ]
  },
  {
   "cell_type": "code",
   "execution_count": 65,
   "metadata": {
    "colab": {},
    "colab_type": "code",
    "id": "2FDZFJcHoYwC"
   },
   "outputs": [
    {
     "name": "stdout",
     "output_type": "stream",
     "text": [
      "[[0.122 0.009 0.056 0.813]\n",
      " [0.359 0.097 0.544 0.   ]\n",
      " [0.176 0.761 0.001 0.062]\n",
      " [0.343 0.132 0.399 0.125]]\n"
     ]
    }
   ],
   "source": [
    "'''\n",
    "@qml.qnode(dev)\n",
    "def my_quantum_function():\n",
    "    qml.Hadamard(wires=0)\n",
    "    qml.CNOT(wires=[0, 1])\n",
    "    return qml.probs(wires=[0, 1])\n",
    "'''\n",
    "A=np.random.rand(4,4)\n",
    "U,S,V=np.linalg.svd(A)\n",
    "print(np.round(U**2,3))\n",
    "\n",
    "@qml.qnode(dev)\n",
    "def my_quantum_function():\n",
    "    qml.PauliX(wires=[0])\n",
    "    qml.QubitUnitary(U,wires=[0,1])\n",
    "    return qml.probs(wires=[0, 1])"
   ]
  },
  {
   "cell_type": "code",
   "execution_count": 66,
   "metadata": {
    "colab": {},
    "colab_type": "code",
    "id": "C85QZ1DloYwF"
   },
   "outputs": [
    {
     "name": "stdout",
     "output_type": "stream",
     "text": [
      "[0.05595081 0.5443804  0.00068078 0.39898801]\n"
     ]
    }
   ],
   "source": [
    "print(my_quantum_function())"
   ]
  },
  {
   "cell_type": "code",
   "execution_count": null,
   "metadata": {},
   "outputs": [],
   "source": []
  },
  {
   "cell_type": "code",
   "execution_count": null,
   "metadata": {},
   "outputs": [],
   "source": []
  }
 ],
 "metadata": {
  "colab": {
   "name": "tutorial_qubit_rotation.ipynb",
   "provenance": []
  },
  "kernelspec": {
   "display_name": "Python 3",
   "language": "python",
   "name": "python3"
  },
  "language_info": {
   "codemirror_mode": {
    "name": "ipython",
    "version": 3
   },
   "file_extension": ".py",
   "mimetype": "text/x-python",
   "name": "python",
   "nbconvert_exporter": "python",
   "pygments_lexer": "ipython3",
   "version": "3.6.10"
  }
 },
 "nbformat": 4,
 "nbformat_minor": 1
}
