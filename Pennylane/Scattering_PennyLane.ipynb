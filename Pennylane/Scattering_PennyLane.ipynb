{
 "cells": [
  {
   "cell_type": "code",
   "execution_count": 56,
   "metadata": {
    "colab": {
     "base_uri": "https://localhost:8080/",
     "height": 1000
    },
    "colab_type": "code",
    "executionInfo": {
     "elapsed": 177552,
     "status": "ok",
     "timestamp": 1592879070500,
     "user": {
      "displayName": "Vinit Singh",
      "photoUrl": "https://lh3.googleusercontent.com/a-/AOh14GgoL8sImEqXRxPWWhRxjJ5WXMgF2SYIIK4QOnexgbk=s64",
      "userId": "08885898808014521859"
     },
     "user_tz": -330
    },
    "id": "s-T8hdaloouE",
    "outputId": "a368398a-2b1d-4044-eb3e-cec023a86199"
   },
   "outputs": [
    {
     "data": {
      "text/plain": [
       "'!pip install -q tensorflow==2.1.0\\n!pip install -q tensorflow-quantum\\n!pip install qiskit\\n!pip install cirq\\n'"
      ]
     },
     "execution_count": 56,
     "metadata": {},
     "output_type": "execute_result"
    }
   ],
   "source": [
    "'''!pip install -q tensorflow==2.1.0\n",
    "!pip install -q tensorflow-quantum\n",
    "!pip install qiskit\n",
    "!pip install cirq\n",
    "'''"
   ]
  },
  {
   "cell_type": "code",
   "execution_count": 57,
   "metadata": {},
   "outputs": [],
   "source": [
    "from collections import Counter\n",
    "\n",
    "import matplotlib.pyplot as plt\n",
    "%matplotlib inline\n",
    "import numpy as np\n",
    "import time \n",
    "import pennylane as qml\n",
    "from pennylane import numpy as np\n",
    "from pennylane.optimize import AdamOptimizer\n",
    "%matplotlib inline"
   ]
  },
  {
   "cell_type": "markdown",
   "metadata": {
    "colab_type": "text",
    "id": "yeko6JKjo2zw"
   },
   "source": [
    "## Classical Data Preparation"
   ]
  },
  {
   "cell_type": "code",
   "execution_count": 2,
   "metadata": {
    "colab": {
     "base_uri": "https://localhost:8080/",
     "height": 138
    },
    "colab_type": "code",
    "executionInfo": {
     "elapsed": 227032,
     "status": "ok",
     "timestamp": 1592879121930,
     "user": {
      "displayName": "Vinit Singh",
      "photoUrl": "https://lh3.googleusercontent.com/a-/AOh14GgoL8sImEqXRxPWWhRxjJ5WXMgF2SYIIK4QOnexgbk=s64",
      "userId": "08885898808014521859"
     },
     "user_tz": -330
    },
    "id": "xisVHk0vo0lO",
    "outputId": "e7f3910b-47e9-426b-cad8-0a352f08c72b"
   },
   "outputs": [],
   "source": [
    "'''\n",
    "from google.colab import drive\n",
    "drive.mount('/content/drive')\n",
    "X = np.load('/content/drive/My Drive/Quantum Research/QML Scattering/Classical ML Scattering/Input_data_ML.npy')\n",
    "Y = np.load('/content/drive/My Drive/Quantum Research/QML Scattering/Classical ML Scattering/Output_data_ML.npy')\n",
    "'''\n",
    "\n",
    "X = np.load('Input_data_ML.npy')\n",
    "Y = np.load('Output_data_ML.npy')"
   ]
  },
  {
   "cell_type": "code",
   "execution_count": 3,
   "metadata": {
    "colab": {
     "base_uri": "https://localhost:8080/",
     "height": 34
    },
    "colab_type": "code",
    "executionInfo": {
     "elapsed": 226081,
     "status": "ok",
     "timestamp": 1592879121933,
     "user": {
      "displayName": "Vinit Singh",
      "photoUrl": "https://lh3.googleusercontent.com/a-/AOh14GgoL8sImEqXRxPWWhRxjJ5WXMgF2SYIIK4QOnexgbk=s64",
      "userId": "08885898808014521859"
     },
     "user_tz": -330
    },
    "id": "lhOo5EWlWI-J",
    "outputId": "b7cc1036-b6b0-4fe7-d4a9-5c93a95c8b55"
   },
   "outputs": [
    {
     "data": {
      "text/plain": [
       "'\\n#Normalising X\\nx_mean=np.mean(np.mean(X,axis=0),axis=0)\\nx_std=np.std(np.std(X,axis=0),axis=0)\\nX=(X-x_mean)/x_std\\n'"
      ]
     },
     "execution_count": 3,
     "metadata": {},
     "output_type": "execute_result"
    }
   ],
   "source": [
    "#Mean_Norm Scaling of X\n",
    "x_mean=np.mean(np.mean(X,axis=0),axis=0)\n",
    "X=X-x_mean\n",
    "X=X/np.reshape(np.linalg.norm(X,axis=1),(-1,1))\n",
    "\n",
    "'''\n",
    "#Normalising X\n",
    "x_mean=np.mean(np.mean(X,axis=0),axis=0)\n",
    "x_std=np.std(np.std(X,axis=0),axis=0)\n",
    "X=(X-x_mean)/x_std\n",
    "'''"
   ]
  },
  {
   "cell_type": "code",
   "execution_count": 4,
   "metadata": {
    "colab": {
     "base_uri": "https://localhost:8080/",
     "height": 34
    },
    "colab_type": "code",
    "executionInfo": {
     "elapsed": 228100,
     "status": "ok",
     "timestamp": 1592879124278,
     "user": {
      "displayName": "Vinit Singh",
      "photoUrl": "https://lh3.googleusercontent.com/a-/AOh14GgoL8sImEqXRxPWWhRxjJ5WXMgF2SYIIK4QOnexgbk=s64",
      "userId": "08885898808014521859"
     },
     "user_tz": -330
    },
    "id": "eTn6egOeWI_c",
    "outputId": "77f8502f-a22c-41b9-dbee-b4bef95e4389"
   },
   "outputs": [
    {
     "name": "stdout",
     "output_type": "stream",
     "text": [
      "(1050055, 38) (1050055,)\n"
     ]
    }
   ],
   "source": [
    "#Processing Y\n",
    "Y=Y.T\n",
    "\n",
    "Y[Y[:,11]>2*np.pi,11]=Y[Y[:,11]>2*np.pi,11]-2*np.pi\n",
    "Y[Y[:,11]<0,11]=Y[Y[:,11]<0,11]+2*np.pi\n",
    "#Output[:,12:]=Output[:,12:]+2.0*np.pi\n",
    "\n",
    "#Y=np.log(Y)\n",
    "R=np.array([i for i in range(Y.shape[0])])\n",
    "np.random.shuffle(R)\n",
    "X=X[R,:]\n",
    "Y=Y[R,:]  \n",
    "\n",
    "Q1=np.quantile(Y,0.10,axis=0)\n",
    "Q3=np.quantile(Y,0.90,axis=0)\n",
    "IQR=Q3-Q1\n",
    "X=X[~((Y < (Q1 - 1.5 * IQR)) |(Y > (Q3 + 1.5 * IQR))).any(axis=1)]\n",
    "Y=Y[~((Y < (Q1 - 1.5 * IQR)) |(Y > (Q3 + 1.5 * IQR))).any(axis=1)]\n",
    "\n",
    "'''\n",
    "#Standard Scaling of Y\n",
    "y_mean=np.mean(Y,axis=0)\n",
    "y_std=np.std(Y,axis=0)\n",
    "Y=(Y-y_mean)/y_std\n",
    "'''\n",
    "\n",
    "Y=Y[:,0]\n",
    "\n",
    "#Min_Max Scaling of Y\n",
    "y_min=np.min(Y,axis=0)\n",
    "Y=Y-y_min\n",
    "y_max=np.max(Y,axis=0)\n",
    "Y=Y/y_max\n",
    "\n",
    "'''\n",
    "#Unit Sum Scaling of Y\n",
    "Y=Y/np.reshape(np.sum(Y,axis=1),(-1,1))\n",
    "'''\n",
    "\n",
    "print(np.shape(X),np.shape(Y))"
   ]
  },
  {
   "cell_type": "code",
   "execution_count": 5,
   "metadata": {
    "colab": {
     "base_uri": "https://localhost:8080/",
     "height": 34
    },
    "colab_type": "code",
    "executionInfo": {
     "elapsed": 227866,
     "status": "ok",
     "timestamp": 1592879124280,
     "user": {
      "displayName": "Vinit Singh",
      "photoUrl": "https://lh3.googleusercontent.com/a-/AOh14GgoL8sImEqXRxPWWhRxjJ5WXMgF2SYIIK4QOnexgbk=s64",
      "userId": "08885898808014521859"
     },
     "user_tz": -330
    },
    "id": "RyFn9w6uPyCH",
    "outputId": "60c4106d-7abc-4b93-bbee-ca494ad27b41"
   },
   "outputs": [
    {
     "name": "stdout",
     "output_type": "stream",
     "text": [
      "(1050055, 64) (1050055,)\n"
     ]
    }
   ],
   "source": [
    "#Expanding X to a 64-dimensional vector and Y to a 16-dimensional vector. So that log(N) is an integer. \n",
    "\n",
    "m=np.shape(X)[0]\n",
    "\n",
    "X_expand=np.zeros((m,64))\n",
    "X_expand[:,:38]=X\n",
    "\n",
    "Y_expand=Y\n",
    "#Y_expand=np.zeros((m,16))\n",
    "#Y_expand[:,:15]=Y\n",
    "\n",
    "print(np.shape(X_expand),np.shape(Y_expand))"
   ]
  },
  {
   "cell_type": "code",
   "execution_count": 7,
   "metadata": {
    "colab": {
     "base_uri": "https://localhost:8080/",
     "height": 513
    },
    "colab_type": "code",
    "executionInfo": {
     "elapsed": 227658,
     "status": "ok",
     "timestamp": 1592879124287,
     "user": {
      "displayName": "Vinit Singh",
      "photoUrl": "https://lh3.googleusercontent.com/a-/AOh14GgoL8sImEqXRxPWWhRxjJ5WXMgF2SYIIK4QOnexgbk=s64",
      "userId": "08885898808014521859"
     },
     "user_tz": -330
    },
    "id": "A971Wv4mWI9y",
    "outputId": "aee54e6c-2a33-4f30-8f01-d81fd4380547"
   },
   "outputs": [
    {
     "data": {
      "image/png": "[encoded data removed]",
      "text/plain": [
       "<Figure size 432x288 with 1 Axes>"
      ]
     },
     "metadata": {
      "needs_background": "light"
     },
     "output_type": "display_data"
    },
    {
     "data": {
      "image/png": "[encoded data removed]",
      "text/plain": [
       "<Figure size 432x288 with 1 Axes>"
      ]
     },
     "metadata": {
      "needs_background": "light"
     },
     "output_type": "display_data"
    }
   ],
   "source": [
    "key=20000\n",
    "plt.plot(X_expand[key])\n",
    "plt.show()\n",
    "plt.hist(Y_expand)\n",
    "plt.show()"
   ]
  },
  {
   "cell_type": "markdown",
   "metadata": {
    "colab_type": "text",
    "id": "n8z9hTtRUmMp"
   },
   "source": [
    "#### Working with a small dataset "
   ]
  },
  {
   "cell_type": "code",
   "execution_count": 81,
   "metadata": {
    "colab": {
     "base_uri": "https://localhost:8080/",
     "height": 50
    },
    "colab_type": "code",
    "executionInfo": {
     "elapsed": 577161,
     "status": "ok",
     "timestamp": 1592879486979,
     "user": {
      "displayName": "Vinit Singh",
      "photoUrl": "https://lh3.googleusercontent.com/a-/AOh14GgoL8sImEqXRxPWWhRxjJ5WXMgF2SYIIK4QOnexgbk=s64",
      "userId": "08885898808014521859"
     },
     "user_tz": -330
    },
    "id": "NeOrDcRbUmMp",
    "outputId": "6d1ea167-d472-4d4f-fe10-2bf4302a6fb2"
   },
   "outputs": [],
   "source": [
    "key=np.random.randint(m,size=1000)\n",
    "\n",
    "X_small=X_expand[key]\n",
    "Y_small=Y_expand[key]"
   ]
  },
  {
   "cell_type": "markdown",
   "metadata": {
    "colab_type": "text",
    "id": "C0lZZvq0WJBk"
   },
   "source": [
    "## Quantum Neural Network"
   ]
  },
  {
   "cell_type": "code",
   "execution_count": 82,
   "metadata": {
    "colab": {
     "base_uri": "https://localhost:8080/",
     "height": 54
    },
    "colab_type": "code",
    "executionInfo": {
     "elapsed": 575754,
     "status": "ok",
     "timestamp": 1592879486982,
     "user": {
      "displayName": "Vinit Singh",
      "photoUrl": "https://lh3.googleusercontent.com/a-/AOh14GgoL8sImEqXRxPWWhRxjJ5WXMgF2SYIIK4QOnexgbk=s64",
      "userId": "08885898808014521859"
     },
     "user_tz": -330
    },
    "id": "-CA-DquYj0iv",
    "outputId": "d32d1196-9601-42b6-a90e-49cf943c8f91"
   },
   "outputs": [],
   "source": [
    "n_wires=6\n",
    "\n",
    "dev = qml.device(\"default.qubit\", wires=n_wires) #qml.device(\"forest.qvm\", device=\"Aspen-4-4Q-F\")"
   ]
  },
  {
   "cell_type": "code",
   "execution_count": 83,
   "metadata": {},
   "outputs": [],
   "source": [
    "@qml.qnode(dev)\n",
    "def quantum_neural_net(params, x=None):\n",
    "    # Encode input x into quantum state\n",
    "    qml.QubitStateVector(x,wires=list(range(n_wires)))\n",
    "    \n",
    "    n=n_wires\n",
    "    \n",
    "    for i in range(n_wires):\n",
    "        for j in range(n_wires):\n",
    "            qml.RX(params[3*n*i+3*j],wires=j)\n",
    "            qml.RY(params[3*n*i+3*j+1],wires=j)\n",
    "            qml.RZ(params[3*n*i+3*j+2],wires=j)\n",
    "        for j in range(n):\n",
    "            if i==j: continue\n",
    "            qml.CNOT(wires=[i,j])\n",
    "    for j in range(n):\n",
    "        qml.RX(params[3*n**2+3*j],wires=j)\n",
    "        qml.RY(params[3*n**2+3*j+1],wires=j)\n",
    "        qml.RZ(params[3*n**2+3*j+2],wires=j)\n",
    "\n",
    "    return qml.expval(qml.PauliZ(n_wires-1))"
   ]
  },
  {
   "cell_type": "code",
   "execution_count": 84,
   "metadata": {},
   "outputs": [
    {
     "data": {
      "text/plain": [
       "0.021600302778376768"
      ]
     },
     "execution_count": 84,
     "metadata": {},
     "output_type": "execute_result"
    }
   ],
   "source": [
    "#Variable Initialization\n",
    "var_init=np.random.rand(3*n_wires*(n_wires+1))*2*np.pi-np.pi\n",
    "\n",
    "quantum_neural_net(var_init, x=X_small[0,:])"
   ]
  },
  {
   "cell_type": "code",
   "execution_count": 85,
   "metadata": {},
   "outputs": [
    {
     "name": "stdout",
     "output_type": "stream",
     "text": [
      " 0: ──╭QubitStateVector(M0)──RX(-0.061)──RY(1.388)───RZ(-3.079)──╭C────────────╭C──────────────╭C──────────────╭C──────────────╭C──RX(-1.655)──RY(1.661)───RZ(-1.62)───╭X───RX(-2.83)──RY(1.323)───────RZ(1.197)───────────────────────────────────╭X──RX(-1.502)──RY(0.3)──────RZ(-1.574)────────────────────────────────────────────────────────────────────╭X──RX(1.552)────────RY(-1.327)───RZ(-2.612)──────────────────────────────────────────────────────╭X───RX(-1.297)───RY(-2.13)────RZ(-1.998)──────────────────────────────────────────────────╭X───RX(1.025)───RY(-1.246)───RZ(0.405)────────────────────────────────────────────────────┤     \n",
      " 1: ──├QubitStateVector(M0)──RX(2.939)───RY(-0.811)──RZ(2.052)───╰X──RX(1.28)──│───RY(-3.114)──│───RZ(2.225)───│───────────────│───────────────────────────────────────╰C──╭C──────────────────────╭C──────────────╭C──────────────╭C──RX(-2.06)───│───RY(1.715)───RZ(-2.163)──╭X────────────RX(-0.1)──RY(2.907)──────RZ(-3.051)──────────────────────────────│───────────────╭X───RX(-1.544)───RY(1.082)───RZ(-0.465)──────────────────────────────────────────│───╭X────────────RX(-2.226)───RY(-1.278)───RZ(1.618)──────────────────────────────────────│───╭X───────────RX(1.515)────RY(3.114)────RZ(0.426)───────────────────────────────────────┤     \n",
      " 2: ──├QubitStateVector(M0)──RX(1.707)───RY(1.039)───RZ(-3.025)────────────────╰X──RX(-1.466)──│───RY(-2.038)──│───RZ(0.977)───│───────────────────────────────────────────╰X──────────RX(-2.545)──│───RY(-0.825)──│───RZ(1.674)───│───────────────╰C──────────────────────────╰C───────────╭C────────────────────╭C──────────────╭C──RX(0.197)───RY(-2.994)──│───RZ(0.073)───│───╭X────────────RX(0.143)───RY(1.908)───────RZ(2.367)───────────────────────────│───│────────────╭X────────────RX(0.351)────RY(0.289)───RZ(-3.017)─────────────────────────│───│───────────╭X────────────RX(-0.503)───RY(-2.627)──RZ(1.51)────────────────────────────┤     \n",
      " 3: ──├QubitStateVector(M0)──RX(-2.873)──RY(-2.216)──RZ(-0.424)────────────────────────────────╰X──RX(-0.584)──│───RY(-2.377)──│───RZ(-1.285)──────────────────────────────────────────────────────╰X──RX(-3.082)──│───RY(-2.375)──│───RZ(-3.018)───────────────────────────────────────────╰X─────────RX(1.991)──│───RY(-1.377)──│───RZ(1.48)────────────────╰C──────────────╰C──╰C───────────╭C───────────────────────╭C──RX(3.014)───RY(-1.845)──RZ(-1.186)──│───│────────────│────────────╭X────────────RX(-1.704)──RY(-0.101)──RZ(2.496)──────────────│───│───────────│────────────╭X────────────RX(-2.613)──RY(1.355)───RZ(-2.556)──────────────┤     \n",
      " 4: ──├QubitStateVector(M0)──RX(-1.578)──RY(0.242)───RZ(-0.936)────────────────────────────────────────────────╰X──RX(2.783)───│───RY(-0.174)──RZ(-1.399)──────────────────────────────────────────────────────────╰X──RX(-0.819)──│───RY(2.647)───────RZ(2.319)──────────────────────────────────────────────────╰X──RX(-0.969)──│───RY(-2.31)───RZ(-0.409)───────────────────────────────────╰X───────────RX(-0.755)──│───RY(-2.655)──RZ(-1.997)──────────────╰C──╰C───────────╰C───────────╰C───────────╭C───────────RX(-1.611)──RY(1.904)──RZ(-3.021)──│───│───────────│────────────│────────────╭X───────────RX(-2.81)───RY(2.129)───RZ(-1.745)──┤     \n",
      " 5: ──╰QubitStateVector(M0)──RX(-2.51)───RY(1.042)───RZ(-0.792)────────────────────────────────────────────────────────────────╰X──RX(1.988)───RY(2.601)───RZ(-1.967)──────────────────────────────────────────────────────────────╰X──RX(-1.912)──────RY(-2.8)────RZ(-1.289)─────────────────────────────────────────────────────╰X──RX(-1.814)──RY(0.372)───────RZ(-2.632)────────────────────────────────────────────╰X──RX(0.051)───RY(0.525)───RZ(-2.764)─────────────────────────────────────────────╰X───────────RX(-3.108)──RY(1.502)──RZ(-0.214)──╰C──╰C──────────╰C───────────╰C───────────╰C───────────RX(-2.089)──RY(-2.351)──RZ(3.072)───┤ ⟨Z⟩ \n",
      "M0 =\n",
      "[ 0.05198403  0.06619833  0.08233629  0.09875718  0.11330163  0.12327905\n",
      "  0.12557913  0.11702928  0.09515686  0.05948089  0.01323151 -0.0351324\n",
      " -0.07192383 -0.08120061 -0.05079189  0.02117727  0.12334033  0.23405228\n",
      "  0.32884079  0.38848143  0.40414341  0.37812112  0.32092369  0.24680455\n",
      "  0.16976076  0.10106066  0.04831899  0.01557691  0.0037741   0.01118228\n",
      "  0.03360603  0.06438659  0.09449483  0.11326889  0.11043833  0.07952011\n",
      "  0.02125725 -0.05541804  0.          0.          0.          0.\n",
      "  0.          0.          0.          0.          0.          0.\n",
      "  0.          0.          0.          0.          0.          0.\n",
      "  0.          0.          0.          0.          0.          0.\n",
      "  0.          0.          0.          0.        ]\n",
      "\n"
     ]
    }
   ],
   "source": [
    "print(quantum_neural_net.draw())"
   ]
  },
  {
   "cell_type": "code",
   "execution_count": 86,
   "metadata": {
    "colab": {
     "base_uri": "https://localhost:8080/",
     "height": 279
    },
    "colab_type": "code",
    "executionInfo": {
     "elapsed": 1036,
     "status": "ok",
     "timestamp": 1592843975355,
     "user": {
      "displayName": "Vinit Singh",
      "photoUrl": "https://lh3.googleusercontent.com/a-/AOh14GgoL8sImEqXRxPWWhRxjJ5WXMgF2SYIIK4QOnexgbk=s64",
      "userId": "08885898808014521859"
     },
     "user_tz": -330
    },
    "id": "cmFU08rWVrPn",
    "outputId": "e539f1df-35ec-463e-9da4-f06c31ae0326"
   },
   "outputs": [],
   "source": [
    "def square_loss(labels, predictions):\n",
    "    loss = 0\n",
    "    for l, p in zip(labels, predictions):\n",
    "        loss = loss + (l - p) ** 2\n",
    "\n",
    "    loss = loss / len(labels)\n",
    "    return loss"
   ]
  },
  {
   "cell_type": "code",
   "execution_count": 87,
   "metadata": {
    "colab": {},
    "colab_type": "code",
    "executionInfo": {
     "elapsed": 7565,
     "status": "ok",
     "timestamp": 1592840849578,
     "user": {
      "displayName": "Vinit Singh",
      "photoUrl": "https://lh3.googleusercontent.com/a-/AOh14GgoL8sImEqXRxPWWhRxjJ5WXMgF2SYIIK4QOnexgbk=s64",
      "userId": "08885898808014521859"
     },
     "user_tz": -330
    },
    "id": "-KZRPG3eVrPq"
   },
   "outputs": [],
   "source": [
    "def cost(var, features, labels):\n",
    "    preds = [quantum_neural_net(var, x=x) for x in features]\n",
    "    print('@',end='')\n",
    "    return square_loss(labels, preds)"
   ]
  },
  {
   "cell_type": "code",
   "execution_count": null,
   "metadata": {
    "scrolled": false
   },
   "outputs": [
    {
     "name": "stdout",
     "output_type": "stream",
     "text": [
      "@"
     ]
    }
   ],
   "source": [
    "opt = AdamOptimizer(0.1, beta1=0.9, beta2=0.999)\n",
    "\n",
    "var = var_init\n",
    "for it in range(10):\n",
    "    t=time.time()\n",
    "    var = opt.step(lambda v: cost(v, X_small, Y_small), var)\n",
    "    print(\"Iter: {:5d} | Cost: {:0.7f} \".format(it + 1, cost(var, X_small, Y_small)),'\\t',time.time()-t)"
   ]
  },
  {
   "cell_type": "code",
   "execution_count": null,
   "metadata": {},
   "outputs": [],
   "source": [
    "predictions = [quantum_neural_net(var, x=x) for x in X]"
   ]
  },
  {
   "cell_type": "code",
   "execution_count": null,
   "metadata": {
    "colab": {
     "base_uri": "https://localhost:8080/",
     "height": 592
    },
    "colab_type": "code",
    "executionInfo": {
     "elapsed": 1998,
     "status": "ok",
     "timestamp": 1592841751608,
     "user": {
      "displayName": "Vinit Singh",
      "photoUrl": "https://lh3.googleusercontent.com/a-/AOh14GgoL8sImEqXRxPWWhRxjJ5WXMgF2SYIIK4QOnexgbk=s64",
      "userId": "08885898808014521859"
     },
     "user_tz": -330
    },
    "id": "70_VfaRLsz9v",
    "outputId": "c99ec2c6-548a-49ed-aad4-5e9690481b33"
   },
   "outputs": [],
   "source": []
  },
  {
   "cell_type": "code",
   "execution_count": null,
   "metadata": {
    "colab": {},
    "colab_type": "code",
    "executionInfo": {
     "elapsed": 1427034,
     "status": "aborted",
     "timestamp": 1592837055873,
     "user": {
      "displayName": "Vinit Singh",
      "photoUrl": "https://lh3.googleusercontent.com/a-/AOh14GgoL8sImEqXRxPWWhRxjJ5WXMgF2SYIIK4QOnexgbk=s64",
      "userId": "08885898808014521859"
     },
     "user_tz": -330
    },
    "id": "NQ6NxrccPyC8"
   },
   "outputs": [],
   "source": [
    "#1. Run Time Analysis\n",
    "#2. Compare PQC using PauliSum against Expectation Layer  (Should be the same)"
   ]
  },
  {
   "cell_type": "code",
   "execution_count": null,
   "metadata": {
    "colab": {},
    "colab_type": "code",
    "executionInfo": {
     "elapsed": 1426454,
     "status": "aborted",
     "timestamp": 1592837055875,
     "user": {
      "displayName": "Vinit Singh",
      "photoUrl": "https://lh3.googleusercontent.com/a-/AOh14GgoL8sImEqXRxPWWhRxjJ5WXMgF2SYIIK4QOnexgbk=s64",
      "userId": "08885898808014521859"
     },
     "user_tz": -330
    },
    "id": "m3nZ62qdVrP0"
   },
   "outputs": [],
   "source": []
  }
 ],
 "metadata": {
  "accelerator": "GPU",
  "colab": {
   "collapsed_sections": [],
   "name": "Scattering_QML.ipynb",
   "provenance": []
  },
  "kernelspec": {
   "display_name": "Python 3",
   "language": "python",
   "name": "python3"
  },
  "language_info": {
   "codemirror_mode": {
    "name": "ipython",
    "version": 3
   },
   "file_extension": ".py",
   "mimetype": "text/x-python",
   "name": "python",
   "nbconvert_exporter": "python",
   "pygments_lexer": "ipython3",
   "version": "3.6.10"
  }
 },
 "nbformat": 4,
 "nbformat_minor": 1
}
