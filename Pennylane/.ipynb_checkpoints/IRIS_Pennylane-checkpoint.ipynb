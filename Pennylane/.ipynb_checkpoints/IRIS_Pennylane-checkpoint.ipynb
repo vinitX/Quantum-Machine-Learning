{
 "cells": [
  {
   "cell_type": "code",
   "execution_count": 1,
   "metadata": {
    "colab": {
     "base_uri": "https://localhost:8080/",
     "height": 1000
    },
    "colab_type": "code",
    "executionInfo": {
     "elapsed": 18732,
     "status": "ok",
     "timestamp": 1591284849011,
     "user": {
      "displayName": "Vinit Singh",
      "photoUrl": "https://lh3.googleusercontent.com/a-/AOh14GgoL8sImEqXRxPWWhRxjJ5WXMgF2SYIIK4QOnexgbk=s64",
      "userId": "08885898808014521859"
     },
     "user_tz": -330
    },
    "id": "fHG4vYJ09OM7",
    "outputId": "d5d4a855-2a28-429f-b973-b5bbd0eb2fd0"
   },
   "outputs": [],
   "source": [
    "#!pip install pennylane-sf pennylane-qiskit pennylane-cirq pennylane-forest pennylane-qsharp"
   ]
  },
  {
   "cell_type": "markdown",
   "metadata": {
    "colab_type": "text",
    "id": "E6IDtcwuWNpu"
   },
   "source": [
    "\n",
    "Ensemble classification with Forest and Qiskit devices\n",
    "=======================================================\n",
    "\n",
    ".. meta::\n",
    "    :property=\"og:description\": This demonstration outlines how two QPUs can be\n",
    "        combined in parallel to help solve a machine learning classification problem,\n",
    "        using PyTorch and PennyLane.\n",
    "    :property=\"og:image\": https://pennylane.ai/qml/_images/ensemble_diagram.png\n",
    "\n",
    "This tutorial outlines how two QPUs can be combined in parallel to help solve a machine learning\n",
    "classification problem.\n",
    "\n",
    "We use the ``forest.qvm`` device to simulate one QPU and the ``qiskit.aer`` device to\n",
    "simulate another. Each QPU makes an independent prediction, and an ensemble model is\n",
    "formed by choosing the prediction of the most confident QPU. The iris dataset is used in this\n",
    "tutorial, consisting of three classes of iris flower. Using a pre-trained model and the PyTorch\n",
    "interface, we'll see that ensembling allows the QPUs to specialize towards\n",
    "different classes.\n",
    "\n",
    "Let's begin by importing the prerequisite libraries:\n"
   ]
  },
  {
   "cell_type": "code",
   "execution_count": 2,
   "metadata": {
    "colab": {},
    "colab_type": "code",
    "id": "bZ54T9OYWNpv"
   },
   "outputs": [
    {
     "ename": "ModuleNotFoundError",
     "evalue": "No module named 'torch'",
     "output_type": "error",
     "traceback": [
      "\u001b[1;31m---------------------------------------------------------------------------\u001b[0m",
      "\u001b[1;31mModuleNotFoundError\u001b[0m                       Traceback (most recent call last)",
      "\u001b[1;32m<ipython-input-2-bdd8f645f65e>\u001b[0m in \u001b[0;36m<module>\u001b[1;34m\u001b[0m\n\u001b[0;32m      7\u001b[0m \u001b[1;32mimport\u001b[0m \u001b[0msklearn\u001b[0m\u001b[1;33m.\u001b[0m\u001b[0mdatasets\u001b[0m\u001b[1;33m\u001b[0m\u001b[1;33m\u001b[0m\u001b[0m\n\u001b[0;32m      8\u001b[0m \u001b[1;32mimport\u001b[0m \u001b[0msklearn\u001b[0m\u001b[1;33m.\u001b[0m\u001b[0mdecomposition\u001b[0m\u001b[1;33m\u001b[0m\u001b[1;33m\u001b[0m\u001b[0m\n\u001b[1;32m----> 9\u001b[1;33m \u001b[1;32mimport\u001b[0m \u001b[0mtorch\u001b[0m\u001b[1;33m\u001b[0m\u001b[1;33m\u001b[0m\u001b[0m\n\u001b[0m\u001b[0;32m     10\u001b[0m \u001b[1;32mfrom\u001b[0m \u001b[0mmatplotlib\u001b[0m\u001b[1;33m.\u001b[0m\u001b[0mlines\u001b[0m \u001b[1;32mimport\u001b[0m \u001b[0mLine2D\u001b[0m\u001b[1;33m\u001b[0m\u001b[1;33m\u001b[0m\u001b[0m\n\u001b[0;32m     11\u001b[0m \u001b[1;32mfrom\u001b[0m \u001b[0mmatplotlib\u001b[0m\u001b[1;33m.\u001b[0m\u001b[0mpatches\u001b[0m \u001b[1;32mimport\u001b[0m \u001b[0mPatch\u001b[0m\u001b[1;33m\u001b[0m\u001b[1;33m\u001b[0m\u001b[0m\n",
      "\u001b[1;31mModuleNotFoundError\u001b[0m: No module named 'torch'"
     ]
    }
   ],
   "source": [
    "from collections import Counter\n",
    "\n",
    "import matplotlib.pyplot as plt\n",
    "%matplotlib inline\n",
    "import numpy as np\n",
    "import pennylane as qml\n",
    "import sklearn.datasets\n",
    "import sklearn.decomposition\n",
    "import torch\n",
    "from matplotlib.lines import Line2D\n",
    "from matplotlib.patches import Patch"
   ]
  },
  {
   "cell_type": "markdown",
   "metadata": {
    "colab_type": "text",
    "id": "8V028Oc4WNpy"
   },
   "source": [
    "This tutorial requires the ``pennylane-forest`` and ``pennylane-qiskit`` packages, which can be\n",
    "installed by following the instructions `here <https://pennylane.ai/install.html>`__. We also\n",
    "make use of the `PyTorch interface <https://pennylane.readthedocs.io/en/stable/introduction\n",
    "/interfaces.html>`_, which can be installed from `here\n",
    "<https://pytorch.org/get-started/locally/>`__.\n",
    "\n",
    "Load data\n",
    "---------\n",
    "\n",
    "The next step is to load the iris dataset.\n",
    "\n"
   ]
  },
  {
   "cell_type": "code",
   "execution_count": null,
   "metadata": {
    "colab": {},
    "colab_type": "code",
    "id": "mbzdECyLWNpy"
   },
   "outputs": [],
   "source": [
    "n_features = 2\n",
    "n_classes = 3\n",
    "n_samples = 150\n",
    "\n",
    "data = sklearn.datasets.load_iris()\n",
    "x = data[\"data\"]\n",
    "y = data[\"target\"]"
   ]
  },
  {
   "cell_type": "markdown",
   "metadata": {
    "colab_type": "text",
    "id": "u3QyHWJrWNp1"
   },
   "source": [
    "We shuffle the data and then embed the four features into a two-dimensional space for ease of\n",
    "plotting later on. The first two principal components of the data are used.\n",
    "\n"
   ]
  },
  {
   "cell_type": "code",
   "execution_count": null,
   "metadata": {
    "colab": {},
    "colab_type": "code",
    "id": "7IjxQhfQWNp1"
   },
   "outputs": [],
   "source": [
    "np.random.seed(1967)\n",
    "x, y = zip(*np.random.permutation(list(zip(x, y))))\n",
    "\n",
    "pca = sklearn.decomposition.PCA(n_components=n_features)\n",
    "pca.fit(x)\n",
    "x = pca.transform(x)"
   ]
  },
  {
   "cell_type": "markdown",
   "metadata": {
    "colab_type": "text",
    "id": "TRj5Q5k3WNp4"
   },
   "source": [
    "We will be encoding these two features into quantum circuits using :class:`~.pennylane.RX`\n",
    "rotations, and hence renormalize our features to be between $[-\\pi, \\pi]$.\n",
    "\n"
   ]
  },
  {
   "cell_type": "code",
   "execution_count": null,
   "metadata": {
    "colab": {},
    "colab_type": "code",
    "id": "pzvNe6rqWNp4"
   },
   "outputs": [],
   "source": [
    "x_min = np.min(x, axis=0)\n",
    "x_max = np.max(x, axis=0)\n",
    "\n",
    "x = 2 * np.pi * (x - x_min) / (x_max - x_min) - np.pi"
   ]
  },
  {
   "cell_type": "markdown",
   "metadata": {
    "colab_type": "text",
    "id": "iGqGYjWJWNp7"
   },
   "source": [
    "The data is split between a training and a test set. This tutorial uses a model that is\n",
    "pre-trained on the training set.\n",
    "\n"
   ]
  },
  {
   "cell_type": "code",
   "execution_count": null,
   "metadata": {
    "colab": {},
    "colab_type": "code",
    "id": "rmN8fHteWNp8"
   },
   "outputs": [],
   "source": [
    "split = 125\n",
    "\n",
    "x_train = x[:split]\n",
    "x_test = x[split:]\n",
    "y_train = y[:split]\n",
    "y_test = y[split:]"
   ]
  },
  {
   "cell_type": "markdown",
   "metadata": {
    "colab_type": "text",
    "id": "7voTFyAlWNp_"
   },
   "source": [
    "Finally, let's take a quick look at our data:\n",
    "\n"
   ]
  },
  {
   "cell_type": "code",
   "execution_count": 3,
   "metadata": {
    "colab": {
     "base_uri": "https://localhost:8080/",
     "height": 284
    },
    "colab_type": "code",
    "executionInfo": {
     "elapsed": 2567,
     "status": "ok",
     "timestamp": 1591284871579,
     "user": {
      "displayName": "Vinit Singh",
      "photoUrl": "https://lh3.googleusercontent.com/a-/AOh14GgoL8sImEqXRxPWWhRxjJ5WXMgF2SYIIK4QOnexgbk=s64",
      "userId": "08885898808014521859"
     },
     "user_tz": -330
    },
    "id": "pwbqkMWbWNp_",
    "outputId": "a8328412-0c52-4b3a-c1a1-ab8a3e772897"
   },
   "outputs": [
    {
     "ename": "NameError",
     "evalue": "name 'x_train' is not defined",
     "output_type": "error",
     "traceback": [
      "\u001b[1;31m---------------------------------------------------------------------------\u001b[0m",
      "\u001b[1;31mNameError\u001b[0m                                 Traceback (most recent call last)",
      "\u001b[1;32m<ipython-input-3-89869c088f4a>\u001b[0m in \u001b[0;36m<module>\u001b[1;34m\u001b[0m\n\u001b[0;32m     36\u001b[0m \u001b[1;33m\u001b[0m\u001b[0m\n\u001b[0;32m     37\u001b[0m \u001b[1;33m\u001b[0m\u001b[0m\n\u001b[1;32m---> 38\u001b[1;33m \u001b[0mplot_points\u001b[0m\u001b[1;33m(\u001b[0m\u001b[0mx_train\u001b[0m\u001b[1;33m,\u001b[0m \u001b[0my_train\u001b[0m\u001b[1;33m,\u001b[0m \u001b[0mx_test\u001b[0m\u001b[1;33m,\u001b[0m \u001b[0my_test\u001b[0m\u001b[1;33m)\u001b[0m\u001b[1;33m\u001b[0m\u001b[1;33m\u001b[0m\u001b[0m\n\u001b[0m",
      "\u001b[1;31mNameError\u001b[0m: name 'x_train' is not defined"
     ]
    }
   ],
   "source": [
    "colours = [\"#ec6f86\", \"#4573e7\", \"#ad61ed\"]\n",
    "\n",
    "\n",
    "def plot_points(x_train, y_train, x_test, y_test):\n",
    "    c_train = []\n",
    "    c_test = []\n",
    "\n",
    "    for y in y_train:\n",
    "        c_train.append(colours[y])\n",
    "\n",
    "    for y in y_test:\n",
    "        c_test.append(colours[y])\n",
    "\n",
    "    plt.scatter(x_train[:, 0], x_train[:, 1], c=c_train)\n",
    "    plt.scatter(x_test[:, 0], x_test[:, 1], c=c_test, marker=\"x\")\n",
    "\n",
    "    plt.xlabel(\"Feature 1\", fontsize=16)\n",
    "    plt.ylabel(\"Feature 2\", fontsize=16)\n",
    "\n",
    "    ax = plt.gca()\n",
    "    ax.set_aspect(1)\n",
    "\n",
    "    c_transparent = \"#00000000\"\n",
    "\n",
    "    custom_lines = [\n",
    "        Patch(facecolor=colours[0], edgecolor=c_transparent, label=\"Class 0\"),\n",
    "        Patch(facecolor=colours[1], edgecolor=c_transparent, label=\"Class 1\"),\n",
    "        Patch(facecolor=colours[2], edgecolor=c_transparent, label=\"Class 2\"),\n",
    "        Line2D([0], [0], marker=\"o\", color=c_transparent, label=\"Train\",\n",
    "               markerfacecolor=\"black\", markersize=10),\n",
    "        Line2D([0], [0], marker=\"x\", color=c_transparent, label=\"Test\",\n",
    "               markerfacecolor=\"black\", markersize=10),\n",
    "    ]\n",
    "\n",
    "    ax.legend(handles=custom_lines, bbox_to_anchor=(1.0, 0.75))\n",
    "\n",
    "\n",
    "plot_points(x_train, y_train, x_test, y_test)"
   ]
  },
  {
   "cell_type": "markdown",
   "metadata": {
    "colab_type": "text",
    "id": "gppqnTh0WNqC"
   },
   "source": [
    "This plot shows us that class 0 points can be nicely separated, but that there is an overlap\n",
    "between points from classes 1 and 2.\n",
    "\n",
    "Define model\n",
    "------------\n",
    "\n",
    "Our model is summarized in the figure below. We use two 4-qubit devices: ``Aspen-4-4Q-F``\n",
    "from the PennyLane-Forest plugin and ``qiskit.aer`` from the PennyLane-Qiskit plugin.\n",
    "\n",
    "Data is input using :class:`~.pennylane.RX` rotations and then a different circuit is enacted\n",
    "for each device with a unique set of trainable parameters. The output of both circuits is a\n",
    ":class:`~.pennylane.PauliZ` measurement on three of the qubits. This is then fed through a\n",
    "softmax function, resulting in two 3-dimensional probability vectors corresponding to the 3\n",
    "classes.\n",
    "\n",
    "Finally, the ensemble model chooses the QPU which is most confident about its prediction\n",
    "(i.e., the class with the highest overall probability over all QPUs) and uses that to make a\n",
    "prediction.\n",
    "\n",
    ".. figure:: /demonstrations/ensemble_multi_qpu/ensemble_diagram.png\n",
    "   :width: 50%\n",
    "   :align: center\n",
    "\n",
    "Quantum nodes\n",
    "^^^^^^^^^^^^^\n",
    "\n",
    "We begin by defining the two quantum devices and the circuits to be run on them.\n",
    "\n"
   ]
  },
  {
   "cell_type": "code",
   "execution_count": 27,
   "metadata": {
    "colab": {
     "base_uri": "https://localhost:8080/",
     "height": 346
    },
    "colab_type": "code",
    "executionInfo": {
     "elapsed": 1789,
     "status": "error",
     "timestamp": 1591284874613,
     "user": {
      "displayName": "Vinit Singh",
      "photoUrl": "https://lh3.googleusercontent.com/a-/AOh14GgoL8sImEqXRxPWWhRxjJ5WXMgF2SYIIK4QOnexgbk=s64",
      "userId": "08885898808014521859"
     },
     "user_tz": -330
    },
    "id": "CoE362mIWNqD",
    "outputId": "b55f7ce2-fe1d-4211-99e7-05c99f499f6c"
   },
   "outputs": [
    {
     "ename": "DeviceError",
     "evalue": "ignored",
     "output_type": "error",
     "traceback": [
      "\u001b[0;31m---------------------------------------------------------------------------\u001b[0m",
      "\u001b[0;31mDeviceError\u001b[0m                               Traceback (most recent call last)",
      "\u001b[0;32m<ipython-input-27-6ac622de0d27>\u001b[0m in \u001b[0;36m<module>\u001b[0;34m()\u001b[0m\n\u001b[1;32m      1\u001b[0m \u001b[0mn_wires\u001b[0m \u001b[0;34m=\u001b[0m \u001b[0;36m4\u001b[0m\u001b[0;34m\u001b[0m\u001b[0;34m\u001b[0m\u001b[0m\n\u001b[1;32m      2\u001b[0m \u001b[0;34m\u001b[0m\u001b[0m\n\u001b[0;32m----> 3\u001b[0;31m \u001b[0mdev0\u001b[0m \u001b[0;34m=\u001b[0m \u001b[0mqml\u001b[0m\u001b[0;34m.\u001b[0m\u001b[0mdevice\u001b[0m\u001b[0;34m(\u001b[0m\u001b[0;34m\"forest.qvm\"\u001b[0m\u001b[0;34m,\u001b[0m \u001b[0mdevice\u001b[0m\u001b[0;34m=\u001b[0m\u001b[0;34m\"Aspen-4-4Q-F\"\u001b[0m\u001b[0;34m)\u001b[0m\u001b[0;34m\u001b[0m\u001b[0;34m\u001b[0m\u001b[0m\n\u001b[0m\u001b[1;32m      4\u001b[0m \u001b[0mdev1\u001b[0m \u001b[0;34m=\u001b[0m \u001b[0mqml\u001b[0m\u001b[0;34m.\u001b[0m\u001b[0mdevice\u001b[0m\u001b[0;34m(\u001b[0m\u001b[0;34m\"qiskit.aer\"\u001b[0m\u001b[0;34m,\u001b[0m \u001b[0mwires\u001b[0m\u001b[0;34m=\u001b[0m\u001b[0;36m4\u001b[0m\u001b[0;34m)\u001b[0m\u001b[0;34m\u001b[0m\u001b[0;34m\u001b[0m\u001b[0m\n\u001b[1;32m      5\u001b[0m \u001b[0mdevs\u001b[0m \u001b[0;34m=\u001b[0m \u001b[0;34m[\u001b[0m\u001b[0mdev0\u001b[0m\u001b[0;34m,\u001b[0m \u001b[0mdev1\u001b[0m\u001b[0;34m]\u001b[0m\u001b[0;34m\u001b[0m\u001b[0;34m\u001b[0m\u001b[0m\n",
      "\u001b[0;32m/usr/local/lib/python3.6/dist-packages/pennylane/__init__.py\u001b[0m in \u001b[0;36mdevice\u001b[0;34m(name, *args, **kwargs)\u001b[0m\n\u001b[1;32m    164\u001b[0m         \u001b[0;32mreturn\u001b[0m \u001b[0mplugin_device_class\u001b[0m\u001b[0;34m(\u001b[0m\u001b[0;34m*\u001b[0m\u001b[0margs\u001b[0m\u001b[0;34m,\u001b[0m \u001b[0;34m**\u001b[0m\u001b[0moptions\u001b[0m\u001b[0;34m)\u001b[0m\u001b[0;34m\u001b[0m\u001b[0;34m\u001b[0m\u001b[0m\n\u001b[1;32m    165\u001b[0m \u001b[0;34m\u001b[0m\u001b[0m\n\u001b[0;32m--> 166\u001b[0;31m     \u001b[0;32mraise\u001b[0m \u001b[0mDeviceError\u001b[0m\u001b[0;34m(\u001b[0m\u001b[0;34m\"Device does not exist. Make sure the required plugin is installed.\"\u001b[0m\u001b[0;34m)\u001b[0m\u001b[0;34m\u001b[0m\u001b[0;34m\u001b[0m\u001b[0m\n\u001b[0m\u001b[1;32m    167\u001b[0m \u001b[0;34m\u001b[0m\u001b[0m\n\u001b[1;32m    168\u001b[0m \u001b[0;34m\u001b[0m\u001b[0m\n",
      "\u001b[0;31mDeviceError\u001b[0m: Device does not exist. Make sure the required plugin is installed."
     ]
    }
   ],
   "source": [
    "n_wires = 4\n",
    "\n",
    "dev0 = qml.device(\"forest.qvm\", device=\"Aspen-4-4Q-F\")\n",
    "dev1 = qml.device(\"qiskit.aer\", wires=4)\n",
    "devs = [dev0, dev1]"
   ]
  },
  {
   "cell_type": "markdown",
   "metadata": {
    "colab_type": "text",
    "id": "1gyqEf_dWNqF"
   },
   "source": [
    "<div class=\"alert alert-info\"><h4>Note</h4><p>If you have access to Rigetti hardware, you can swap out ``forest.qvm`` for ``forest.qpu``.\n",
    "   Users with access to the IBM Q Experience can swap ``qiskit.aer`` for ``qiskit.ibmq`` and\n",
    "   specify their chosen backend (see `here\n",
    "   <https://pennylane-qiskit.readthedocs.io/en/latest/gettingstarted.html#ibm-q-experience>`__).</p></div>\n",
    "\n",
    "<div class=\"alert alert-danger\"><h4>Warning</h4><p>Rigetti's QVM and Quil Compiler services must be running for this tutorial to execute. They\n",
    "   can be installed by consulting the `Rigetti documentation\n",
    "   <http://docs.rigetti.com/en/stable/>`__ or, for users with Docker, by running:\n",
    "\n",
    "   .. code-block:: bash\n",
    "\n",
    "       docker run -d -p 5555:5555 rigetti/quilc -R -p 5555\n",
    "       docker run -d -p 5000:5000 rigetti/qvm -S -p 5000</p></div>\n",
    "\n",
    "The circuits for both QPUs are shown in the figure below:\n",
    "\n",
    ".. figure:: /demonstrations/ensemble_multi_qpu/diagram_circuits.png\n",
    "   :width: 50%\n",
    "   :align: center\n",
    "\n"
   ]
  },
  {
   "cell_type": "code",
   "execution_count": 0,
   "metadata": {
    "colab": {},
    "colab_type": "code",
    "id": "opRvwU0EWNqF"
   },
   "outputs": [],
   "source": [
    "def circuit0(params, x=None):\n",
    "    for i in range(n_wires):\n",
    "        qml.RX(x[i % n_features], wires=i)\n",
    "        qml.Rot(*params[1, 0, i], wires=i)\n",
    "\n",
    "    qml.CZ(wires=[1, 0])\n",
    "    qml.CZ(wires=[1, 2])\n",
    "    qml.CZ(wires=[3, 0])\n",
    "\n",
    "    for i in range(n_wires):\n",
    "        qml.Rot(*params[1, 1, i], wires=i)\n",
    "    return qml.expval(qml.PauliZ(0)), qml.expval(qml.PauliZ(1)), qml.expval(qml.PauliZ(2))\n",
    "\n",
    "\n",
    "def circuit1(params, x=None):\n",
    "    for i in range(n_wires):\n",
    "        qml.RX(x[i % n_features], wires=i)\n",
    "        qml.Rot(*params[0, 0, i], wires=i)\n",
    "\n",
    "    qml.CZ(wires=[0, 1])\n",
    "    qml.CZ(wires=[1, 2])\n",
    "    qml.CZ(wires=[1, 3])\n",
    "\n",
    "    for i in range(n_wires):\n",
    "        qml.Rot(*params[0, 1, i], wires=i)\n",
    "    return qml.expval(qml.PauliZ(0)), qml.expval(qml.PauliZ(1)), qml.expval(qml.PauliZ(2))"
   ]
  },
  {
   "cell_type": "markdown",
   "metadata": {
    "colab_type": "text",
    "id": "26lDdowTWNqH"
   },
   "source": [
    "We finally combine the two devices into a :class:`~.pennylane.QNodeCollection` that uses the\n",
    "PyTorch interface:\n",
    "\n"
   ]
  },
  {
   "cell_type": "code",
   "execution_count": 0,
   "metadata": {
    "colab": {
     "base_uri": "https://localhost:8080/",
     "height": 212
    },
    "colab_type": "code",
    "executionInfo": {
     "elapsed": 1660,
     "status": "error",
     "timestamp": 1589698322570,
     "user": {
      "displayName": "Vinit Singh",
      "photoUrl": "https://lh3.googleusercontent.com/a-/AOh14GgoL8sImEqXRxPWWhRxjJ5WXMgF2SYIIK4QOnexgbk=s64",
      "userId": "08885898808014521859"
     },
     "user_tz": -330
    },
    "id": "74vRS54rWNqI",
    "outputId": "8289eddf-5d92-492e-d379-9035bf0886e1"
   },
   "outputs": [
    {
     "ename": "NameError",
     "evalue": "ignored",
     "output_type": "error",
     "traceback": [
      "\u001b[0;31m---------------------------------------------------------------------------\u001b[0m",
      "\u001b[0;31mNameError\u001b[0m                                 Traceback (most recent call last)",
      "\u001b[0;32m<ipython-input-10-336152f8e67c>\u001b[0m in \u001b[0;36m<module>\u001b[0;34m()\u001b[0m\n\u001b[1;32m      1\u001b[0m qnodes = qml.QNodeCollection(\n\u001b[0;32m----> 2\u001b[0;31m     [qml.QNode(circuit0, dev0, interface=\"torch\"),\n\u001b[0m\u001b[1;32m      3\u001b[0m      qml.QNode(circuit1, dev1, interface=\"torch\")]\n\u001b[1;32m      4\u001b[0m )\n",
      "\u001b[0;31mNameError\u001b[0m: name 'dev0' is not defined"
     ]
    }
   ],
   "source": [
    "qnodes = qml.QNodeCollection(\n",
    "    [qml.QNode(circuit0, dev0, interface=\"torch\"),\n",
    "     qml.QNode(circuit1, dev1, interface=\"torch\")]\n",
    ")"
   ]
  },
  {
   "cell_type": "markdown",
   "metadata": {
    "colab_type": "text",
    "id": "NnYCcyBsWNqK"
   },
   "source": [
    "Postprocessing into a prediction\n",
    "^^^^^^^^^^^^^^^^^^^^^^^^^^^^^^^^\n",
    "\n",
    "The ``predict_point`` function below allows us to find the ensemble prediction, as well as keeping\n",
    "track of the individual predictions from each QPU.\n",
    "\n",
    "We include a ``parallel`` keyword argument for evaluating the :class:`~.pennylane.QNodeCollection`\n",
    "in a parallel asynchronous manner. This feature requires the ``dask`` library, which can be\n",
    "installed using ``pip install \"dask[delayed]\"``. When ``parallel=True``, we are able to make\n",
    "predictions faster because we do not need to wait for one QPU to output before running on the\n",
    "other.\n",
    "\n"
   ]
  },
  {
   "cell_type": "code",
   "execution_count": 0,
   "metadata": {
    "colab": {},
    "colab_type": "code",
    "id": "QEO7UkxhWNqK"
   },
   "outputs": [],
   "source": [
    "def decision(softmax):\n",
    "    return int(torch.argmax(softmax))\n",
    "\n",
    "\n",
    "def predict_point(params, x_point=None, parallel=True):\n",
    "    results = qnodes(params, x=x_point, parallel=parallel)\n",
    "    softmax = torch.nn.functional.softmax(results, dim=1)\n",
    "    choice = torch.where(softmax == torch.max(softmax))[0][0]\n",
    "    chosen_softmax = softmax[choice]\n",
    "    return decision(chosen_softmax), decision(softmax[0]), decision(softmax[1]), int(choice)"
   ]
  },
  {
   "cell_type": "markdown",
   "metadata": {
    "colab_type": "text",
    "id": "0OC07LoxWNqM"
   },
   "source": [
    "Next, let's define a function to make a predictions over multiple data points.\n",
    "\n"
   ]
  },
  {
   "cell_type": "code",
   "execution_count": 0,
   "metadata": {
    "colab": {},
    "colab_type": "code",
    "id": "do5F0dMsWNqN"
   },
   "outputs": [],
   "source": [
    "def predict(params, x=None, parallel=True):\n",
    "    predictions_ensemble = []\n",
    "    predictions_0 = []\n",
    "    predictions_1 = []\n",
    "    choices = []\n",
    "\n",
    "    for i, x_point in enumerate(x):\n",
    "        if i % 10 == 0 and i > 0:\n",
    "            print(\"Completed up to iteration {}\".format(i))\n",
    "        results = predict_point(params, x_point=x_point, parallel=parallel)\n",
    "        predictions_ensemble.append(results[0])\n",
    "        predictions_0.append(results[1])\n",
    "        predictions_1.append(results[2])\n",
    "        choices.append(results[3])\n",
    "\n",
    "    return predictions_ensemble, predictions_0, predictions_1, choices"
   ]
  },
  {
   "cell_type": "markdown",
   "metadata": {
    "colab_type": "text",
    "id": "40Uq4hNeWNqP"
   },
   "source": [
    "Make predictions\n",
    "----------------\n",
    "\n",
    "To test our model, we first load a pre-trained set of parameters which can also be downloaded\n",
    "by clicking :download:`here <../demonstrations/ensemble_multi_qpu/params.npy>`.\n",
    "\n"
   ]
  },
  {
   "cell_type": "code",
   "execution_count": 0,
   "metadata": {
    "colab": {
     "base_uri": "https://localhost:8080/",
     "height": 121
    },
    "colab_type": "code",
    "executionInfo": {
     "elapsed": 35598,
     "status": "ok",
     "timestamp": 1589698625058,
     "user": {
      "displayName": "Vinit Singh",
      "photoUrl": "https://lh3.googleusercontent.com/a-/AOh14GgoL8sImEqXRxPWWhRxjJ5WXMgF2SYIIK4QOnexgbk=s64",
      "userId": "08885898808014521859"
     },
     "user_tz": -330
    },
    "id": "sEywFdtoWNqQ",
    "outputId": "cc64713f-e2bb-4936-c4c8-43ed2def9bc8"
   },
   "outputs": [
    {
     "name": "stdout",
     "output_type": "stream",
     "text": [
      "Go to this URL in a browser: https://accounts.google.com/o/oauth2/auth?client_id=947318989803-6bn6qk8qdgf4n4g3pfee6491hc0brc4i.apps.googleusercontent.com&redirect_uri=urn%3aietf%3awg%3aoauth%3a2.0%3aoob&response_type=code&scope=email%20https%3a%2f%2fwww.googleapis.com%2fauth%2fdocs.test%20https%3a%2f%2fwww.googleapis.com%2fauth%2fdrive%20https%3a%2f%2fwww.googleapis.com%2fauth%2fdrive.photos.readonly%20https%3a%2f%2fwww.googleapis.com%2fauth%2fpeopleapi.readonly\n",
      "\n",
      "Enter your authorization code:\n",
      "··········\n",
      "Mounted at /content/drive\n"
     ]
    }
   ],
   "source": [
    "from google.colab import drive\n",
    "drive.mount('/content/drive')\n",
    "\n",
    "params = np.load('/content/drive/My Drive/Quantum Research/QML Scattering/params.npy')"
   ]
  },
  {
   "cell_type": "markdown",
   "metadata": {
    "colab_type": "text",
    "id": "dygNKcAJWNqT"
   },
   "source": [
    "We can then make predictions for the training and test datasets.\n",
    "\n"
   ]
  },
  {
   "cell_type": "code",
   "execution_count": 0,
   "metadata": {
    "colab": {
     "base_uri": "https://localhost:8080/",
     "height": 370
    },
    "colab_type": "code",
    "executionInfo": {
     "elapsed": 1578,
     "status": "error",
     "timestamp": 1589698666791,
     "user": {
      "displayName": "Vinit Singh",
      "photoUrl": "https://lh3.googleusercontent.com/a-/AOh14GgoL8sImEqXRxPWWhRxjJ5WXMgF2SYIIK4QOnexgbk=s64",
      "userId": "08885898808014521859"
     },
     "user_tz": -330
    },
    "id": "RTjY_FzrWNqT",
    "outputId": "5415a773-b630-4493-94ba-c26c61e3966d"
   },
   "outputs": [
    {
     "name": "stdout",
     "output_type": "stream",
     "text": [
      "Predicting on training dataset\n"
     ]
    },
    {
     "ename": "NameError",
     "evalue": "ignored",
     "output_type": "error",
     "traceback": [
      "\u001b[0;31m---------------------------------------------------------------------------\u001b[0m",
      "\u001b[0;31mNameError\u001b[0m                                 Traceback (most recent call last)",
      "\u001b[0;32m<ipython-input-20-1e87174f0d01>\u001b[0m in \u001b[0;36m<module>\u001b[0;34m()\u001b[0m\n\u001b[1;32m      1\u001b[0m \u001b[0mprint\u001b[0m\u001b[0;34m(\u001b[0m\u001b[0;34m\"Predicting on training dataset\"\u001b[0m\u001b[0;34m)\u001b[0m\u001b[0;34m\u001b[0m\u001b[0;34m\u001b[0m\u001b[0m\n\u001b[0;32m----> 2\u001b[0;31m \u001b[0mp_train\u001b[0m\u001b[0;34m,\u001b[0m \u001b[0mp_train_0\u001b[0m\u001b[0;34m,\u001b[0m \u001b[0mp_train_1\u001b[0m\u001b[0;34m,\u001b[0m \u001b[0mchoices_train\u001b[0m \u001b[0;34m=\u001b[0m \u001b[0mpredict\u001b[0m\u001b[0;34m(\u001b[0m\u001b[0mparams\u001b[0m\u001b[0;34m,\u001b[0m \u001b[0mx\u001b[0m\u001b[0;34m=\u001b[0m\u001b[0mx_train\u001b[0m\u001b[0;34m)\u001b[0m\u001b[0;34m\u001b[0m\u001b[0;34m\u001b[0m\u001b[0m\n\u001b[0m\u001b[1;32m      3\u001b[0m \u001b[0mprint\u001b[0m\u001b[0;34m(\u001b[0m\u001b[0;34m\"Predicting on test dataset\"\u001b[0m\u001b[0;34m)\u001b[0m\u001b[0;34m\u001b[0m\u001b[0;34m\u001b[0m\u001b[0m\n\u001b[1;32m      4\u001b[0m \u001b[0mp_test\u001b[0m\u001b[0;34m,\u001b[0m \u001b[0mp_test_0\u001b[0m\u001b[0;34m,\u001b[0m \u001b[0mp_test_1\u001b[0m\u001b[0;34m,\u001b[0m \u001b[0mchoices_test\u001b[0m \u001b[0;34m=\u001b[0m \u001b[0mpredict\u001b[0m\u001b[0;34m(\u001b[0m\u001b[0mparams\u001b[0m\u001b[0;34m,\u001b[0m \u001b[0mx\u001b[0m\u001b[0;34m=\u001b[0m\u001b[0mx_test\u001b[0m\u001b[0;34m)\u001b[0m\u001b[0;34m\u001b[0m\u001b[0;34m\u001b[0m\u001b[0m\n",
      "\u001b[0;32m<ipython-input-12-0aef4e8339b7>\u001b[0m in \u001b[0;36mpredict\u001b[0;34m(params, x, parallel)\u001b[0m\n\u001b[1;32m      8\u001b[0m         \u001b[0;32mif\u001b[0m \u001b[0mi\u001b[0m \u001b[0;34m%\u001b[0m \u001b[0;36m10\u001b[0m \u001b[0;34m==\u001b[0m \u001b[0;36m0\u001b[0m \u001b[0;32mand\u001b[0m \u001b[0mi\u001b[0m \u001b[0;34m>\u001b[0m \u001b[0;36m0\u001b[0m\u001b[0;34m:\u001b[0m\u001b[0;34m\u001b[0m\u001b[0;34m\u001b[0m\u001b[0m\n\u001b[1;32m      9\u001b[0m             \u001b[0mprint\u001b[0m\u001b[0;34m(\u001b[0m\u001b[0;34m\"Completed up to iteration {}\"\u001b[0m\u001b[0;34m.\u001b[0m\u001b[0mformat\u001b[0m\u001b[0;34m(\u001b[0m\u001b[0mi\u001b[0m\u001b[0;34m)\u001b[0m\u001b[0;34m)\u001b[0m\u001b[0;34m\u001b[0m\u001b[0;34m\u001b[0m\u001b[0m\n\u001b[0;32m---> 10\u001b[0;31m         \u001b[0mresults\u001b[0m \u001b[0;34m=\u001b[0m \u001b[0mpredict_point\u001b[0m\u001b[0;34m(\u001b[0m\u001b[0mparams\u001b[0m\u001b[0;34m,\u001b[0m \u001b[0mx_point\u001b[0m\u001b[0;34m=\u001b[0m\u001b[0mx_point\u001b[0m\u001b[0;34m,\u001b[0m \u001b[0mparallel\u001b[0m\u001b[0;34m=\u001b[0m\u001b[0mparallel\u001b[0m\u001b[0;34m)\u001b[0m\u001b[0;34m\u001b[0m\u001b[0;34m\u001b[0m\u001b[0m\n\u001b[0m\u001b[1;32m     11\u001b[0m         \u001b[0mpredictions_ensemble\u001b[0m\u001b[0;34m.\u001b[0m\u001b[0mappend\u001b[0m\u001b[0;34m(\u001b[0m\u001b[0mresults\u001b[0m\u001b[0;34m[\u001b[0m\u001b[0;36m0\u001b[0m\u001b[0;34m]\u001b[0m\u001b[0;34m)\u001b[0m\u001b[0;34m\u001b[0m\u001b[0;34m\u001b[0m\u001b[0m\n\u001b[1;32m     12\u001b[0m         \u001b[0mpredictions_0\u001b[0m\u001b[0;34m.\u001b[0m\u001b[0mappend\u001b[0m\u001b[0;34m(\u001b[0m\u001b[0mresults\u001b[0m\u001b[0;34m[\u001b[0m\u001b[0;36m1\u001b[0m\u001b[0;34m]\u001b[0m\u001b[0;34m)\u001b[0m\u001b[0;34m\u001b[0m\u001b[0;34m\u001b[0m\u001b[0m\n",
      "\u001b[0;32m<ipython-input-11-6194e6608aa9>\u001b[0m in \u001b[0;36mpredict_point\u001b[0;34m(params, x_point, parallel)\u001b[0m\n\u001b[1;32m      4\u001b[0m \u001b[0;34m\u001b[0m\u001b[0m\n\u001b[1;32m      5\u001b[0m \u001b[0;32mdef\u001b[0m \u001b[0mpredict_point\u001b[0m\u001b[0;34m(\u001b[0m\u001b[0mparams\u001b[0m\u001b[0;34m,\u001b[0m \u001b[0mx_point\u001b[0m\u001b[0;34m=\u001b[0m\u001b[0;32mNone\u001b[0m\u001b[0;34m,\u001b[0m \u001b[0mparallel\u001b[0m\u001b[0;34m=\u001b[0m\u001b[0;32mTrue\u001b[0m\u001b[0;34m)\u001b[0m\u001b[0;34m:\u001b[0m\u001b[0;34m\u001b[0m\u001b[0;34m\u001b[0m\u001b[0m\n\u001b[0;32m----> 6\u001b[0;31m     \u001b[0mresults\u001b[0m \u001b[0;34m=\u001b[0m \u001b[0mqnodes\u001b[0m\u001b[0;34m(\u001b[0m\u001b[0mparams\u001b[0m\u001b[0;34m,\u001b[0m \u001b[0mx\u001b[0m\u001b[0;34m=\u001b[0m\u001b[0mx_point\u001b[0m\u001b[0;34m,\u001b[0m \u001b[0mparallel\u001b[0m\u001b[0;34m=\u001b[0m\u001b[0mparallel\u001b[0m\u001b[0;34m)\u001b[0m\u001b[0;34m\u001b[0m\u001b[0;34m\u001b[0m\u001b[0m\n\u001b[0m\u001b[1;32m      7\u001b[0m     \u001b[0msoftmax\u001b[0m \u001b[0;34m=\u001b[0m \u001b[0mtorch\u001b[0m\u001b[0;34m.\u001b[0m\u001b[0mnn\u001b[0m\u001b[0;34m.\u001b[0m\u001b[0mfunctional\u001b[0m\u001b[0;34m.\u001b[0m\u001b[0msoftmax\u001b[0m\u001b[0;34m(\u001b[0m\u001b[0mresults\u001b[0m\u001b[0;34m,\u001b[0m \u001b[0mdim\u001b[0m\u001b[0;34m=\u001b[0m\u001b[0;36m1\u001b[0m\u001b[0;34m)\u001b[0m\u001b[0;34m\u001b[0m\u001b[0;34m\u001b[0m\u001b[0m\n\u001b[1;32m      8\u001b[0m     \u001b[0mchoice\u001b[0m \u001b[0;34m=\u001b[0m \u001b[0mtorch\u001b[0m\u001b[0;34m.\u001b[0m\u001b[0mwhere\u001b[0m\u001b[0;34m(\u001b[0m\u001b[0msoftmax\u001b[0m \u001b[0;34m==\u001b[0m \u001b[0mtorch\u001b[0m\u001b[0;34m.\u001b[0m\u001b[0mmax\u001b[0m\u001b[0;34m(\u001b[0m\u001b[0msoftmax\u001b[0m\u001b[0;34m)\u001b[0m\u001b[0;34m)\u001b[0m\u001b[0;34m[\u001b[0m\u001b[0;36m0\u001b[0m\u001b[0;34m]\u001b[0m\u001b[0;34m[\u001b[0m\u001b[0;36m0\u001b[0m\u001b[0;34m]\u001b[0m\u001b[0;34m\u001b[0m\u001b[0;34m\u001b[0m\u001b[0m\n",
      "\u001b[0;31mNameError\u001b[0m: name 'qnodes' is not defined"
     ]
    }
   ],
   "source": [
    "print(\"Predicting on training dataset\")\n",
    "p_train, p_train_0, p_train_1, choices_train = predict(params, x=x_train)\n",
    "print(\"Predicting on test dataset\")\n",
    "p_test, p_test_0, p_test_1, choices_test = predict(params, x=x_test)"
   ]
  },
  {
   "cell_type": "markdown",
   "metadata": {
    "colab_type": "text",
    "id": "DmMOw-i8WNqV"
   },
   "source": [
    "Analyze performance\n",
    "-------------------\n",
    "\n",
    "The last thing to do is test how well the model performs. We begin by looking at the accuracy.\n",
    "\n",
    "Accuracy\n",
    "^^^^^^^^\n",
    "\n"
   ]
  },
  {
   "cell_type": "code",
   "execution_count": 0,
   "metadata": {
    "colab": {},
    "colab_type": "code",
    "id": "Fb5iaICfWNqW"
   },
   "outputs": [],
   "source": [
    "def accuracy(predictions, actuals):\n",
    "    count = 0\n",
    "\n",
    "    for i in range(len(predictions)):\n",
    "        if predictions[i] == actuals[i]:\n",
    "            count += 1\n",
    "\n",
    "    accuracy = count / (len(predictions))\n",
    "    return accuracy"
   ]
  },
  {
   "cell_type": "code",
   "execution_count": 0,
   "metadata": {
    "colab": {
     "base_uri": "https://localhost:8080/",
     "height": 195
    },
    "colab_type": "code",
    "executionInfo": {
     "elapsed": 1349,
     "status": "error",
     "timestamp": 1589698325558,
     "user": {
      "displayName": "Vinit Singh",
      "photoUrl": "https://lh3.googleusercontent.com/a-/AOh14GgoL8sImEqXRxPWWhRxjJ5WXMgF2SYIIK4QOnexgbk=s64",
      "userId": "08885898808014521859"
     },
     "user_tz": -330
    },
    "id": "EBFo8IhkWNqY",
    "outputId": "802a5e99-bb4c-4bcf-ccad-7a930569d75d"
   },
   "outputs": [
    {
     "ename": "NameError",
     "evalue": "ignored",
     "output_type": "error",
     "traceback": [
      "\u001b[0;31m---------------------------------------------------------------------------\u001b[0m",
      "\u001b[0;31mNameError\u001b[0m                                 Traceback (most recent call last)",
      "\u001b[0;32m<ipython-input-16-b01d7a406b5d>\u001b[0m in \u001b[0;36m<module>\u001b[0;34m()\u001b[0m\n\u001b[0;32m----> 1\u001b[0;31m \u001b[0mprint\u001b[0m\u001b[0;34m(\u001b[0m\u001b[0;34m\"Training accuracy (ensemble): {}\"\u001b[0m\u001b[0;34m.\u001b[0m\u001b[0mformat\u001b[0m\u001b[0;34m(\u001b[0m\u001b[0maccuracy\u001b[0m\u001b[0;34m(\u001b[0m\u001b[0mp_train\u001b[0m\u001b[0;34m,\u001b[0m \u001b[0my_train\u001b[0m\u001b[0;34m)\u001b[0m\u001b[0;34m)\u001b[0m\u001b[0;34m)\u001b[0m\u001b[0;34m\u001b[0m\u001b[0;34m\u001b[0m\u001b[0m\n\u001b[0m\u001b[1;32m      2\u001b[0m \u001b[0mprint\u001b[0m\u001b[0;34m(\u001b[0m\u001b[0;34m\"Training accuracy (QPU0):  {}\"\u001b[0m\u001b[0;34m.\u001b[0m\u001b[0mformat\u001b[0m\u001b[0;34m(\u001b[0m\u001b[0maccuracy\u001b[0m\u001b[0;34m(\u001b[0m\u001b[0mp_train_0\u001b[0m\u001b[0;34m,\u001b[0m \u001b[0my_train\u001b[0m\u001b[0;34m)\u001b[0m\u001b[0;34m)\u001b[0m\u001b[0;34m)\u001b[0m\u001b[0;34m\u001b[0m\u001b[0;34m\u001b[0m\u001b[0m\n\u001b[1;32m      3\u001b[0m \u001b[0mprint\u001b[0m\u001b[0;34m(\u001b[0m\u001b[0;34m\"Training accuracy (QPU1):  {}\"\u001b[0m\u001b[0;34m.\u001b[0m\u001b[0mformat\u001b[0m\u001b[0;34m(\u001b[0m\u001b[0maccuracy\u001b[0m\u001b[0;34m(\u001b[0m\u001b[0mp_train_1\u001b[0m\u001b[0;34m,\u001b[0m \u001b[0my_train\u001b[0m\u001b[0;34m)\u001b[0m\u001b[0;34m)\u001b[0m\u001b[0;34m)\u001b[0m\u001b[0;34m\u001b[0m\u001b[0;34m\u001b[0m\u001b[0m\n",
      "\u001b[0;31mNameError\u001b[0m: name 'p_train' is not defined"
     ]
    }
   ],
   "source": [
    "print(\"Training accuracy (ensemble): {}\".format(accuracy(p_train, y_train)))\n",
    "print(\"Training accuracy (QPU0):  {}\".format(accuracy(p_train_0, y_train)))\n",
    "print(\"Training accuracy (QPU1):  {}\".format(accuracy(p_train_1, y_train)))"
   ]
  },
  {
   "cell_type": "code",
   "execution_count": 0,
   "metadata": {
    "colab": {},
    "colab_type": "code",
    "id": "OycaeT1rWNqb"
   },
   "outputs": [],
   "source": [
    "print(\"Test accuracy (ensemble): {}\".format(accuracy(p_test, y_test)))\n",
    "print(\"Test accuracy (QPU0):  {}\".format(accuracy(p_test_0, y_test)))\n",
    "print(\"Test accuracy (QPU1):  {}\".format(accuracy(p_test_1, y_test)))"
   ]
  },
  {
   "cell_type": "markdown",
   "metadata": {
    "colab_type": "text",
    "id": "NMLC19rvWNqd"
   },
   "source": [
    "These numbers tell us a few things:\n",
    "\n",
    "- On both training and test datasets, the ensemble model outperforms the predictions from each\n",
    "  QPU. This provides a nice example of how QPUs can be used in parallel to gain a performance\n",
    "  advantage.\n",
    "\n",
    "- The accuracy of QPU0 is much higher than the accuracy of QPU1. This does not mean that one\n",
    "  device is intrinsically better than the other. In fact, another set of parameters can lead to\n",
    "  QPU1 becoming more accurate. We will see in the next section that the difference in accuracy\n",
    "  is due to specialization of each QPU, which leads to overall better performance of the\n",
    "  ensemble model.\n",
    "\n",
    "- The test accuracy is lower than the training accuracy. Here our focus is on analyzing the\n",
    "  performance of the ensemble model, rather than minimizing the generalization error.\n",
    "\n",
    "Choice of QPU\n",
    "^^^^^^^^^^^^^\n",
    "\n",
    "Is there a link between the class of a datapoint and the QPU chosen to make the prediction in\n",
    "the ensemble model? Let's investigate.\n",
    "\n"
   ]
  },
  {
   "cell_type": "code",
   "execution_count": 0,
   "metadata": {
    "colab": {
     "base_uri": "https://localhost:8080/",
     "height": 212
    },
    "colab_type": "code",
    "executionInfo": {
     "elapsed": 1205,
     "status": "error",
     "timestamp": 1589698326428,
     "user": {
      "displayName": "Vinit Singh",
      "photoUrl": "https://lh3.googleusercontent.com/a-/AOh14GgoL8sImEqXRxPWWhRxjJ5WXMgF2SYIIK4QOnexgbk=s64",
      "userId": "08885898808014521859"
     },
     "user_tz": -330
    },
    "id": "xCidjCtnWNqd",
    "outputId": "7c4d1001-a7e9-47b0-8891-20198f9f8dc0"
   },
   "outputs": [
    {
     "ename": "NameError",
     "evalue": "ignored",
     "output_type": "error",
     "traceback": [
      "\u001b[0;31m---------------------------------------------------------------------------\u001b[0m",
      "\u001b[0;31mNameError\u001b[0m                                 Traceback (most recent call last)",
      "\u001b[0;32m<ipython-input-17-50e117398faf>\u001b[0m in \u001b[0;36m<module>\u001b[0;34m()\u001b[0m\n\u001b[1;32m      1\u001b[0m \u001b[0;31m# Combine choices_train and choices_test to simplify analysis\u001b[0m\u001b[0;34m\u001b[0m\u001b[0;34m\u001b[0m\u001b[0;34m\u001b[0m\u001b[0m\n\u001b[0;32m----> 2\u001b[0;31m \u001b[0mchoices\u001b[0m \u001b[0;34m=\u001b[0m \u001b[0mnp\u001b[0m\u001b[0;34m.\u001b[0m\u001b[0mappend\u001b[0m\u001b[0;34m(\u001b[0m\u001b[0mchoices_train\u001b[0m\u001b[0;34m,\u001b[0m \u001b[0mchoices_test\u001b[0m\u001b[0;34m)\u001b[0m\u001b[0;34m\u001b[0m\u001b[0;34m\u001b[0m\u001b[0m\n\u001b[0m\u001b[1;32m      3\u001b[0m \u001b[0mprint\u001b[0m\u001b[0;34m(\u001b[0m\u001b[0;34m\"Choices: {}\"\u001b[0m\u001b[0;34m.\u001b[0m\u001b[0mformat\u001b[0m\u001b[0;34m(\u001b[0m\u001b[0mchoices\u001b[0m\u001b[0;34m)\u001b[0m\u001b[0;34m)\u001b[0m\u001b[0;34m\u001b[0m\u001b[0;34m\u001b[0m\u001b[0m\n\u001b[1;32m      4\u001b[0m \u001b[0mprint\u001b[0m\u001b[0;34m(\u001b[0m\u001b[0;34m\"Choices counts: {}\"\u001b[0m\u001b[0;34m.\u001b[0m\u001b[0mformat\u001b[0m\u001b[0;34m(\u001b[0m\u001b[0mCounter\u001b[0m\u001b[0;34m(\u001b[0m\u001b[0mchoices\u001b[0m\u001b[0;34m)\u001b[0m\u001b[0;34m)\u001b[0m\u001b[0;34m)\u001b[0m\u001b[0;34m\u001b[0m\u001b[0;34m\u001b[0m\u001b[0m\n",
      "\u001b[0;31mNameError\u001b[0m: name 'choices_train' is not defined"
     ]
    }
   ],
   "source": [
    "# Combine choices_train and choices_test to simplify analysis\n",
    "choices = np.append(choices_train, choices_test)\n",
    "print(\"Choices: {}\".format(choices))\n",
    "print(\"Choices counts: {}\".format(Counter(choices)))"
   ]
  },
  {
   "cell_type": "markdown",
   "metadata": {
    "colab_type": "text",
    "id": "xCaeHhMhWNqf"
   },
   "source": [
    "The following lines keep track of choices and corresponding predictions in the ensemble model.\n",
    "\n"
   ]
  },
  {
   "cell_type": "code",
   "execution_count": 0,
   "metadata": {
    "colab": {
     "base_uri": "https://localhost:8080/",
     "height": 178
    },
    "colab_type": "code",
    "executionInfo": {
     "elapsed": 1284,
     "status": "error",
     "timestamp": 1589698327277,
     "user": {
      "displayName": "Vinit Singh",
      "photoUrl": "https://lh3.googleusercontent.com/a-/AOh14GgoL8sImEqXRxPWWhRxjJ5WXMgF2SYIIK4QOnexgbk=s64",
      "userId": "08885898808014521859"
     },
     "user_tz": -330
    },
    "id": "QFUytUwpWNqf",
    "outputId": "1a3750e5-0b98-4d06-c689-1a3b51d3ccc7"
   },
   "outputs": [
    {
     "ename": "NameError",
     "evalue": "ignored",
     "output_type": "error",
     "traceback": [
      "\u001b[0;31m---------------------------------------------------------------------------\u001b[0m",
      "\u001b[0;31mNameError\u001b[0m                                 Traceback (most recent call last)",
      "\u001b[0;32m<ipython-input-18-94c3e968c411>\u001b[0m in \u001b[0;36m<module>\u001b[0;34m()\u001b[0m\n\u001b[0;32m----> 1\u001b[0;31m \u001b[0mpredictions\u001b[0m \u001b[0;34m=\u001b[0m \u001b[0mnp\u001b[0m\u001b[0;34m.\u001b[0m\u001b[0mappend\u001b[0m\u001b[0;34m(\u001b[0m\u001b[0mp_train\u001b[0m\u001b[0;34m,\u001b[0m \u001b[0mp_test\u001b[0m\u001b[0;34m)\u001b[0m\u001b[0;34m\u001b[0m\u001b[0;34m\u001b[0m\u001b[0m\n\u001b[0m\u001b[1;32m      2\u001b[0m \u001b[0mchoice_vs_prediction\u001b[0m \u001b[0;34m=\u001b[0m \u001b[0mnp\u001b[0m\u001b[0;34m.\u001b[0m\u001b[0marray\u001b[0m\u001b[0;34m(\u001b[0m\u001b[0;34m[\u001b[0m\u001b[0;34m(\u001b[0m\u001b[0mchoices\u001b[0m\u001b[0;34m[\u001b[0m\u001b[0mi\u001b[0m\u001b[0;34m]\u001b[0m\u001b[0;34m,\u001b[0m \u001b[0mpredictions\u001b[0m\u001b[0;34m[\u001b[0m\u001b[0mi\u001b[0m\u001b[0;34m]\u001b[0m\u001b[0;34m)\u001b[0m \u001b[0;32mfor\u001b[0m \u001b[0mi\u001b[0m \u001b[0;32min\u001b[0m \u001b[0mrange\u001b[0m\u001b[0;34m(\u001b[0m\u001b[0mn_samples\u001b[0m\u001b[0;34m)\u001b[0m\u001b[0;34m]\u001b[0m\u001b[0;34m)\u001b[0m\u001b[0;34m\u001b[0m\u001b[0;34m\u001b[0m\u001b[0m\n",
      "\u001b[0;31mNameError\u001b[0m: name 'p_train' is not defined"
     ]
    }
   ],
   "source": [
    "predictions = np.append(p_train, p_test)\n",
    "choice_vs_prediction = np.array([(choices[i], predictions[i]) for i in range(n_samples)])"
   ]
  },
  {
   "cell_type": "markdown",
   "metadata": {
    "colab_type": "text",
    "id": "HMQMnEiCWNqj"
   },
   "source": [
    "We can hence find the predictions each QPU was responsible for.\n",
    "\n"
   ]
  },
  {
   "cell_type": "code",
   "execution_count": 0,
   "metadata": {
    "colab": {},
    "colab_type": "code",
    "id": "6B1QJkwhWNqj"
   },
   "outputs": [],
   "source": [
    "choices_vs_prediction_0 = choice_vs_prediction[choice_vs_prediction[:, 0] == 0]\n",
    "choices_vs_prediction_1 = choice_vs_prediction[choice_vs_prediction[:, 0] == 1]\n",
    "predictions_0 = choices_vs_prediction_0[:, 1]\n",
    "predictions_1 = choices_vs_prediction_1[:, 1]\n",
    "\n",
    "\n",
    "expl = \"When QPU{} was chosen by the ensemble, it made the following distribution of \" \\\n",
    "       \"predictions:\\n{}\"\n",
    "print(expl.format(\"0\", Counter(predictions_0)))\n",
    "print(\"\\n\" + expl.format(\"1\", Counter(predictions_1)))\n",
    "print(\"\\nDistribution of classes in iris dataset: {}\".format(Counter(y)))"
   ]
  },
  {
   "cell_type": "markdown",
   "metadata": {
    "colab_type": "text",
    "id": "6WDlmKggWNql"
   },
   "source": [
    "These results show us that QPU0 specializes to making predictions on classes 0 and 2,\n",
    "while QPU1 specializes to class 1.\n",
    "\n",
    "Visualization\n",
    "^^^^^^^^^^^^^\n",
    "\n",
    "We conclude by visualizing the correct and incorrect predictions on the dataset. The following\n",
    "function plots correctly predicted points in green and incorrectly predicted points in red.\n",
    "\n"
   ]
  },
  {
   "cell_type": "code",
   "execution_count": 0,
   "metadata": {
    "colab": {},
    "colab_type": "code",
    "id": "dpdgHSakWNql"
   },
   "outputs": [],
   "source": [
    "colours_prediction = {\"correct\": \"#83b5b9\", \"incorrect\": \"#f98d91\"}\n",
    "markers = [\"o\", \"v\", \"d\"]\n",
    "\n",
    "\n",
    "def plot_points_prediction(x, y, p, title):\n",
    "    c = {0: [], 1: [], 2: []}\n",
    "    x_ = {0: [], 1: [], 2: []}\n",
    "\n",
    "    for i in range(n_samples):\n",
    "        x_[y[i]].append(x[i])\n",
    "        if p[i] == y[i]:\n",
    "            c[y[i]].append(colours_prediction[\"correct\"])\n",
    "        else:\n",
    "            c[y[i]].append(colours_prediction[\"incorrect\"])\n",
    "\n",
    "    for i in range(n_classes):\n",
    "        x_class = np.array(x_[i])\n",
    "        plt.scatter(x_class[:, 0], x_class[:, 1], c=c[i], marker=markers[i])\n",
    "\n",
    "    plt.xlabel(\"Feature 1\", fontsize=16)\n",
    "    plt.ylabel(\"Feature 2\", fontsize=16)\n",
    "    plt.title(\"Predictions from {} model\".format(title))\n",
    "\n",
    "    ax = plt.gca()\n",
    "    ax.set_aspect(1)\n",
    "\n",
    "    c_transparent = \"#00000000\"\n",
    "\n",
    "    custom_lines = [\n",
    "        Patch(\n",
    "            facecolor=colours_prediction[\"correct\"],\n",
    "            edgecolor=c_transparent, label=\"Correct\"\n",
    "        ),\n",
    "        Patch(\n",
    "            facecolor=colours_prediction[\"incorrect\"],\n",
    "            edgecolor=c_transparent, label=\"Incorrect\"\n",
    "        ),\n",
    "        Line2D([0], [0], marker=markers[0], color=c_transparent, label=\"Class 0\",\n",
    "               markerfacecolor=\"black\", markersize=10),\n",
    "        Line2D([0], [0], marker=markers[1], color=c_transparent, label=\"Class 1\",\n",
    "               markerfacecolor=\"black\", markersize=10),\n",
    "        Line2D([0], [0], marker=markers[2], color=c_transparent, label=\"Class 2\",\n",
    "               markerfacecolor=\"black\", markersize=10),\n",
    "    ]\n",
    "\n",
    "    ax.legend(handles=custom_lines, bbox_to_anchor=(1.0, 0.75))"
   ]
  },
  {
   "cell_type": "markdown",
   "metadata": {
    "colab_type": "text",
    "id": "mmGMcKV3WNqo"
   },
   "source": [
    "We can again compare the ensemble model with the individual models from each QPU.\n",
    "\n"
   ]
  },
  {
   "cell_type": "code",
   "execution_count": 0,
   "metadata": {
    "colab": {},
    "colab_type": "code",
    "id": "m9CKZm4SWNqp"
   },
   "outputs": [],
   "source": [
    "plot_points_prediction(x, y, predictions, \"ensemble\")  # ensemble"
   ]
  },
  {
   "cell_type": "code",
   "execution_count": 0,
   "metadata": {
    "colab": {},
    "colab_type": "code",
    "id": "L_DyYr7QWNqr"
   },
   "outputs": [],
   "source": [
    "plot_points_prediction(x, y, np.append(p_train_0, p_test_0), \"QPU0\")  # QPU 0"
   ]
  },
  {
   "cell_type": "code",
   "execution_count": 0,
   "metadata": {
    "colab": {},
    "colab_type": "code",
    "id": "sdj1lI28WNqs"
   },
   "outputs": [],
   "source": [
    "plot_points_prediction(x, y, np.append(p_train_1, p_test_1), \"QPU1\")  # QPU 1"
   ]
  },
  {
   "cell_type": "markdown",
   "metadata": {
    "colab_type": "text",
    "id": "oEr_8Yd4WNqu"
   },
   "source": [
    "These plots reinforce the specialization of the two QPUs. QPU1 concentrates on doing a good job\n",
    "at predicting class 1, while QPU0 is focused on classes 0 and 2. By combining together,\n",
    "the resultant ensemble performs better.\n",
    "\n",
    "This tutorial shows how QPUs can work in parallel to realize a performance advantage. Check out\n",
    "our :doc:`tutorial_vqe_parallel` tutorial to see how multiple QPUs can be\n",
    "evaluated asynchronously to speed up calculating the potential energy surface of molecular\n",
    "hydrogen!\n",
    "\n"
   ]
  }
 ],
 "metadata": {
  "colab": {
   "name": "Pennylane_IRIS.ipynb",
   "provenance": []
  },
  "kernelspec": {
   "display_name": "Python 3",
   "language": "python",
   "name": "python3"
  },
  "language_info": {
   "codemirror_mode": {
    "name": "ipython",
    "version": 3
   },
   "file_extension": ".py",
   "mimetype": "text/x-python",
   "name": "python",
   "nbconvert_exporter": "python",
   "pygments_lexer": "ipython3",
   "version": "3.6.10"
  }
 },
 "nbformat": 4,
 "nbformat_minor": 1
}
