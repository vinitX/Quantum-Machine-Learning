{
 "cells": [
  {
   "cell_type": "code",
   "execution_count": 69,
   "metadata": {},
   "outputs": [],
   "source": [
    "import pennylane as qml\n",
    "from pennylane import numpy as np\n",
    "from pennylane.optimize import AdamOptimizer\n",
    "%matplotlib inline"
   ]
  },
  {
   "cell_type": "code",
   "execution_count": 130,
   "metadata": {},
   "outputs": [],
   "source": [
    "q=2\n",
    "dev = qml.device(\"default.qubit\", wires=q)"
   ]
  },
  {
   "cell_type": "code",
   "execution_count": 208,
   "metadata": {},
   "outputs": [],
   "source": [
    "X=np.random.randn(100,2**q)\n",
    "X=X/np.reshape(np.linalg.norm(X,axis=1),(-1,1))\n",
    "\n",
    "Y=np.abs(np.fft.fft(X,axis=1))**2/(2**q)"
   ]
  },
  {
   "cell_type": "code",
   "execution_count": 210,
   "metadata": {},
   "outputs": [
    {
     "data": {
      "image/png": "[encoded data removed]",
      "text/plain": [
       "<Figure size 432x288 with 1 Axes>"
      ]
     },
     "metadata": {
      "needs_background": "light"
     },
     "output_type": "display_data"
    },
    {
     "data": {
      "image/png": "[encoded data removed]",
      "text/plain": [
       "<Figure size 432x288 with 1 Axes>"
      ]
     },
     "metadata": {
      "needs_background": "light"
     },
     "output_type": "display_data"
    }
   ],
   "source": [
    "plt.plot(X[50,:])\n",
    "plt.show()\n",
    "plt.plot(Y[50,:])\n",
    "plt.show()"
   ]
  },
  {
   "cell_type": "code",
   "execution_count": 211,
   "metadata": {},
   "outputs": [],
   "source": [
    "@qml.qnode(dev)\n",
    "def quantum_neural_net(params, x=None):\n",
    "    # Encode input x into quantum state\n",
    "    qml.QubitStateVector(x,wires=[0,1])\n",
    "    \n",
    "    for i in range(q):\n",
    "        qml.RX(params[i*3], wires=i)\n",
    "        qml.RY(params[i*3+1], wires=i)\n",
    "        qml.RZ(params[i*3+2], wires=i)\n",
    "\n",
    "    return qml.probs(wires=[0, 1])  #[qml.expval(qml.PauliZ(i)) for i in range(2)]"
   ]
  },
  {
   "cell_type": "code",
   "execution_count": 212,
   "metadata": {},
   "outputs": [
    {
     "data": {
      "text/plain": [
       "array([0.0572932 , 0.38383386, 0.23271042, 0.32616252])"
      ]
     },
     "execution_count": 212,
     "metadata": {},
     "output_type": "execute_result"
    }
   ],
   "source": [
    "quantum_neural_net(var, x=X[0,:])"
   ]
  },
  {
   "cell_type": "code",
   "execution_count": 217,
   "metadata": {},
   "outputs": [
    {
     "name": "stdout",
     "output_type": "stream",
     "text": [
      " 0: ──╭QubitStateVector(M0)──RX(-2.16)──RY(2.308)──RZ(0.002)───╭┤ Probs \n",
      " 1: ──╰QubitStateVector(M0)──RX(2.667)──RY(2.025)──RZ(-0.358)──╰┤ Probs \n",
      "M0 =\n",
      "[-0.41139791  0.69568504  0.58378698  0.0772454 ]\n",
      "\n"
     ]
    }
   ],
   "source": [
    "print(quantum_neural_net.draw())"
   ]
  },
  {
   "cell_type": "code",
   "execution_count": 213,
   "metadata": {},
   "outputs": [],
   "source": [
    "def square_loss(labels, predictions):\n",
    "    loss = 0\n",
    "    for l, p in zip(labels, predictions):\n",
    "        loss = loss + (l - p) ** 2\n",
    "\n",
    "    loss = loss / len(labels)\n",
    "    return loss"
   ]
  },
  {
   "cell_type": "code",
   "execution_count": 214,
   "metadata": {},
   "outputs": [],
   "source": [
    "def cost(var, features, labels):\n",
    "    preds = [quantum_neural_net(var, x=x) for x in features]\n",
    "    return square_loss(labels, preds)"
   ]
  },
  {
   "cell_type": "code",
   "execution_count": 215,
   "metadata": {},
   "outputs": [
    {
     "name": "stdout",
     "output_type": "stream",
     "text": [
      "[-2.16001847e+00  2.30800003e+00  1.50124676e-03  2.66693680e+00\n",
      "  2.02541652e+00 -3.58267034e-01]\n"
     ]
    }
   ],
   "source": [
    "#Variable Initialization\n",
    "var_init=np.random.rand(q*3)*2*np.pi-np.pi\n",
    "print(var_init)"
   ]
  },
  {
   "cell_type": "code",
   "execution_count": 216,
   "metadata": {
    "scrolled": true
   },
   "outputs": [
    {
     "name": "stdout",
     "output_type": "stream",
     "text": [
      "Autograd ArrayBox with value [0.49087975 0.15966005 0.15688588 0.19257431]\n",
      "Autograd ArrayBox with value [0.1818461  0.26074513 0.53420295 0.02320582]\n",
      "Autograd ArrayBox with value [0.56171842 0.16778356 0.25891554 0.01158248]\n",
      "Autograd ArrayBox with value [0.09631875 0.18549498 0.05823019 0.65995607]\n",
      "Autograd ArrayBox with value [0.39233934 0.1398777  0.23599318 0.23178978]\n",
      "Autograd ArrayBox with value [0.34385426 0.04082689 0.54512057 0.07019827]\n",
      "Autograd ArrayBox with value [0.31480636 0.09905183 0.12186646 0.46427535]\n",
      "Autograd ArrayBox with value [0.25545621 0.25122709 0.12370583 0.36961088]\n",
      "Autograd ArrayBox with value [0.57562163 0.25426865 0.07196004 0.09814968]\n",
      "Autograd ArrayBox with value [0.28382991 0.47955832 0.02770118 0.20891058]\n",
      "Autograd ArrayBox with value [0.3838649  0.10322808 0.25644154 0.25646548]\n",
      "Autograd ArrayBox with value [0.58201333 0.16514966 0.11627007 0.13656695]\n",
      "Autograd ArrayBox with value [0.5624724  0.21429347 0.16221848 0.06101566]\n",
      "Autograd ArrayBox with value [0.01975037 0.77116636 0.01292686 0.19615641]\n",
      "Autograd ArrayBox with value [0.07940047 0.15366787 0.72248423 0.04444743]\n",
      "Autograd ArrayBox with value [0.34308149 0.46976826 0.05924063 0.12790962]\n",
      "Autograd ArrayBox with value [0.34692889 0.10705359 0.49098994 0.05502758]\n",
      "Autograd ArrayBox with value [0.45154746 0.3275954  0.19779315 0.02306399]\n",
      "Autograd ArrayBox with value [0.09627041 0.3793548  0.27402265 0.25035214]\n",
      "Autograd ArrayBox with value [0.2091399  0.31331425 0.13889328 0.33865258]\n",
      "Autograd ArrayBox with value [0.14038948 0.74406451 0.02723872 0.0883073 ]\n",
      "Autograd ArrayBox with value [0.46846762 0.33074943 0.10125184 0.09953111]\n",
      "Autograd ArrayBox with value [0.43822946 0.42762852 0.09986926 0.03427276]\n",
      "Autograd ArrayBox with value [0.05775455 0.77276432 0.05027072 0.11921041]\n",
      "Autograd ArrayBox with value [0.26948104 0.09948601 0.07222902 0.55880393]\n",
      "Autograd ArrayBox with value [0.57940265 0.10412269 0.06671272 0.24976194]\n",
      "Autograd ArrayBox with value [0.33036842 0.26500611 0.37039778 0.03422769]\n",
      "Autograd ArrayBox with value [0.2021403  0.03628831 0.54050633 0.22106506]\n",
      "Autograd ArrayBox with value [0.38604712 0.30479875 0.19643484 0.11271929]\n",
      "Autograd ArrayBox with value [0.09056479 0.46632167 0.3219074  0.12120614]\n",
      "Autograd ArrayBox with value [0.1852519  0.44448901 0.25605487 0.11420422]\n",
      "Autograd ArrayBox with value [0.36556879 0.11452694 0.24460554 0.27529873]\n",
      "Autograd ArrayBox with value [0.33953446 0.04150157 0.41242491 0.20653906]\n",
      "Autograd ArrayBox with value [0.48900968 0.00887904 0.45352694 0.04858434]\n",
      "Autograd ArrayBox with value [0.0863484  0.32734282 0.50245308 0.0838557 ]\n",
      "Autograd ArrayBox with value [0.31347856 0.16755626 0.18039675 0.33856842]\n",
      "Autograd ArrayBox with value [0.38655371 0.39801364 0.18180644 0.0336262 ]\n",
      "Autograd ArrayBox with value [0.20340936 0.11379421 0.10577537 0.57702106]\n",
      "Autograd ArrayBox with value [0.0506521  0.61812122 0.0026035  0.32862317]\n",
      "Autograd ArrayBox with value [0.42340171 0.41285187 0.13574971 0.0279967 ]\n",
      "Autograd ArrayBox with value [0.23259436 0.32961326 0.00779496 0.42999742]\n",
      "Autograd ArrayBox with value [0.05019382 0.16342059 0.64297737 0.14340822]\n",
      "Autograd ArrayBox with value [0.01491154 0.43054276 0.11185573 0.44268998]\n",
      "Autograd ArrayBox with value [0.08840715 0.12134499 0.6950662  0.09518166]\n",
      "Autograd ArrayBox with value [0.2010159  0.045953   0.23669252 0.51633859]\n",
      "Autograd ArrayBox with value [0.63886615 0.16778587 0.18518608 0.0081619 ]\n",
      "Autograd ArrayBox with value [0.09666046 0.6987503  0.00749417 0.19709507]\n",
      "Autograd ArrayBox with value [0.25712323 0.18048034 0.47064736 0.09174907]\n",
      "Autograd ArrayBox with value [0.18159424 0.02394017 0.70927373 0.08519185]\n",
      "Autograd ArrayBox with value [0.51679973 0.09004462 0.03000355 0.3631521 ]\n",
      "Autograd ArrayBox with value [0.17947936 0.06300565 0.75078663 0.00672836]\n",
      "Autograd ArrayBox with value [0.1456823  0.61754218 0.1764394  0.06033613]\n",
      "Autograd ArrayBox with value [0.37949321 0.0334654  0.08405098 0.50299041]\n",
      "Autograd ArrayBox with value [0.15199668 0.14084329 0.21584452 0.49131551]\n",
      "Autograd ArrayBox with value [0.4562864  0.06469375 0.16399203 0.31502783]\n",
      "Autograd ArrayBox with value [0.02735479 0.45776459 0.42118832 0.0936923 ]\n",
      "Autograd ArrayBox with value [0.19878035 0.05104628 0.69773272 0.05244065]\n",
      "Autograd ArrayBox with value [0.81682788 0.02690173 0.1465747  0.0096957 ]\n",
      "Autograd ArrayBox with value [0.77719022 0.02789274 0.14512536 0.04979169]\n",
      "Autograd ArrayBox with value [0.38085849 0.11091136 0.49663115 0.011599  ]\n",
      "Autograd ArrayBox with value [0.03901499 0.38881177 0.03549091 0.53668233]\n",
      "Autograd ArrayBox with value [0.10279861 0.28487663 0.0562306  0.55609415]\n",
      "Autograd ArrayBox with value [0.04495844 0.15754181 0.02657011 0.77092965]\n",
      "Autograd ArrayBox with value [0.22420563 0.24126306 0.46060232 0.07392899]\n",
      "Autograd ArrayBox with value [0.50757104 0.19235954 0.20510342 0.094966  ]\n",
      "Autograd ArrayBox with value [0.10351657 0.01594307 0.83253747 0.04800289]\n",
      "Autograd ArrayBox with value [0.79998344 0.07199477 0.06218752 0.06583427]\n",
      "Autograd ArrayBox with value [0.18241496 0.03213636 0.57736528 0.20808339]\n",
      "Autograd ArrayBox with value [0.3408734  0.53280403 0.05778606 0.06853652]\n",
      "Autograd ArrayBox with value [0.02738443 0.31192923 0.04508832 0.61559802]\n",
      "Autograd ArrayBox with value [2.23861280e-01 3.57861236e-04 7.53524656e-01 2.22562024e-02]\n",
      "Autograd ArrayBox with value [0.60717426 0.03909323 0.23270987 0.12102265]\n",
      "Autograd ArrayBox with value [0.67824187 0.00131614 0.1928757  0.12756629]\n",
      "Autograd ArrayBox with value [0.07844772 0.59194051 0.09810137 0.2315104 ]\n",
      "Autograd ArrayBox with value [0.80007661 0.09535107 0.09881915 0.00575317]\n",
      "Autograd ArrayBox with value [0.08934696 0.65309285 0.10300823 0.15455196]\n",
      "Autograd ArrayBox with value [0.13780492 0.4326975  0.16753369 0.26196389]\n",
      "Autograd ArrayBox with value [0.50708093 0.16085673 0.29484588 0.03721646]\n",
      "Autograd ArrayBox with value [0.38443781 0.29482254 0.04526631 0.27547335]\n",
      "Autograd ArrayBox with value [0.07764973 0.21876223 0.60338533 0.1002027 ]\n",
      "Autograd ArrayBox with value [0.01053775 0.32637279 0.0202297  0.64285976]\n",
      "Autograd ArrayBox with value [0.333292   0.09724814 0.19672021 0.37273964]\n",
      "Autograd ArrayBox with value [0.32857929 0.07804786 0.39767065 0.19570221]\n",
      "Autograd ArrayBox with value [0.15962228 0.42906395 0.17985045 0.23146332]\n",
      "Autograd ArrayBox with value [0.05104419 0.78496858 0.02758776 0.13639946]\n",
      "Autograd ArrayBox with value [0.2223476  0.59760302 0.11226168 0.06778769]\n",
      "Autograd ArrayBox with value [0.14229048 0.37659854 0.18193687 0.29917411]\n",
      "Autograd ArrayBox with value [0.05255007 0.17588493 0.77045444 0.00111055]\n",
      "Autograd ArrayBox with value [0.11993515 0.04664028 0.17693474 0.65648983]\n",
      "Autograd ArrayBox with value [0.08328896 0.10060601 0.63046415 0.18564088]\n",
      "Autograd ArrayBox with value [0.12785185 0.5266466  0.16824366 0.17725789]\n",
      "Autograd ArrayBox with value [0.04432723 0.10948752 0.50329717 0.34288807]\n",
      "Autograd ArrayBox with value [0.31566126 0.05577015 0.2554539  0.37311469]\n",
      "Autograd ArrayBox with value [0.45179217 0.0104131  0.52100364 0.01679108]\n",
      "Autograd ArrayBox with value [0.03755864 0.54498983 0.08528689 0.33216464]\n",
      "Autograd ArrayBox with value [0.88412886 0.01754832 0.07516912 0.02315369]\n",
      "Autograd ArrayBox with value [0.12077504 0.06994633 0.48407854 0.32520009]\n",
      "Autograd ArrayBox with value [0.87511859 0.03471952 0.08635365 0.00380824]\n",
      "Autograd ArrayBox with value [0.29272748 0.29599384 0.34917694 0.06210174]\n",
      "Autograd ArrayBox with value [0.63224237 0.06302097 0.08830367 0.21643299]\n"
     ]
    },
    {
     "ename": "TypeError",
     "evalue": "Grad only applies to real scalar-output functions. Try jacobian, elementwise_grad or holomorphic_grad.",
     "output_type": "error",
     "traceback": [
      "\u001b[1;31m---------------------------------------------------------------------------\u001b[0m",
      "\u001b[1;31mTypeError\u001b[0m                                 Traceback (most recent call last)",
      "\u001b[1;32m<ipython-input-216-1168e85163ba>\u001b[0m in \u001b[0;36m<module>\u001b[1;34m\u001b[0m\n\u001b[0;32m      3\u001b[0m \u001b[0mvar\u001b[0m \u001b[1;33m=\u001b[0m \u001b[0mvar_init\u001b[0m\u001b[1;33m\u001b[0m\u001b[1;33m\u001b[0m\u001b[0m\n\u001b[0;32m      4\u001b[0m \u001b[1;32mfor\u001b[0m \u001b[0mit\u001b[0m \u001b[1;32min\u001b[0m \u001b[0mrange\u001b[0m\u001b[1;33m(\u001b[0m\u001b[1;36m10\u001b[0m\u001b[1;33m)\u001b[0m\u001b[1;33m:\u001b[0m\u001b[1;33m\u001b[0m\u001b[1;33m\u001b[0m\u001b[0m\n\u001b[1;32m----> 5\u001b[1;33m     \u001b[0mvar\u001b[0m \u001b[1;33m=\u001b[0m \u001b[0mopt\u001b[0m\u001b[1;33m.\u001b[0m\u001b[0mstep\u001b[0m\u001b[1;33m(\u001b[0m\u001b[1;32mlambda\u001b[0m \u001b[0mv\u001b[0m\u001b[1;33m:\u001b[0m \u001b[0mcost\u001b[0m\u001b[1;33m(\u001b[0m\u001b[0mv\u001b[0m\u001b[1;33m,\u001b[0m \u001b[0mX\u001b[0m\u001b[1;33m,\u001b[0m \u001b[0mY\u001b[0m\u001b[1;33m)\u001b[0m\u001b[1;33m,\u001b[0m \u001b[0mvar\u001b[0m\u001b[1;33m)\u001b[0m\u001b[1;33m\u001b[0m\u001b[1;33m\u001b[0m\u001b[0m\n\u001b[0m\u001b[0;32m      6\u001b[0m     \u001b[0mprint\u001b[0m\u001b[1;33m(\u001b[0m\u001b[1;34m\"Iter: {:5d} | Cost: {:0.7f} \"\u001b[0m\u001b[1;33m.\u001b[0m\u001b[0mformat\u001b[0m\u001b[1;33m(\u001b[0m\u001b[0mit\u001b[0m \u001b[1;33m+\u001b[0m \u001b[1;36m1\u001b[0m\u001b[1;33m,\u001b[0m \u001b[0mcost\u001b[0m\u001b[1;33m(\u001b[0m\u001b[0mvar\u001b[0m\u001b[1;33m,\u001b[0m \u001b[0mX\u001b[0m\u001b[1;33m,\u001b[0m \u001b[0mY\u001b[0m\u001b[1;33m)\u001b[0m\u001b[1;33m)\u001b[0m\u001b[1;33m)\u001b[0m\u001b[1;33m\u001b[0m\u001b[1;33m\u001b[0m\u001b[0m\n",
      "\u001b[1;32m~\\anaconda3\\lib\\site-packages\\pennylane\\optimize\\gradient_descent.py\u001b[0m in \u001b[0;36mstep\u001b[1;34m(self, objective_fn, x, grad_fn)\u001b[0m\n\u001b[0;32m     62\u001b[0m         \"\"\"\n\u001b[0;32m     63\u001b[0m \u001b[1;33m\u001b[0m\u001b[0m\n\u001b[1;32m---> 64\u001b[1;33m         \u001b[0mg\u001b[0m \u001b[1;33m=\u001b[0m \u001b[0mself\u001b[0m\u001b[1;33m.\u001b[0m\u001b[0mcompute_grad\u001b[0m\u001b[1;33m(\u001b[0m\u001b[0mobjective_fn\u001b[0m\u001b[1;33m,\u001b[0m \u001b[0mx\u001b[0m\u001b[1;33m,\u001b[0m \u001b[0mgrad_fn\u001b[0m\u001b[1;33m=\u001b[0m\u001b[0mgrad_fn\u001b[0m\u001b[1;33m)\u001b[0m\u001b[1;33m\u001b[0m\u001b[1;33m\u001b[0m\u001b[0m\n\u001b[0m\u001b[0;32m     65\u001b[0m \u001b[1;33m\u001b[0m\u001b[0m\n\u001b[0;32m     66\u001b[0m         \u001b[0mx_out\u001b[0m \u001b[1;33m=\u001b[0m \u001b[0mself\u001b[0m\u001b[1;33m.\u001b[0m\u001b[0mapply_grad\u001b[0m\u001b[1;33m(\u001b[0m\u001b[0mg\u001b[0m\u001b[1;33m,\u001b[0m \u001b[0mx\u001b[0m\u001b[1;33m)\u001b[0m\u001b[1;33m\u001b[0m\u001b[1;33m\u001b[0m\u001b[0m\n",
      "\u001b[1;32m~\\anaconda3\\lib\\site-packages\\pennylane\\optimize\\gradient_descent.py\u001b[0m in \u001b[0;36mcompute_grad\u001b[1;34m(objective_fn, x, grad_fn)\u001b[0m\n\u001b[0;32m     86\u001b[0m         \u001b[1;32melse\u001b[0m\u001b[1;33m:\u001b[0m\u001b[1;33m\u001b[0m\u001b[1;33m\u001b[0m\u001b[0m\n\u001b[0;32m     87\u001b[0m             \u001b[1;31m# default is autograd\u001b[0m\u001b[1;33m\u001b[0m\u001b[1;33m\u001b[0m\u001b[1;33m\u001b[0m\u001b[0m\n\u001b[1;32m---> 88\u001b[1;33m             \u001b[0mg\u001b[0m \u001b[1;33m=\u001b[0m \u001b[0mautograd\u001b[0m\u001b[1;33m.\u001b[0m\u001b[0mgrad\u001b[0m\u001b[1;33m(\u001b[0m\u001b[0mobjective_fn\u001b[0m\u001b[1;33m)\u001b[0m\u001b[1;33m(\u001b[0m\u001b[0mx\u001b[0m\u001b[1;33m)\u001b[0m  \u001b[1;31m# pylint: disable=no-value-for-parameter\u001b[0m\u001b[1;33m\u001b[0m\u001b[1;33m\u001b[0m\u001b[0m\n\u001b[0m\u001b[0;32m     89\u001b[0m         \u001b[1;32mreturn\u001b[0m \u001b[0mg\u001b[0m\u001b[1;33m\u001b[0m\u001b[1;33m\u001b[0m\u001b[0m\n\u001b[0;32m     90\u001b[0m \u001b[1;33m\u001b[0m\u001b[0m\n",
      "\u001b[1;32m~\\anaconda3\\lib\\site-packages\\autograd\\wrap_util.py\u001b[0m in \u001b[0;36mnary_f\u001b[1;34m(*args, **kwargs)\u001b[0m\n\u001b[0;32m     18\u001b[0m             \u001b[1;32melse\u001b[0m\u001b[1;33m:\u001b[0m\u001b[1;33m\u001b[0m\u001b[1;33m\u001b[0m\u001b[0m\n\u001b[0;32m     19\u001b[0m                 \u001b[0mx\u001b[0m \u001b[1;33m=\u001b[0m \u001b[0mtuple\u001b[0m\u001b[1;33m(\u001b[0m\u001b[0margs\u001b[0m\u001b[1;33m[\u001b[0m\u001b[0mi\u001b[0m\u001b[1;33m]\u001b[0m \u001b[1;32mfor\u001b[0m \u001b[0mi\u001b[0m \u001b[1;32min\u001b[0m \u001b[0margnum\u001b[0m\u001b[1;33m)\u001b[0m\u001b[1;33m\u001b[0m\u001b[1;33m\u001b[0m\u001b[0m\n\u001b[1;32m---> 20\u001b[1;33m             \u001b[1;32mreturn\u001b[0m \u001b[0munary_operator\u001b[0m\u001b[1;33m(\u001b[0m\u001b[0munary_f\u001b[0m\u001b[1;33m,\u001b[0m \u001b[0mx\u001b[0m\u001b[1;33m,\u001b[0m \u001b[1;33m*\u001b[0m\u001b[0mnary_op_args\u001b[0m\u001b[1;33m,\u001b[0m \u001b[1;33m**\u001b[0m\u001b[0mnary_op_kwargs\u001b[0m\u001b[1;33m)\u001b[0m\u001b[1;33m\u001b[0m\u001b[1;33m\u001b[0m\u001b[0m\n\u001b[0m\u001b[0;32m     21\u001b[0m         \u001b[1;32mreturn\u001b[0m \u001b[0mnary_f\u001b[0m\u001b[1;33m\u001b[0m\u001b[1;33m\u001b[0m\u001b[0m\n\u001b[0;32m     22\u001b[0m     \u001b[1;32mreturn\u001b[0m \u001b[0mnary_operator\u001b[0m\u001b[1;33m\u001b[0m\u001b[1;33m\u001b[0m\u001b[0m\n",
      "\u001b[1;32m~\\anaconda3\\lib\\site-packages\\autograd\\differential_operators.py\u001b[0m in \u001b[0;36mgrad\u001b[1;34m(fun, x)\u001b[0m\n\u001b[0;32m     25\u001b[0m     \u001b[0mvjp\u001b[0m\u001b[1;33m,\u001b[0m \u001b[0mans\u001b[0m \u001b[1;33m=\u001b[0m \u001b[0m_make_vjp\u001b[0m\u001b[1;33m(\u001b[0m\u001b[0mfun\u001b[0m\u001b[1;33m,\u001b[0m \u001b[0mx\u001b[0m\u001b[1;33m)\u001b[0m\u001b[1;33m\u001b[0m\u001b[1;33m\u001b[0m\u001b[0m\n\u001b[0;32m     26\u001b[0m     \u001b[1;32mif\u001b[0m \u001b[1;32mnot\u001b[0m \u001b[0mvspace\u001b[0m\u001b[1;33m(\u001b[0m\u001b[0mans\u001b[0m\u001b[1;33m)\u001b[0m\u001b[1;33m.\u001b[0m\u001b[0msize\u001b[0m \u001b[1;33m==\u001b[0m \u001b[1;36m1\u001b[0m\u001b[1;33m:\u001b[0m\u001b[1;33m\u001b[0m\u001b[1;33m\u001b[0m\u001b[0m\n\u001b[1;32m---> 27\u001b[1;33m         raise TypeError(\"Grad only applies to real scalar-output functions. \"\n\u001b[0m\u001b[0;32m     28\u001b[0m                         \"Try jacobian, elementwise_grad or holomorphic_grad.\")\n\u001b[0;32m     29\u001b[0m     \u001b[1;32mreturn\u001b[0m \u001b[0mvjp\u001b[0m\u001b[1;33m(\u001b[0m\u001b[0mvspace\u001b[0m\u001b[1;33m(\u001b[0m\u001b[0mans\u001b[0m\u001b[1;33m)\u001b[0m\u001b[1;33m.\u001b[0m\u001b[0mones\u001b[0m\u001b[1;33m(\u001b[0m\u001b[1;33m)\u001b[0m\u001b[1;33m)\u001b[0m\u001b[1;33m\u001b[0m\u001b[1;33m\u001b[0m\u001b[0m\n",
      "\u001b[1;31mTypeError\u001b[0m: Grad only applies to real scalar-output functions. Try jacobian, elementwise_grad or holomorphic_grad."
     ]
    }
   ],
   "source": [
    "opt = AdamOptimizer(0.2, beta1=0.9, beta2=0.999)\n",
    "\n",
    "var = var_init\n",
    "for it in range(10):\n",
    "    var = opt.step(lambda v: cost(v, X, Y), var)\n",
    "    print(\"Iter: {:5d} | Cost: {:0.7f} \".format(it + 1, cost(var, X, Y)))"
   ]
  },
  {
   "cell_type": "code",
   "execution_count": 200,
   "metadata": {},
   "outputs": [],
   "source": [
    "predictions = [quantum_neural_net(var, x=x) for x in X]"
   ]
  },
  {
   "cell_type": "code",
   "execution_count": 204,
   "metadata": {},
   "outputs": [
    {
     "data": {
      "text/plain": [
       "(100,)"
      ]
     },
     "execution_count": 204,
     "metadata": {},
     "output_type": "execute_result"
    }
   ],
   "source": [
    "np.shape(Y)"
   ]
  },
  {
   "cell_type": "code",
   "execution_count": 205,
   "metadata": {},
   "outputs": [
    {
     "data": {
      "text/plain": [
       "<matplotlib.collections.PathCollection at 0x21787472860>"
      ]
     },
     "execution_count": 205,
     "metadata": {},
     "output_type": "execute_result"
    },
    {
     "data": {
      "image/png": "[encoded data removed]",
      "text/plain": [
       "<Figure size 432x288 with 1 Axes>"
      ]
     },
     "metadata": {
      "needs_background": "light"
     },
     "output_type": "display_data"
    }
   ],
   "source": [
    "plt.scatter(p00,Y)"
   ]
  },
  {
   "cell_type": "markdown",
   "metadata": {},
   "source": [
    "![](../demonstrations/quantum_neural_net/qnn_output_30_0.png)\n",
    "\n",
    "\n"
   ]
  },
  {
   "cell_type": "code",
   "execution_count": null,
   "metadata": {},
   "outputs": [],
   "source": []
  }
 ],
 "metadata": {
  "kernelspec": {
   "display_name": "Python 3",
   "language": "python",
   "name": "python3"
  },
  "language_info": {
   "codemirror_mode": {
    "name": "ipython",
    "version": 3
   },
   "file_extension": ".py",
   "mimetype": "text/x-python",
   "name": "python",
   "nbconvert_exporter": "python",
   "pygments_lexer": "ipython3",
   "version": "3.6.10"
  }
 },
 "nbformat": 4,
 "nbformat_minor": 1
}
