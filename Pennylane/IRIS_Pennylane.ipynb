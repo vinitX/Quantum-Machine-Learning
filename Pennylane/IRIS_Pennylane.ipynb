{
 "cells": [
  {
   "cell_type": "code",
   "execution_count": 1,
   "metadata": {
    "colab": {
     "base_uri": "https://localhost:8080/",
     "height": 1000
    },
    "colab_type": "code",
    "executionInfo": {
     "elapsed": 18732,
     "status": "ok",
     "timestamp": 1591284849011,
     "user": {
      "displayName": "Vinit Singh",
      "photoUrl": "https://lh3.googleusercontent.com/a-/AOh14GgoL8sImEqXRxPWWhRxjJ5WXMgF2SYIIK4QOnexgbk=s64",
      "userId": "08885898808014521859"
     },
     "user_tz": -330
    },
    "id": "fHG4vYJ09OM7",
    "outputId": "d5d4a855-2a28-429f-b973-b5bbd0eb2fd0"
   },
   "outputs": [],
   "source": [
    "#!pip install pennylane-sf pennylane-qiskit pennylane-cirq pennylane-forest pennylane-qsharp"
   ]
  },
  {
   "cell_type": "markdown",
   "metadata": {
    "colab_type": "text",
    "id": "E6IDtcwuWNpu"
   },
   "source": [
    "\n",
    "Ensemble classification with Forest and Qiskit devices\n",
    "=======================================================\n",
    "\n",
    ".. meta::\n",
    "    :property=\"og:description\": This demonstration outlines how two QPUs can be\n",
    "        combined in parallel to help solve a machine learning classification problem,\n",
    "        using PyTorch and PennyLane.\n",
    "    :property=\"og:image\": https://pennylane.ai/qml/_images/ensemble_diagram.png\n",
    "\n",
    "This tutorial outlines how two QPUs can be combined in parallel to help solve a machine learning\n",
    "classification problem.\n",
    "\n",
    "We use the ``forest.qvm`` device to simulate one QPU and the ``qiskit.aer`` device to\n",
    "simulate another. Each QPU makes an independent prediction, and an ensemble model is\n",
    "formed by choosing the prediction of the most confident QPU. The iris dataset is used in this\n",
    "tutorial, consisting of three classes of iris flower. Using a pre-trained model and the PyTorch\n",
    "interface, we'll see that ensembling allows the QPUs to specialize towards\n",
    "different classes.\n",
    "\n",
    "Let's begin by importing the prerequisite libraries:\n"
   ]
  },
  {
   "cell_type": "code",
   "execution_count": 4,
   "metadata": {
    "colab": {},
    "colab_type": "code",
    "id": "bZ54T9OYWNpv"
   },
   "outputs": [],
   "source": [
    "from collections import Counter\n",
    "\n",
    "import matplotlib.pyplot as plt\n",
    "%matplotlib inline\n",
    "import numpy as np\n",
    "import pennylane as qml\n",
    "import sklearn.datasets\n",
    "import sklearn.decomposition\n",
    "import torch\n",
    "from matplotlib.lines import Line2D\n",
    "from matplotlib.patches import Patch"
   ]
  },
  {
   "cell_type": "markdown",
   "metadata": {
    "colab_type": "text",
    "id": "8V028Oc4WNpy"
   },
   "source": [
    "This tutorial requires the ``pennylane-forest`` and ``pennylane-qiskit`` packages, which can be\n",
    "installed by following the instructions `here <https://pennylane.ai/install.html>`__. We also\n",
    "make use of the `PyTorch interface <https://pennylane.readthedocs.io/en/stable/introduction\n",
    "/interfaces.html>`_, which can be installed from `here\n",
    "<https://pytorch.org/get-started/locally/>`__.\n",
    "\n",
    "Load data\n",
    "---------\n",
    "\n",
    "The next step is to load the iris dataset.\n",
    "\n"
   ]
  },
  {
   "cell_type": "code",
   "execution_count": 5,
   "metadata": {
    "colab": {},
    "colab_type": "code",
    "id": "mbzdECyLWNpy"
   },
   "outputs": [],
   "source": [
    "n_features = 2\n",
    "n_classes = 3\n",
    "n_samples = 150\n",
    "\n",
    "data = sklearn.datasets.load_iris()\n",
    "x = data[\"data\"]\n",
    "y = data[\"target\"]"
   ]
  },
  {
   "cell_type": "markdown",
   "metadata": {
    "colab_type": "text",
    "id": "u3QyHWJrWNp1"
   },
   "source": [
    "We shuffle the data and then embed the four features into a two-dimensional space for ease of\n",
    "plotting later on. The first two principal components of the data are used.\n",
    "\n"
   ]
  },
  {
   "cell_type": "code",
   "execution_count": 6,
   "metadata": {
    "colab": {},
    "colab_type": "code",
    "id": "7IjxQhfQWNp1"
   },
   "outputs": [],
   "source": [
    "np.random.seed(1967)\n",
    "x, y = zip(*np.random.permutation(list(zip(x, y))))\n",
    "\n",
    "pca = sklearn.decomposition.PCA(n_components=n_features)\n",
    "pca.fit(x)\n",
    "x = pca.transform(x)"
   ]
  },
  {
   "cell_type": "markdown",
   "metadata": {
    "colab_type": "text",
    "id": "TRj5Q5k3WNp4"
   },
   "source": [
    "We will be encoding these two features into quantum circuits using :class:`~.pennylane.RX`\n",
    "rotations, and hence renormalize our features to be between $[-\\pi, \\pi]$.\n",
    "\n"
   ]
  },
  {
   "cell_type": "code",
   "execution_count": 7,
   "metadata": {
    "colab": {},
    "colab_type": "code",
    "id": "pzvNe6rqWNp4"
   },
   "outputs": [],
   "source": [
    "x_min = np.min(x, axis=0)\n",
    "x_max = np.max(x, axis=0)\n",
    "\n",
    "x = 2 * np.pi * (x - x_min) / (x_max - x_min) - np.pi"
   ]
  },
  {
   "cell_type": "markdown",
   "metadata": {
    "colab_type": "text",
    "id": "iGqGYjWJWNp7"
   },
   "source": [
    "The data is split between a training and a test set. This tutorial uses a model that is\n",
    "pre-trained on the training set.\n",
    "\n"
   ]
  },
  {
   "cell_type": "code",
   "execution_count": 8,
   "metadata": {
    "colab": {},
    "colab_type": "code",
    "id": "rmN8fHteWNp8"
   },
   "outputs": [],
   "source": [
    "split = 125\n",
    "\n",
    "x_train = x[:split]\n",
    "x_test = x[split:]\n",
    "y_train = y[:split]\n",
    "y_test = y[split:]"
   ]
  },
  {
   "cell_type": "markdown",
   "metadata": {
    "colab_type": "text",
    "id": "7voTFyAlWNp_"
   },
   "source": [
    "Finally, let's take a quick look at our data:\n",
    "\n"
   ]
  },
  {
   "cell_type": "code",
   "execution_count": 9,
   "metadata": {
    "colab": {
     "base_uri": "https://localhost:8080/",
     "height": 284
    },
    "colab_type": "code",
    "executionInfo": {
     "elapsed": 2567,
     "status": "ok",
     "timestamp": 1591284871579,
     "user": {
      "displayName": "Vinit Singh",
      "photoUrl": "https://lh3.googleusercontent.com/a-/AOh14GgoL8sImEqXRxPWWhRxjJ5WXMgF2SYIIK4QOnexgbk=s64",
      "userId": "08885898808014521859"
     },
     "user_tz": -330
    },
    "id": "pwbqkMWbWNp_",
    "outputId": "a8328412-0c52-4b3a-c1a1-ab8a3e772897"
   },
   "outputs": [
    {
     "data": {
      "image/png": "[encoded data removed]",
      "text/plain": [
       "<Figure size 432x288 with 1 Axes>"
      ]
     },
     "metadata": {
      "needs_background": "light"
     },
     "output_type": "display_data"
    }
   ],
   "source": [
    "colours = [\"#ec6f86\", \"#4573e7\", \"#ad61ed\"]\n",
    "\n",
    "\n",
    "def plot_points(x_train, y_train, x_test, y_test):\n",
    "    c_train = []\n",
    "    c_test = []\n",
    "\n",
    "    for y in y_train:\n",
    "        c_train.append(colours[y])\n",
    "\n",
    "    for y in y_test:\n",
    "        c_test.append(colours[y])\n",
    "\n",
    "    plt.scatter(x_train[:, 0], x_train[:, 1], c=c_train)\n",
    "    plt.scatter(x_test[:, 0], x_test[:, 1], c=c_test, marker=\"x\")\n",
    "\n",
    "    plt.xlabel(\"Feature 1\", fontsize=16)\n",
    "    plt.ylabel(\"Feature 2\", fontsize=16)\n",
    "\n",
    "    ax = plt.gca()\n",
    "    ax.set_aspect(1)\n",
    "\n",
    "    c_transparent = \"#00000000\"\n",
    "\n",
    "    custom_lines = [\n",
    "        Patch(facecolor=colours[0], edgecolor=c_transparent, label=\"Class 0\"),\n",
    "        Patch(facecolor=colours[1], edgecolor=c_transparent, label=\"Class 1\"),\n",
    "        Patch(facecolor=colours[2], edgecolor=c_transparent, label=\"Class 2\"),\n",
    "        Line2D([0], [0], marker=\"o\", color=c_transparent, label=\"Train\",\n",
    "               markerfacecolor=\"black\", markersize=10),\n",
    "        Line2D([0], [0], marker=\"x\", color=c_transparent, label=\"Test\",\n",
    "               markerfacecolor=\"black\", markersize=10),\n",
    "    ]\n",
    "\n",
    "    ax.legend(handles=custom_lines, bbox_to_anchor=(1.0, 0.75))\n",
    "\n",
    "\n",
    "plot_points(x_train, y_train, x_test, y_test)"
   ]
  },
  {
   "cell_type": "markdown",
   "metadata": {
    "colab_type": "text",
    "id": "gppqnTh0WNqC"
   },
   "source": [
    "This plot shows us that class 0 points can be nicely separated, but that there is an overlap\n",
    "between points from classes 1 and 2.\n",
    "\n",
    "Define model\n",
    "------------\n",
    "\n",
    "Our model is summarized in the figure below. We use two 4-qubit devices: ``Aspen-4-4Q-F``\n",
    "from the PennyLane-Forest plugin and ``qiskit.aer`` from the PennyLane-Qiskit plugin.\n",
    "\n",
    "Data is input using :class:`~.pennylane.RX` rotations and then a different circuit is enacted\n",
    "for each device with a unique set of trainable parameters. The output of both circuits is a\n",
    ":class:`~.pennylane.PauliZ` measurement on three of the qubits. This is then fed through a\n",
    "softmax function, resulting in two 3-dimensional probability vectors corresponding to the 3\n",
    "classes.\n",
    "\n",
    "Finally, the ensemble model chooses the QPU which is most confident about its prediction\n",
    "(i.e., the class with the highest overall probability over all QPUs) and uses that to make a\n",
    "prediction.\n",
    "\n",
    ".. figure:: /demonstrations/ensemble_multi_qpu/ensemble_diagram.png\n",
    "   :width: 50%\n",
    "   :align: center\n",
    "\n",
    "Quantum nodes\n",
    "^^^^^^^^^^^^^\n",
    "\n",
    "We begin by defining the two quantum devices and the circuits to be run on them.\n",
    "\n"
   ]
  },
  {
   "cell_type": "code",
   "execution_count": 40,
   "metadata": {
    "colab": {
     "base_uri": "https://localhost:8080/",
     "height": 346
    },
    "colab_type": "code",
    "executionInfo": {
     "elapsed": 1789,
     "status": "error",
     "timestamp": 1591284874613,
     "user": {
      "displayName": "Vinit Singh",
      "photoUrl": "https://lh3.googleusercontent.com/a-/AOh14GgoL8sImEqXRxPWWhRxjJ5WXMgF2SYIIK4QOnexgbk=s64",
      "userId": "08885898808014521859"
     },
     "user_tz": -330
    },
    "id": "CoE362mIWNqD",
    "outputId": "b55f7ce2-fe1d-4211-99e7-05c99f499f6c"
   },
   "outputs": [],
   "source": [
    "n_wires = 4\n",
    "\n",
    "dev0 = qml.device(\"default.qubit\", wires=4) #qml.device(\"forest.qvm\", device=\"Aspen-4-4Q-F\")\n",
    "dev1 = qml.device(\"default.qubit\", wires=4) #qml.device(\"qiskit.aer\", wires=4)\n",
    "devs = [dev0, dev1]"
   ]
  },
  {
   "cell_type": "markdown",
   "metadata": {
    "colab_type": "text",
    "id": "1gyqEf_dWNqF"
   },
   "source": [
    "<div class=\"alert alert-info\"><h4>Note</h4><p>If you have access to Rigetti hardware, you can swap out ``forest.qvm`` for ``forest.qpu``.\n",
    "   Users with access to the IBM Q Experience can swap ``qiskit.aer`` for ``qiskit.ibmq`` and\n",
    "   specify their chosen backend (see `here\n",
    "   <https://pennylane-qiskit.readthedocs.io/en/latest/gettingstarted.html#ibm-q-experience>`__).</p></div>\n",
    "\n",
    "<div class=\"alert alert-danger\"><h4>Warning</h4><p>Rigetti's QVM and Quil Compiler services must be running for this tutorial to execute. They\n",
    "   can be installed by consulting the `Rigetti documentation\n",
    "   <http://docs.rigetti.com/en/stable/>`__ or, for users with Docker, by running:\n",
    "\n",
    "   .. code-block:: bash\n",
    "\n",
    "       docker run -d -p 5555:5555 rigetti/quilc -R -p 5555\n",
    "       docker run -d -p 5000:5000 rigetti/qvm -S -p 5000</p></div>\n",
    "\n",
    "The circuits for both QPUs are shown in the figure below:\n",
    "\n",
    ".. figure:: /demonstrations/ensemble_multi_qpu/diagram_circuits.png\n",
    "   :width: 50%\n",
    "   :align: center\n",
    "\n"
   ]
  },
  {
   "cell_type": "code",
   "execution_count": 41,
   "metadata": {
    "colab": {},
    "colab_type": "code",
    "id": "opRvwU0EWNqF"
   },
   "outputs": [],
   "source": [
    "def circuit0(params, x=None):\n",
    "    for i in range(n_wires):\n",
    "        qml.RX(x[i % n_features], wires=i)\n",
    "        qml.Rot(*params[1, 0, i], wires=i)\n",
    "\n",
    "    qml.CZ(wires=[1, 0])\n",
    "    qml.CZ(wires=[1, 2])\n",
    "    qml.CZ(wires=[3, 0])\n",
    "\n",
    "    for i in range(n_wires):\n",
    "        qml.Rot(*params[1, 1, i], wires=i)\n",
    "    return qml.expval(qml.PauliZ(0)), qml.expval(qml.PauliZ(1)), qml.expval(qml.PauliZ(2))\n",
    "\n",
    "\n",
    "def circuit1(params, x=None):\n",
    "    for i in range(n_wires):\n",
    "        qml.RX(x[i % n_features], wires=i)\n",
    "        qml.Rot(*params[0, 0, i], wires=i)\n",
    "\n",
    "    qml.CZ(wires=[0, 1])\n",
    "    qml.CZ(wires=[1, 2])\n",
    "    qml.CZ(wires=[1, 3])\n",
    "\n",
    "    for i in range(n_wires):\n",
    "        qml.Rot(*params[0, 1, i], wires=i)\n",
    "    return qml.expval(qml.PauliZ(0)), qml.expval(qml.PauliZ(1)), qml.expval(qml.PauliZ(2))"
   ]
  },
  {
   "cell_type": "markdown",
   "metadata": {
    "colab_type": "text",
    "id": "26lDdowTWNqH"
   },
   "source": [
    "We finally combine the two devices into a :class:`~.pennylane.QNodeCollection` that uses the\n",
    "PyTorch interface:\n",
    "\n"
   ]
  },
  {
   "cell_type": "code",
   "execution_count": 42,
   "metadata": {
    "colab": {
     "base_uri": "https://localhost:8080/",
     "height": 212
    },
    "colab_type": "code",
    "executionInfo": {
     "elapsed": 1660,
     "status": "error",
     "timestamp": 1589698322570,
     "user": {
      "displayName": "Vinit Singh",
      "photoUrl": "https://lh3.googleusercontent.com/a-/AOh14GgoL8sImEqXRxPWWhRxjJ5WXMgF2SYIIK4QOnexgbk=s64",
      "userId": "08885898808014521859"
     },
     "user_tz": -330
    },
    "id": "74vRS54rWNqI",
    "outputId": "8289eddf-5d92-492e-d379-9035bf0886e1"
   },
   "outputs": [],
   "source": [
    "qnodes = qml.QNodeCollection(\n",
    "    [qml.QNode(circuit0, dev0, interface=\"torch\"),\n",
    "     qml.QNode(circuit1, dev1, interface=\"torch\")]\n",
    ")"
   ]
  },
  {
   "cell_type": "markdown",
   "metadata": {
    "colab_type": "text",
    "id": "NnYCcyBsWNqK"
   },
   "source": [
    "Postprocessing into a prediction\n",
    "^^^^^^^^^^^^^^^^^^^^^^^^^^^^^^^^\n",
    "\n",
    "The ``predict_point`` function below allows us to find the ensemble prediction, as well as keeping\n",
    "track of the individual predictions from each QPU.\n",
    "\n",
    "We include a ``parallel`` keyword argument for evaluating the :class:`~.pennylane.QNodeCollection`\n",
    "in a parallel asynchronous manner. This feature requires the ``dask`` library, which can be\n",
    "installed using ``pip install \"dask[delayed]\"``. When ``parallel=True``, we are able to make\n",
    "predictions faster because we do not need to wait for one QPU to output before running on the\n",
    "other.\n",
    "\n"
   ]
  },
  {
   "cell_type": "code",
   "execution_count": 43,
   "metadata": {
    "colab": {},
    "colab_type": "code",
    "id": "QEO7UkxhWNqK"
   },
   "outputs": [],
   "source": [
    "def decision(softmax):\n",
    "    return int(torch.argmax(softmax))\n",
    "\n",
    "\n",
    "def predict_point(params, x_point=None, parallel=True):\n",
    "    results = qnodes(params, x=x_point, parallel=parallel)\n",
    "    softmax = torch.nn.functional.softmax(results, dim=1)\n",
    "    choice = torch.where(softmax == torch.max(softmax))[0][0]\n",
    "    chosen_softmax = softmax[choice]\n",
    "    return decision(chosen_softmax), decision(softmax[0]), decision(softmax[1]), int(choice)"
   ]
  },
  {
   "cell_type": "markdown",
   "metadata": {
    "colab_type": "text",
    "id": "0OC07LoxWNqM"
   },
   "source": [
    "Next, let's define a function to make a predictions over multiple data points.\n",
    "\n"
   ]
  },
  {
   "cell_type": "code",
   "execution_count": 44,
   "metadata": {
    "colab": {},
    "colab_type": "code",
    "id": "do5F0dMsWNqN"
   },
   "outputs": [],
   "source": [
    "def predict(params, x=None, parallel=True):\n",
    "    predictions_ensemble = []\n",
    "    predictions_0 = []\n",
    "    predictions_1 = []\n",
    "    choices = []\n",
    "\n",
    "    for i, x_point in enumerate(x):\n",
    "        if i % 10 == 0 and i > 0:\n",
    "            print(\"Completed up to iteration {}\".format(i))\n",
    "        results = predict_point(params, x_point=x_point, parallel=parallel)\n",
    "        predictions_ensemble.append(results[0])\n",
    "        predictions_0.append(results[1])\n",
    "        predictions_1.append(results[2])\n",
    "        choices.append(results[3])\n",
    "\n",
    "    return predictions_ensemble, predictions_0, predictions_1, choices"
   ]
  },
  {
   "cell_type": "markdown",
   "metadata": {
    "colab_type": "text",
    "id": "40Uq4hNeWNqP"
   },
   "source": [
    "Make predictions\n",
    "----------------\n",
    "\n",
    "To test our model, we first load a pre-trained set of parameters which can also be downloaded\n",
    "by clicking :download:`here <../demonstrations/ensemble_multi_qpu/params.npy>`.\n",
    "\n"
   ]
  },
  {
   "cell_type": "code",
   "execution_count": 45,
   "metadata": {
    "colab": {
     "base_uri": "https://localhost:8080/",
     "height": 121
    },
    "colab_type": "code",
    "executionInfo": {
     "elapsed": 35598,
     "status": "ok",
     "timestamp": 1589698625058,
     "user": {
      "displayName": "Vinit Singh",
      "photoUrl": "https://lh3.googleusercontent.com/a-/AOh14GgoL8sImEqXRxPWWhRxjJ5WXMgF2SYIIK4QOnexgbk=s64",
      "userId": "08885898808014521859"
     },
     "user_tz": -330
    },
    "id": "sEywFdtoWNqQ",
    "outputId": "cc64713f-e2bb-4936-c4c8-43ed2def9bc8"
   },
   "outputs": [],
   "source": [
    "#from google.colab import drive\n",
    "#drive.mount('/content/drive')\n",
    "\n",
    "#params = np.load('/content/drive/My Drive/Quantum Research/QML Scattering/params.npy')\n",
    "\n",
    "params=np.load('params.npy')"
   ]
  },
  {
   "cell_type": "markdown",
   "metadata": {
    "colab_type": "text",
    "id": "dygNKcAJWNqT"
   },
   "source": [
    "We can then make predictions for the training and test datasets.\n",
    "\n"
   ]
  },
  {
   "cell_type": "code",
   "execution_count": 46,
   "metadata": {
    "colab": {
     "base_uri": "https://localhost:8080/",
     "height": 370
    },
    "colab_type": "code",
    "executionInfo": {
     "elapsed": 1578,
     "status": "error",
     "timestamp": 1589698666791,
     "user": {
      "displayName": "Vinit Singh",
      "photoUrl": "https://lh3.googleusercontent.com/a-/AOh14GgoL8sImEqXRxPWWhRxjJ5WXMgF2SYIIK4QOnexgbk=s64",
      "userId": "08885898808014521859"
     },
     "user_tz": -330
    },
    "id": "RTjY_FzrWNqT",
    "outputId": "5415a773-b630-4493-94ba-c26c61e3966d"
   },
   "outputs": [
    {
     "name": "stdout",
     "output_type": "stream",
     "text": [
      "Predicting on training dataset\n",
      "Completed up to iteration 10\n",
      "Completed up to iteration 20\n",
      "Completed up to iteration 30\n",
      "Completed up to iteration 40\n",
      "Completed up to iteration 50\n",
      "Completed up to iteration 60\n",
      "Completed up to iteration 70\n",
      "Completed up to iteration 80\n",
      "Completed up to iteration 90\n",
      "Completed up to iteration 100\n",
      "Completed up to iteration 110\n",
      "Completed up to iteration 120\n",
      "Predicting on test dataset\n",
      "Completed up to iteration 10\n",
      "Completed up to iteration 20\n"
     ]
    }
   ],
   "source": [
    "print(\"Predicting on training dataset\")\n",
    "p_train, p_train_0, p_train_1, choices_train = predict(params, x=x_train)\n",
    "print(\"Predicting on test dataset\")\n",
    "p_test, p_test_0, p_test_1, choices_test = predict(params, x=x_test)"
   ]
  },
  {
   "cell_type": "markdown",
   "metadata": {
    "colab_type": "text",
    "id": "DmMOw-i8WNqV"
   },
   "source": [
    "Analyze performance\n",
    "-------------------\n",
    "\n",
    "The last thing to do is test how well the model performs. We begin by looking at the accuracy.\n",
    "\n",
    "Accuracy\n",
    "^^^^^^^^\n",
    "\n"
   ]
  },
  {
   "cell_type": "code",
   "execution_count": 47,
   "metadata": {
    "colab": {},
    "colab_type": "code",
    "id": "Fb5iaICfWNqW"
   },
   "outputs": [],
   "source": [
    "def accuracy(predictions, actuals):\n",
    "    count = 0\n",
    "\n",
    "    for i in range(len(predictions)):\n",
    "        if predictions[i] == actuals[i]:\n",
    "            count += 1\n",
    "\n",
    "    accuracy = count / (len(predictions))\n",
    "    return accuracy"
   ]
  },
  {
   "cell_type": "code",
   "execution_count": 48,
   "metadata": {
    "colab": {
     "base_uri": "https://localhost:8080/",
     "height": 195
    },
    "colab_type": "code",
    "executionInfo": {
     "elapsed": 1349,
     "status": "error",
     "timestamp": 1589698325558,
     "user": {
      "displayName": "Vinit Singh",
      "photoUrl": "https://lh3.googleusercontent.com/a-/AOh14GgoL8sImEqXRxPWWhRxjJ5WXMgF2SYIIK4QOnexgbk=s64",
      "userId": "08885898808014521859"
     },
     "user_tz": -330
    },
    "id": "EBFo8IhkWNqY",
    "outputId": "802a5e99-bb4c-4bcf-ccad-7a930569d75d"
   },
   "outputs": [
    {
     "name": "stdout",
     "output_type": "stream",
     "text": [
      "Training accuracy (ensemble): 0.832\n",
      "Training accuracy (QPU0):  0.648\n",
      "Training accuracy (QPU1):  0.288\n"
     ]
    }
   ],
   "source": [
    "print(\"Training accuracy (ensemble): {}\".format(accuracy(p_train, y_train)))\n",
    "print(\"Training accuracy (QPU0):  {}\".format(accuracy(p_train_0, y_train)))\n",
    "print(\"Training accuracy (QPU1):  {}\".format(accuracy(p_train_1, y_train)))"
   ]
  },
  {
   "cell_type": "code",
   "execution_count": 49,
   "metadata": {
    "colab": {},
    "colab_type": "code",
    "id": "OycaeT1rWNqb"
   },
   "outputs": [
    {
     "name": "stdout",
     "output_type": "stream",
     "text": [
      "Test accuracy (ensemble): 0.72\n",
      "Test accuracy (QPU0):  0.56\n",
      "Test accuracy (QPU1):  0.24\n"
     ]
    }
   ],
   "source": [
    "print(\"Test accuracy (ensemble): {}\".format(accuracy(p_test, y_test)))\n",
    "print(\"Test accuracy (QPU0):  {}\".format(accuracy(p_test_0, y_test)))\n",
    "print(\"Test accuracy (QPU1):  {}\".format(accuracy(p_test_1, y_test)))"
   ]
  },
  {
   "cell_type": "markdown",
   "metadata": {
    "colab_type": "text",
    "id": "NMLC19rvWNqd"
   },
   "source": [
    "These numbers tell us a few things:\n",
    "\n",
    "- On both training and test datasets, the ensemble model outperforms the predictions from each\n",
    "  QPU. This provides a nice example of how QPUs can be used in parallel to gain a performance\n",
    "  advantage.\n",
    "\n",
    "- The accuracy of QPU0 is much higher than the accuracy of QPU1. This does not mean that one\n",
    "  device is intrinsically better than the other. In fact, another set of parameters can lead to\n",
    "  QPU1 becoming more accurate. We will see in the next section that the difference in accuracy\n",
    "  is due to specialization of each QPU, which leads to overall better performance of the\n",
    "  ensemble model.\n",
    "\n",
    "- The test accuracy is lower than the training accuracy. Here our focus is on analyzing the\n",
    "  performance of the ensemble model, rather than minimizing the generalization error.\n",
    "\n",
    "Choice of QPU\n",
    "^^^^^^^^^^^^^\n",
    "\n",
    "Is there a link between the class of a datapoint and the QPU chosen to make the prediction in\n",
    "the ensemble model? Let's investigate.\n",
    "\n"
   ]
  },
  {
   "cell_type": "code",
   "execution_count": 23,
   "metadata": {
    "colab": {
     "base_uri": "https://localhost:8080/",
     "height": 212
    },
    "colab_type": "code",
    "executionInfo": {
     "elapsed": 1205,
     "status": "error",
     "timestamp": 1589698326428,
     "user": {
      "displayName": "Vinit Singh",
      "photoUrl": "https://lh3.googleusercontent.com/a-/AOh14GgoL8sImEqXRxPWWhRxjJ5WXMgF2SYIIK4QOnexgbk=s64",
      "userId": "08885898808014521859"
     },
     "user_tz": -330
    },
    "id": "xCidjCtnWNqd",
    "outputId": "7c4d1001-a7e9-47b0-8891-20198f9f8dc0"
   },
   "outputs": [
    {
     "name": "stdout",
     "output_type": "stream",
     "text": [
      "Choices: [0 0 1 1 0 0 1 0 0 0 1 0 0 0 0 0 0 1 1 0 0 1 0 1 1 0 0 0 1 0 0 1 0 1 0 0 0\n",
      " 0 1 1 0 0 0 0 0 0 0 1 1 0 0 0 0 0 1 0 0 0 0 0 1 0 0 0 1 0 0 0 0 0 1 0 0 0\n",
      " 0 0 0 0 0 1 1 1 1 0 0 0 1 0 1 0 0 1 0 0 1 0 0 0 0 0 0 0 0 0 1 0 0 0 0 1 0\n",
      " 1 0 0 0 1 0 0 0 0 0 0 1 0 1 0 0 0 0 0 0 1 0 0 0 0 0 0 0 0 0 1 1 1 0 1 0 0\n",
      " 0 0]\n",
      "Choices counts: Counter({0: 111, 1: 39})\n"
     ]
    }
   ],
   "source": [
    "# Combine choices_train and choices_test to simplify analysis\n",
    "choices = np.append(choices_train, choices_test)\n",
    "print(\"Choices: {}\".format(choices))\n",
    "print(\"Choices counts: {}\".format(Counter(choices)))"
   ]
  },
  {
   "cell_type": "markdown",
   "metadata": {
    "colab_type": "text",
    "id": "xCaeHhMhWNqf"
   },
   "source": [
    "The following lines keep track of choices and corresponding predictions in the ensemble model.\n",
    "\n"
   ]
  },
  {
   "cell_type": "code",
   "execution_count": 24,
   "metadata": {
    "colab": {
     "base_uri": "https://localhost:8080/",
     "height": 178
    },
    "colab_type": "code",
    "executionInfo": {
     "elapsed": 1284,
     "status": "error",
     "timestamp": 1589698327277,
     "user": {
      "displayName": "Vinit Singh",
      "photoUrl": "https://lh3.googleusercontent.com/a-/AOh14GgoL8sImEqXRxPWWhRxjJ5WXMgF2SYIIK4QOnexgbk=s64",
      "userId": "08885898808014521859"
     },
     "user_tz": -330
    },
    "id": "QFUytUwpWNqf",
    "outputId": "1a3750e5-0b98-4d06-c689-1a3b51d3ccc7"
   },
   "outputs": [],
   "source": [
    "predictions = np.append(p_train, p_test)\n",
    "choice_vs_prediction = np.array([(choices[i], predictions[i]) for i in range(n_samples)])"
   ]
  },
  {
   "cell_type": "markdown",
   "metadata": {
    "colab_type": "text",
    "id": "HMQMnEiCWNqj"
   },
   "source": [
    "We can hence find the predictions each QPU was responsible for.\n",
    "\n"
   ]
  },
  {
   "cell_type": "code",
   "execution_count": 25,
   "metadata": {
    "colab": {},
    "colab_type": "code",
    "id": "6B1QJkwhWNqj"
   },
   "outputs": [
    {
     "name": "stdout",
     "output_type": "stream",
     "text": [
      "When QPU0 was chosen by the ensemble, it made the following distribution of predictions:\n",
      "Counter({2: 56, 0: 55})\n",
      "\n",
      "When QPU1 was chosen by the ensemble, it made the following distribution of predictions:\n",
      "Counter({1: 36, 0: 3})\n",
      "\n",
      "Distribution of classes in iris dataset: Counter({0: 50, 2: 50, 1: 50})\n"
     ]
    }
   ],
   "source": [
    "choices_vs_prediction_0 = choice_vs_prediction[choice_vs_prediction[:, 0] == 0]\n",
    "choices_vs_prediction_1 = choice_vs_prediction[choice_vs_prediction[:, 0] == 1]\n",
    "predictions_0 = choices_vs_prediction_0[:, 1]\n",
    "predictions_1 = choices_vs_prediction_1[:, 1]\n",
    "\n",
    "\n",
    "expl = \"When QPU{} was chosen by the ensemble, it made the following distribution of \" \\\n",
    "       \"predictions:\\n{}\"\n",
    "print(expl.format(\"0\", Counter(predictions_0)))\n",
    "print(\"\\n\" + expl.format(\"1\", Counter(predictions_1)))\n",
    "print(\"\\nDistribution of classes in iris dataset: {}\".format(Counter(y)))"
   ]
  },
  {
   "cell_type": "markdown",
   "metadata": {
    "colab_type": "text",
    "id": "6WDlmKggWNql"
   },
   "source": [
    "These results show us that QPU0 specializes to making predictions on classes 0 and 2,\n",
    "while QPU1 specializes to class 1.\n",
    "\n",
    "Visualization\n",
    "^^^^^^^^^^^^^\n",
    "\n",
    "We conclude by visualizing the correct and incorrect predictions on the dataset. The following\n",
    "function plots correctly predicted points in green and incorrectly predicted points in red.\n",
    "\n"
   ]
  },
  {
   "cell_type": "code",
   "execution_count": 26,
   "metadata": {
    "colab": {},
    "colab_type": "code",
    "id": "dpdgHSakWNql"
   },
   "outputs": [],
   "source": [
    "colours_prediction = {\"correct\": \"#83b5b9\", \"incorrect\": \"#f98d91\"}\n",
    "markers = [\"o\", \"v\", \"d\"]\n",
    "\n",
    "\n",
    "def plot_points_prediction(x, y, p, title):\n",
    "    c = {0: [], 1: [], 2: []}\n",
    "    x_ = {0: [], 1: [], 2: []}\n",
    "\n",
    "    for i in range(n_samples):\n",
    "        x_[y[i]].append(x[i])\n",
    "        if p[i] == y[i]:\n",
    "            c[y[i]].append(colours_prediction[\"correct\"])\n",
    "        else:\n",
    "            c[y[i]].append(colours_prediction[\"incorrect\"])\n",
    "\n",
    "    for i in range(n_classes):\n",
    "        x_class = np.array(x_[i])\n",
    "        plt.scatter(x_class[:, 0], x_class[:, 1], c=c[i], marker=markers[i])\n",
    "\n",
    "    plt.xlabel(\"Feature 1\", fontsize=16)\n",
    "    plt.ylabel(\"Feature 2\", fontsize=16)\n",
    "    plt.title(\"Predictions from {} model\".format(title))\n",
    "\n",
    "    ax = plt.gca()\n",
    "    ax.set_aspect(1)\n",
    "\n",
    "    c_transparent = \"#00000000\"\n",
    "\n",
    "    custom_lines = [\n",
    "        Patch(\n",
    "            facecolor=colours_prediction[\"correct\"],\n",
    "            edgecolor=c_transparent, label=\"Correct\"\n",
    "        ),\n",
    "        Patch(\n",
    "            facecolor=colours_prediction[\"incorrect\"],\n",
    "            edgecolor=c_transparent, label=\"Incorrect\"\n",
    "        ),\n",
    "        Line2D([0], [0], marker=markers[0], color=c_transparent, label=\"Class 0\",\n",
    "               markerfacecolor=\"black\", markersize=10),\n",
    "        Line2D([0], [0], marker=markers[1], color=c_transparent, label=\"Class 1\",\n",
    "               markerfacecolor=\"black\", markersize=10),\n",
    "        Line2D([0], [0], marker=markers[2], color=c_transparent, label=\"Class 2\",\n",
    "               markerfacecolor=\"black\", markersize=10),\n",
    "    ]\n",
    "\n",
    "    ax.legend(handles=custom_lines, bbox_to_anchor=(1.0, 0.75))"
   ]
  },
  {
   "cell_type": "markdown",
   "metadata": {
    "colab_type": "text",
    "id": "mmGMcKV3WNqo"
   },
   "source": [
    "We can again compare the ensemble model with the individual models from each QPU.\n",
    "\n"
   ]
  },
  {
   "cell_type": "code",
   "execution_count": 27,
   "metadata": {
    "colab": {},
    "colab_type": "code",
    "id": "m9CKZm4SWNqp"
   },
   "outputs": [
    {
     "data": {
      "image/png": "[encoded data removed]",
      "text/plain": [
       "<Figure size 432x288 with 1 Axes>"
      ]
     },
     "metadata": {
      "needs_background": "light"
     },
     "output_type": "display_data"
    }
   ],
   "source": [
    "plot_points_prediction(x, y, predictions, \"ensemble\")  # ensemble"
   ]
  },
  {
   "cell_type": "code",
   "execution_count": 28,
   "metadata": {
    "colab": {},
    "colab_type": "code",
    "id": "L_DyYr7QWNqr"
   },
   "outputs": [
    {
     "data": {
      "image/png": "[encoded data removed]",
      "text/plain": [
       "<Figure size 432x288 with 1 Axes>"
      ]
     },
     "metadata": {
      "needs_background": "light"
     },
     "output_type": "display_data"
    }
   ],
   "source": [
    "plot_points_prediction(x, y, np.append(p_train_0, p_test_0), \"QPU0\")  # QPU 0"
   ]
  },
  {
   "cell_type": "code",
   "execution_count": 29,
   "metadata": {
    "colab": {},
    "colab_type": "code",
    "id": "sdj1lI28WNqs"
   },
   "outputs": [
    {
     "data": {
      "image/png": "[encoded data removed]",
      "text/plain": [
       "<Figure size 432x288 with 1 Axes>"
      ]
     },
     "metadata": {
      "needs_background": "light"
     },
     "output_type": "display_data"
    }
   ],
   "source": [
    "plot_points_prediction(x, y, np.append(p_train_1, p_test_1), \"QPU1\")  # QPU 1"
   ]
  },
  {
   "cell_type": "markdown",
   "metadata": {
    "colab_type": "text",
    "id": "oEr_8Yd4WNqu"
   },
   "source": [
    "These plots reinforce the specialization of the two QPUs. QPU1 concentrates on doing a good job\n",
    "at predicting class 1, while QPU0 is focused on classes 0 and 2. By combining together,\n",
    "the resultant ensemble performs better.\n",
    "\n",
    "This tutorial shows how QPUs can work in parallel to realize a performance advantage. Check out\n",
    "our :doc:`tutorial_vqe_parallel` tutorial to see how multiple QPUs can be\n",
    "evaluated asynchronously to speed up calculating the potential energy surface of molecular\n",
    "hydrogen!\n",
    "\n"
   ]
  }
 ],
 "metadata": {
  "colab": {
   "name": "Pennylane_IRIS.ipynb",
   "provenance": []
  },
  "kernelspec": {
   "display_name": "Python 3",
   "language": "python",
   "name": "python3"
  },
  "language_info": {
   "codemirror_mode": {
    "name": "ipython",
    "version": 3
   },
   "file_extension": ".py",
   "mimetype": "text/x-python",
   "name": "python",
   "nbconvert_exporter": "python",
   "pygments_lexer": "ipython3",
   "version": "3.6.10"
  }
 },
 "nbformat": 4,
 "nbformat_minor": 1
}
