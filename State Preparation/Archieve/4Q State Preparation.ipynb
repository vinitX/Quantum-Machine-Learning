{
 "cells": [
  {
   "cell_type": "code",
   "execution_count": 134,
   "metadata": {},
   "outputs": [],
   "source": [
    "from qiskit import QuantumRegister, QuantumCircuit, execute\n",
    "from qiskit.quantum_info.operators import Operator\n",
    "from qiskit.visualization import plot_histogram, plot_state_city\n",
    "from qiskit import Aer\n",
    "import numpy as np\n",
    "from math import sin, cos, atan2\n",
    "import matplotlib.pyplot as plt\n",
    "from numpy.linalg import norm,svd"
   ]
  },
  {
   "cell_type": "code",
   "execution_count": 135,
   "metadata": {},
   "outputs": [],
   "source": [
    "def two_qubit_state(ckt,A):\n",
    "    A=np.transpose(np.reshape(A,(2,2)))\n",
    "    #A=np.reshape(A,(2,2))\n",
    "    U,S,V=np.linalg.svd(A)\n",
    "    \n",
    "    ckt.u3(2*atan2(S[1],S[0]),0,0,0)\n",
    "    ckt.cx(0,1)\n",
    "    ckt.unitary(Operator(U), [0])\n",
    "    ckt.unitary(Operator(np.transpose(V)), [1])\n",
    "    ckt.barrier()\n",
    "    \n",
    "    return ckt"
   ]
  },
  {
   "cell_type": "code",
   "execution_count": 136,
   "metadata": {},
   "outputs": [
    {
     "name": "stdout",
     "output_type": "stream",
     "text": [
      "[[3.41858702e-02 2.52353265e-03 7.72392001e-02 4.26772149e-04]\n",
      " [6.56430710e-02 6.23699567e-02 5.57667217e-03 4.13206107e-02]\n",
      " [2.57402649e-01 2.60409004e-03 7.48820982e-02 2.90946947e-05]\n",
      " [6.37667893e-02 6.31543991e-02 4.08472836e-03 2.44790466e-01]] 1.0\n",
      "[0.86038631 0.4774479  0.14554598 0.10293327]\n"
     ]
    }
   ],
   "source": [
    "A=np.random.rand(4,4)\n",
    "A=A/np.linalg.norm(A)\n",
    "print(A**2,round(np.sum(A**2),2))\n",
    "\n",
    "U,S,V=np.linalg.svd(A)\n",
    "print(S)"
   ]
  },
  {
   "cell_type": "code",
   "execution_count": 137,
   "metadata": {},
   "outputs": [
    {
     "data": {
      "image/png": "[encoded data removed]",
      "text/plain": [
       "<Figure size 758.52x325.08 with 1 Axes>"
      ]
     },
     "execution_count": 137,
     "metadata": {},
     "output_type": "execute_result"
    }
   ],
   "source": [
    "ckt=QuantumCircuit(4,4)\n",
    "ckt=two_qubit_state(ckt,S)\n",
    "ckt.cx(0,2)\n",
    "ckt.cx(1,3)\n",
    "ckt.unitary(Operator(U), [0,1])\n",
    "ckt.unitary(Operator(np.transpose(V)), [2,3])\n",
    "#ckt.measure([0,1,2,3],[0,1,2,3])\n",
    "ckt.draw(output='mpl')"
   ]
  },
  {
   "cell_type": "code",
   "execution_count": 138,
   "metadata": {},
   "outputs": [
    {
     "name": "stdout",
     "output_type": "stream",
     "text": [
      "[[0.185 0.256 0.507 0.253]\n",
      " [0.05  0.25  0.051 0.251]\n",
      " [0.278 0.075 0.274 0.064]\n",
      " [0.021 0.203 0.005 0.495]]\n",
      "[[0.185 0.05  0.278 0.021]\n",
      " [0.256 0.25  0.075 0.203]\n",
      " [0.507 0.051 0.274 0.005]\n",
      " [0.253 0.251 0.064 0.495]] \n",
      "\n"
     ]
    }
   ],
   "source": [
    "backend = Aer.get_backend('statevector_simulator')\n",
    "job=execute(ckt,backend)\n",
    "result = job.result()\n",
    "outputstate = result.get_statevector(ckt, decimals=3)\n",
    "\n",
    "print(np.reshape(np.real(outputstate),(4,4)))\n",
    "print(np.round(A,3),'\\n')"
   ]
  },
  {
   "cell_type": "code",
   "execution_count": 139,
   "metadata": {},
   "outputs": [
    {
     "data": {
      "text/plain": [
       "\"backend = Aer.get_backend('qasm_simulator')\\njob_sim = execute(ckt,backend,shots=100000)\\nresult_sim = job_sim.result()\\ncounts = result_sim.get_counts(ckt)\\nprint(np.round(A**2,3))\\nplot_state_city(result_sim.get_statevector)\""
      ]
     },
     "execution_count": 139,
     "metadata": {},
     "output_type": "execute_result"
    }
   ],
   "source": [
    "'''backend = Aer.get_backend('qasm_simulator')\n",
    "job_sim = execute(ckt,backend,shots=100000)\n",
    "result_sim = job_sim.result()\n",
    "counts = result_sim.get_counts(ckt)\n",
    "print(np.round(A**2,3))\n",
    "plot_state_city(result_sim.get_statevector)'''"
   ]
  },
  {
   "cell_type": "code",
   "execution_count": 140,
   "metadata": {},
   "outputs": [
    {
     "name": "stdout",
     "output_type": "stream",
     "text": [
      "[[0.034 0.066 0.257 0.064]\n",
      " [0.003 0.062 0.003 0.063]\n",
      " [0.077 0.006 0.075 0.004]\n",
      " [0.    0.041 0.    0.245]]\n",
      "[[0.034 0.003 0.077 0.   ]\n",
      " [0.066 0.062 0.006 0.041]\n",
      " [0.257 0.003 0.075 0.   ]\n",
      " [0.064 0.063 0.004 0.245]]\n"
     ]
    }
   ],
   "source": [
    "print(np.reshape(np.real(np.round(outputstate**2,3)),(4,4)))\n",
    "print(np.round(A**2,3))"
   ]
  },
  {
   "cell_type": "code",
   "execution_count": 141,
   "metadata": {},
   "outputs": [],
   "source": [
    "X=np.random.rand(4,2)\n",
    "X=X/norm(X)\n",
    "U,S,V=np.linalg.svd(X)"
   ]
  },
  {
   "cell_type": "code",
   "execution_count": 142,
   "metadata": {},
   "outputs": [
    {
     "data": {
      "text/plain": [
       "1.0"
      ]
     },
     "execution_count": 142,
     "metadata": {},
     "output_type": "execute_result"
    }
   ],
   "source": [
    "np.sum(S**2)"
   ]
  },
  {
   "cell_type": "code",
   "execution_count": null,
   "metadata": {},
   "outputs": [],
   "source": []
  }
 ],
 "metadata": {
  "kernelspec": {
   "display_name": "Python 3",
   "language": "python",
   "name": "python3"
  },
  "language_info": {
   "codemirror_mode": {
    "name": "ipython",
    "version": 3
   },
   "file_extension": ".py",
   "mimetype": "text/x-python",
   "name": "python",
   "nbconvert_exporter": "python",
   "pygments_lexer": "ipython3",
   "version": "3.7.4"
  }
 },
 "nbformat": 4,
 "nbformat_minor": 2
}
