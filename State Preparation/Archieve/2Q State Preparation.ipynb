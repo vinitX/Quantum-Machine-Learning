{
 "cells": [
  {
   "cell_type": "code",
   "execution_count": 694,
   "metadata": {},
   "outputs": [],
   "source": [
    "from qiskit import QuantumRegister, QuantumCircuit, execute\n",
    "from qiskit.quantum_info.operators import Operator\n",
    "from qiskit.visualization import plot_histogram, plot_state_city\n",
    "from qiskit import Aer\n",
    "import numpy as np\n",
    "from math import sin, cos, atan2\n",
    "import matplotlib.pyplot as plt"
   ]
  },
  {
   "cell_type": "code",
   "execution_count": 696,
   "metadata": {},
   "outputs": [],
   "source": [
    "def two_qubit_state(ckt,A,i):\n",
    "    A=np.reshape(A,(2,2))\n",
    "    U,S,V=np.linalg.svd(A)\n",
    "    \n",
    "    ckt.u3(2*atan2(S[1],S[0]),0,0,0)\n",
    "    ckt.cx(0,1)\n",
    "    ckt.unitary(Operator(U), [0])\n",
    "    ckt.unitary(Operator(np.transpose(V)), [1])\n",
    "    ckt.barrier()\n",
    "    \n",
    "    return ckt"
   ]
  },
  {
   "cell_type": "code",
   "execution_count": 699,
   "metadata": {},
   "outputs": [
    {
     "name": "stdout",
     "output_type": "stream",
     "text": [
      "[[0.31540366 0.38146542]\n",
      " [0.68170657 0.53877715]]\n",
      "[[0.3154 +0.j 0.68171+0.j]\n",
      " [0.38147+0.j 0.53878+0.j]]\n"
     ]
    }
   ],
   "source": [
    "S=np.random.rand(2,2)\n",
    "S=S/np.linalg.norm(S)\n",
    "    \n",
    "ckt=QuantumCircuit(2,2)\n",
    "ckt=two_qubit_state(ckt,S,i)\n",
    "\n",
    "ckt.draw(output='mpl')\n",
    "\n",
    "backend = Aer.get_backend('statevector_simulator')\n",
    "job=execute(ckt,backend)\n",
    "result = job.result()\n",
    "outputstate = result.get_statevector(ckt, decimals=5)\n",
    "print(S)\n",
    "print(np.reshape(outputstate,(2,2)))"
   ]
  },
  {
   "cell_type": "code",
   "execution_count": 700,
   "metadata": {},
   "outputs": [
    {
     "data": {
      "text/plain": [
       "\"backend = Aer.get_backend('qasm_simulator')\\njob_sim = execute(ckt,backend,shots=100000)\\nresult_sim = job_sim.result()\\ncounts = result_sim.get_counts(ckt)\\nprint(np.round(A**2,3))\\nplot_state_city(result_sim.get_statevector)\""
      ]
     },
     "execution_count": 700,
     "metadata": {},
     "output_type": "execute_result"
    }
   ],
   "source": [
    "'''backend = Aer.get_backend('qasm_simulator')\n",
    "job_sim = execute(ckt,backend,shots=100000)\n",
    "result_sim = job_sim.result()\n",
    "counts = result_sim.get_counts(ckt)\n",
    "print(np.round(A**2,3))\n",
    "plot_state_city(result_sim.get_statevector)'''"
   ]
  }
 ],
 "metadata": {
  "kernelspec": {
   "display_name": "Python 3",
   "language": "python",
   "name": "python3"
  },
  "language_info": {
   "codemirror_mode": {
    "name": "ipython",
    "version": 3
   },
   "file_extension": ".py",
   "mimetype": "text/x-python",
   "name": "python",
   "nbconvert_exporter": "python",
   "pygments_lexer": "ipython3",
   "version": "3.7.4"
  }
 },
 "nbformat": 4,
 "nbformat_minor": 2
}
