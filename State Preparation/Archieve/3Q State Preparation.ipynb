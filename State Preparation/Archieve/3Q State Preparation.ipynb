{
 "cells": [
  {
   "cell_type": "code",
   "execution_count": 14,
   "metadata": {},
   "outputs": [],
   "source": [
    "from qiskit import QuantumRegister, QuantumCircuit, execute\n",
    "from qiskit.quantum_info.operators import Operator\n",
    "from qiskit.visualization import plot_histogram, plot_state_city\n",
    "from qiskit import Aer\n",
    "import numpy as np\n",
    "from math import sin, cos, atan2\n",
    "import matplotlib.pyplot as plt\n",
    "from numpy.linalg import norm,svd"
   ]
  },
  {
   "cell_type": "code",
   "execution_count": 15,
   "metadata": {},
   "outputs": [],
   "source": [
    "def two_qubit_state(ckt,A):\n",
    "    A=np.transpose(np.reshape(A,(2,2)))\n",
    "    U,S,V=np.linalg.svd(A)\n",
    "\n",
    "    ckt.u3(2*atan2(S[1],S[0]),0,0,0)\n",
    "    ckt.cx(0,1)\n",
    "    ckt.unitary(Operator(U), [0])\n",
    "    ckt.unitary(Operator(np.transpose(V)), [1])\n",
    "    ckt.barrier()\n",
    "    \n",
    "    return ckt"
   ]
  },
  {
   "cell_type": "code",
   "execution_count": 16,
   "metadata": {},
   "outputs": [
    {
     "name": "stdout",
     "output_type": "stream",
     "text": [
      "[[0.01797748 0.28986195]\n",
      " [0.10061322 0.01335423]\n",
      " [0.01341179 0.31666365]\n",
      " [0.06174712 0.18637056]] 1.0\n",
      "(4, 4) (2, 2)\n",
      "[0.95698801 0.29012748]\n"
     ]
    }
   ],
   "source": [
    "A=np.random.rand(4,2)\n",
    "A=A/np.linalg.norm(A)\n",
    "print(A**2,round(np.sum(A**2),2))\n",
    "\n",
    "U,S,V=np.linalg.svd(A)\n",
    "print(np.shape(U),np.shape(V))\n",
    "print(S)"
   ]
  },
  {
   "cell_type": "code",
   "execution_count": 17,
   "metadata": {},
   "outputs": [
    {
     "data": {
      "image/png": "[encoded data removed]",
      "text/plain": [
       "<Figure size 517.72x264.88 with 1 Axes>"
      ]
     },
     "execution_count": 17,
     "metadata": {},
     "output_type": "execute_result"
    }
   ],
   "source": [
    "ckt=QuantumCircuit(3,3)\n",
    "ckt.u3(2*atan2(S[1],S[0]),0,0,0)\n",
    "ckt.cx(0,2)\n",
    "ckt.cx(1,2)\n",
    "ckt.unitary(Operator(U), [0,1])\n",
    "ckt.unitary(Operator(np.transpose(V)), [2])\n",
    "#ckt.measure([0,1,2,3],[0,1,2,3])\n",
    "ckt.draw(output='mpl')"
   ]
  },
  {
   "cell_type": "code",
   "execution_count": 26,
   "metadata": {},
   "outputs": [
    {
     "name": "stdout",
     "output_type": "stream",
     "text": [
      "[[0.134 0.538]\n",
      " [0.317 0.116]\n",
      " [0.116 0.563]\n",
      " [0.248 0.432]]\n",
      "[[0.134 0.538]\n",
      " [0.317 0.116]\n",
      " [0.116 0.563]\n",
      " [0.248 0.432]] \n",
      "\n"
     ]
    }
   ],
   "source": [
    "backend = Aer.get_backend('statevector_simulator')\n",
    "job=execute(ckt,backend)\n",
    "result = job.result()\n",
    "outputstate = result.get_statevector(ckt, decimals=3)\n",
    "\n",
    "print(np.transpose(np.reshape(np.real(outputstate),(2,4))))\n",
    "print(np.round(A,3),'\\n')"
   ]
  },
  {
   "cell_type": "code",
   "execution_count": 19,
   "metadata": {},
   "outputs": [
    {
     "data": {
      "text/plain": [
       "[<matplotlib.lines.Line2D at 0x1f793846a08>]"
      ]
     },
     "execution_count": 19,
     "metadata": {},
     "output_type": "execute_result"
    },
    {
     "data": {
      "image/png": "[encoded data removed]",
      "text/plain": [
       "<Figure size 432x288 with 1 Axes>"
      ]
     },
     "metadata": {
      "needs_background": "light"
     },
     "output_type": "display_data"
    }
   ],
   "source": [
    "plt.plot(np.sort(np.real(outputstate**2)))\n",
    "plt.plot(np.sort(np.reshape(A**2,-1)))"
   ]
  },
  {
   "cell_type": "code",
   "execution_count": 20,
   "metadata": {},
   "outputs": [
    {
     "data": {
      "text/plain": [
       "\"backend = Aer.get_backend('qasm_simulator')\\njob_sim = execute(ckt,backend,shots=100000)\\nresult_sim = job_sim.result()\\ncounts = result_sim.get_counts(ckt)\\nprint(np.round(A**2,3))\\nplot_state_city(result_sim.get_statevector)\""
      ]
     },
     "execution_count": 20,
     "metadata": {},
     "output_type": "execute_result"
    }
   ],
   "source": [
    "'''backend = Aer.get_backend('qasm_simulator')\n",
    "job_sim = execute(ckt,backend,shots=100000)\n",
    "result_sim = job_sim.result()\n",
    "counts = result_sim.get_counts(ckt)\n",
    "print(np.round(A**2,3))\n",
    "plot_state_city(result_sim.get_statevector)'''"
   ]
  },
  {
   "cell_type": "code",
   "execution_count": null,
   "metadata": {},
   "outputs": [],
   "source": []
  }
 ],
 "metadata": {
  "kernelspec": {
   "display_name": "Python 3",
   "language": "python",
   "name": "python3"
  },
  "language_info": {
   "codemirror_mode": {
    "name": "ipython",
    "version": 3
   },
   "file_extension": ".py",
   "mimetype": "text/x-python",
   "name": "python",
   "nbconvert_exporter": "python",
   "pygments_lexer": "ipython3",
   "version": "3.7.4"
  }
 },
 "nbformat": 4,
 "nbformat_minor": 2
}
