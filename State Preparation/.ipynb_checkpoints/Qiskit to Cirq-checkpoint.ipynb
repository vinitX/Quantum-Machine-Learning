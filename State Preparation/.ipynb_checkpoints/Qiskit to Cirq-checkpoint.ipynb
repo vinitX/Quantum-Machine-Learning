{
 "cells": [
  {
   "cell_type": "code",
   "execution_count": 1,
   "metadata": {
    "colab": {
     "base_uri": "https://localhost:8080/",
     "height": 1000
    },
    "colab_type": "code",
    "executionInfo": {
     "elapsed": 55682,
     "status": "ok",
     "timestamp": 1590899723846,
     "user": {
      "displayName": "Vinit Singh",
      "photoUrl": "https://lh3.googleusercontent.com/a-/AOh14GgoL8sImEqXRxPWWhRxjJ5WXMgF2SYIIK4QOnexgbk=s64",
      "userId": "08885898808014521859"
     },
     "user_tz": -330
    },
    "id": "P6xsjsgQZ2dL",
    "outputId": "c129c30e-36ce-47b6-c17e-9ef51a771348"
   },
   "outputs": [],
   "source": [
    "#!pip install cirq\n",
    "#!pip install qiskit"
   ]
  },
  {
   "cell_type": "code",
   "execution_count": 0,
   "metadata": {
    "colab": {},
    "colab_type": "code",
    "id": "_4uZhHexZ9Q3"
   },
   "outputs": [],
   "source": [
    "from qiskit import QuantumCircuit\n",
    "from qiskit.compiler import transpile\n",
    "import numpy as np\n",
    "import cirq\n",
    "from cirq.contrib.svg import SVGCircuit"
   ]
  },
  {
   "cell_type": "code",
   "execution_count": 3,
   "metadata": {
    "colab": {
     "base_uri": "https://localhost:8080/",
     "height": 207
    },
    "colab_type": "code",
    "executionInfo": {
     "elapsed": 61168,
     "status": "ok",
     "timestamp": 1590899729359,
     "user": {
      "displayName": "Vinit Singh",
      "photoUrl": "https://lh3.googleusercontent.com/a-/AOh14GgoL8sImEqXRxPWWhRxjJ5WXMgF2SYIIK4QOnexgbk=s64",
      "userId": "08885898808014521859"
     },
     "user_tz": -330
    },
    "id": "e54dBSl7aBMa",
    "outputId": "3a3604bf-4a61-4a56-9f7a-08a52299a1db"
   },
   "outputs": [
    {
     "name": "stdout",
     "output_type": "stream",
     "text": [
      "[[-0.56816781  0.50657583 -0.39361528 -0.51539623]\n",
      " [-0.60108527 -0.76896703 -0.2076294   0.06539298]\n",
      " [-0.40390977  0.3872373  -0.00381249  0.82878805]\n",
      " [-0.39081804  0.04602076  0.89551243 -0.20784813]]\n"
     ]
    },
    {
     "data": {
      "image/png": "[encoded data removed]",
      "text/plain": [
       "<Figure size 840.392x144.48 with 1 Axes>"
      ]
     },
     "execution_count": 3,
     "metadata": {
      "tags": []
     },
     "output_type": "execute_result"
    }
   ],
   "source": [
    "q=2\n",
    "A=np.random.rand(2**q,2**q)\n",
    "U,S,V=np.linalg.svd(A)\n",
    "print(U)\n",
    "qc=QuantumCircuit(q)\n",
    "qc.unitary(U,list(range(q)))\n",
    "qc=transpile(qc,basis_gates=['cx','u3'])\n",
    "qc.draw(output='mpl')"
   ]
  },
  {
   "cell_type": "code",
   "execution_count": 4,
   "metadata": {
    "colab": {
     "base_uri": "https://localhost:8080/",
     "height": 84
    },
    "colab_type": "code",
    "executionInfo": {
     "elapsed": 61159,
     "status": "ok",
     "timestamp": 1590899729361,
     "user": {
      "displayName": "Vinit Singh",
      "photoUrl": "https://lh3.googleusercontent.com/a-/AOh14GgoL8sImEqXRxPWWhRxjJ5WXMgF2SYIIK4QOnexgbk=s64",
      "userId": "08885898808014521859"
     },
     "user_tz": -330
    },
    "id": "1a9eQNJkKlGg",
    "outputId": "3f8f06fa-0224-40ff-f359-ba989ed86a8c"
   },
   "outputs": [
    {
     "data": {
      "text/plain": [
       "([2.5437754609347323, -6.2831853071795845, 4.440892098500626e-16],\n",
       " 'u3',\n",
       " QuantumRegister(2, 'q'),\n",
       " 1)"
      ]
     },
     "execution_count": 4,
     "metadata": {
      "tags": []
     },
     "output_type": "execute_result"
    }
   ],
   "source": [
    "qc.data[0][0]._params, qc.data[0][0].name, qc.data[1][1][0].register, qc.data[1][1][0].index"
   ]
  },
  {
   "cell_type": "code",
   "execution_count": 5,
   "metadata": {
    "colab": {
     "base_uri": "https://localhost:8080/",
     "height": 34
    },
    "colab_type": "code",
    "executionInfo": {
     "elapsed": 61148,
     "status": "ok",
     "timestamp": 1590899729362,
     "user": {
      "displayName": "Vinit Singh",
      "photoUrl": "https://lh3.googleusercontent.com/a-/AOh14GgoL8sImEqXRxPWWhRxjJ5WXMgF2SYIIK4QOnexgbk=s64",
      "userId": "08885898808014521859"
     },
     "user_tz": -330
    },
    "id": "X2PxJBM9fHcJ",
    "outputId": "6f293572-1d74-4b08-ccab-167f887d4e17"
   },
   "outputs": [
    {
     "data": {
      "text/plain": [
       "[Qubit(QuantumRegister(2, 'q'), 0), Qubit(QuantumRegister(2, 'q'), 1)]"
      ]
     },
     "execution_count": 5,
     "metadata": {
      "tags": []
     },
     "output_type": "execute_result"
    }
   ],
   "source": [
    "qc.qubits"
   ]
  },
  {
   "cell_type": "code",
   "execution_count": 6,
   "metadata": {
    "colab": {
     "base_uri": "https://localhost:8080/",
     "height": 272
    },
    "colab_type": "code",
    "executionInfo": {
     "elapsed": 49221,
     "status": "ok",
     "timestamp": 1590899729363,
     "user": {
      "displayName": "Vinit Singh",
      "photoUrl": "https://lh3.googleusercontent.com/a-/AOh14GgoL8sImEqXRxPWWhRxjJ5WXMgF2SYIIK4QOnexgbk=s64",
      "userId": "08885898808014521859"
     },
     "user_tz": -330
    },
    "id": "8nVp0VN6883t",
    "outputId": "5d1e5ec0-3abb-422c-8ca1-0bc5bd03d235"
   },
   "outputs": [
    {
     "name": "stderr",
     "output_type": "stream",
     "text": [
      "findfont: Font family ['Arial'] not found. Falling back to DejaVu Sans.\n"
     ]
    },
    {
     "name": "stdout",
     "output_type": "stream",
     "text": [
      "[[ 0.357-0.072j -0.026+0.923j -0.007-0.058j  0.069+0.085j]\n",
      " [ 0.279-0.309j  0.015-0.08j   0.35 +0.159j -0.79 +0.22j ]\n",
      " [ 0.162+0.179j  0.084-0.067j -0.844-0.001j -0.273+0.379j]\n",
      " [-0.062+0.795j  0.35 +0.085j  0.344+0.135j -0.07 +0.304j]]\n",
      "[[ 0.353+0.09j  -0.426+0.819j  0.019-0.056j  0.025+0.107j]\n",
      " [ 0.386-0.156j  0.049-0.065j  0.246+0.295j -0.807-0.146j]\n",
      " [ 0.067+0.232j  0.105-0.024j -0.759-0.368j -0.411+0.222j]\n",
      " [-0.402+0.689j  0.278+0.229j  0.251+0.272j -0.195+0.243j]]\n"
     ]
    },
    {
     "data": {
      "image/svg+xml": [
       "<svg xmlns=\"http://www.w3.org/2000/svg\" width=\"1098.6446875000001\" height=\"100.0\"><line x1=\"30.0\" x2=\"1068.6446875000001\" y1=\"25.0\" y2=\"25.0\" stroke=\"#1967d2\" stroke-width=\"1\" /><line x1=\"30.0\" x2=\"1068.6446875000001\" y1=\"75.0\" y2=\"75.0\" stroke=\"#1967d2\" stroke-width=\"1\" /><line x1=\"263.7947265625\" x2=\"263.7947265625\" y1=\"25.0\" y2=\"75.0\" stroke=\"black\" stroke-width=\"3\" /><line x1=\"501.69371093750004\" x2=\"501.69371093750004\" y1=\"25.0\" y2=\"75.0\" stroke=\"black\" stroke-width=\"3\" /><line x1=\"740.8338281250001\" x2=\"740.8338281250001\" y1=\"25.0\" y2=\"75.0\" stroke=\"black\" stroke-width=\"3\" /><rect x=\"10.0\" y=\"5.0\" width=\"40\" height=\"40\" stroke=\"black\" fill=\"white\" stroke-width=\"0\" /><text x=\"30.0\" y=\"25.0\" dominant-baseline=\"middle\" text-anchor=\"middle\" font-size=\"14px\">0: </text><rect x=\"10.0\" y=\"55.0\" width=\"40\" height=\"40\" stroke=\"black\" fill=\"white\" stroke-width=\"0\" /><text x=\"30.0\" y=\"75.0\" dominant-baseline=\"middle\" text-anchor=\"middle\" font-size=\"14px\">1: </text><rect x=\"69.99999999999999\" y=\"5.0\" width=\"137.0524609375\" height=\"40\" stroke=\"black\" fill=\"white\" stroke-width=\"1\" /><text x=\"138.52623046875\" y=\"25.0\" dominant-baseline=\"middle\" text-anchor=\"middle\" font-size=\"14px\">PhX(0.678)^0.811</text><rect x=\"69.99999999999999\" y=\"55.0\" width=\"137.0524609375\" height=\"40\" stroke=\"black\" fill=\"white\" stroke-width=\"1\" /><text x=\"138.52623046875\" y=\"75.0\" dominant-baseline=\"middle\" text-anchor=\"middle\" font-size=\"14px\">PhX(-0.66)^0.48</text><circle cx=\"263.7947265625\" cy=\"25.0\" r=\"10.0\" /><rect x=\"227.05246093749997\" y=\"55.0\" width=\"73.48453125\" height=\"40\" stroke=\"black\" fill=\"white\" stroke-width=\"1\" /><text x=\"263.7947265625\" y=\"75.0\" dominant-baseline=\"middle\" text-anchor=\"middle\" font-size=\"14px\">@^0.912</text><rect x=\"320.5369921875\" y=\"5.0\" width=\"124.35976562500002\" height=\"40\" stroke=\"black\" fill=\"white\" stroke-width=\"1\" /><text x=\"382.716875\" y=\"25.0\" dominant-baseline=\"middle\" text-anchor=\"middle\" font-size=\"14px\">PhX(-0.739)^0.5</text><rect x=\"320.5369921875\" y=\"55.0\" width=\"124.35976562500002\" height=\"40\" stroke=\"black\" fill=\"white\" stroke-width=\"1\" /><text x=\"382.716875\" y=\"75.0\" dominant-baseline=\"middle\" text-anchor=\"middle\" font-size=\"14px\">PhX(-0.969)^0.5</text><circle cx=\"501.69371093750004\" cy=\"25.0\" r=\"10.0\" /><rect x=\"464.8967578125\" y=\"55.0\" width=\"73.59390625\" height=\"40\" stroke=\"black\" fill=\"white\" stroke-width=\"1\" /><text x=\"501.69371093750004\" y=\"75.0\" dominant-baseline=\"middle\" text-anchor=\"middle\" font-size=\"14px\">@^0.681</text><rect x=\"558.4906640625002\" y=\"5.0\" width=\"124.35976562500002\" height=\"40\" stroke=\"black\" fill=\"white\" stroke-width=\"1\" /><text x=\"620.6705468750001\" y=\"25.0\" dominant-baseline=\"middle\" text-anchor=\"middle\" font-size=\"14px\">PhX(0.101)^0.5</text><rect x=\"558.4906640625002\" y=\"55.0\" width=\"124.35976562500002\" height=\"40\" stroke=\"black\" fill=\"white\" stroke-width=\"1\" /><text x=\"620.6705468750001\" y=\"75.0\" dominant-baseline=\"middle\" text-anchor=\"middle\" font-size=\"14px\">PhX(-0.129)^0.5</text><circle cx=\"740.8338281250001\" cy=\"25.0\" r=\"10.0\" /><rect x=\"702.8504296875001\" y=\"55.0\" width=\"75.96679687500001\" height=\"40\" stroke=\"black\" fill=\"white\" stroke-width=\"1\" /><text x=\"740.8338281250001\" y=\"75.0\" dominant-baseline=\"middle\" text-anchor=\"middle\" font-size=\"14px\">@^(1/12)</text><rect x=\"798.8172265625001\" y=\"5.0\" width=\"160.01492187500003\" height=\"40\" stroke=\"black\" fill=\"white\" stroke-width=\"1\" /><text x=\"878.8246875000001\" y=\"25.0\" dominant-baseline=\"middle\" text-anchor=\"middle\" font-size=\"14px\">PhX(-0.347)^(1/8)</text><rect x=\"798.8172265625001\" y=\"55.0\" width=\"160.01492187500003\" height=\"40\" stroke=\"black\" fill=\"white\" stroke-width=\"1\" /><text x=\"878.8246875000001\" y=\"75.0\" dominant-baseline=\"middle\" text-anchor=\"middle\" font-size=\"14px\">PhX(-0.00702)^0.477</text><rect x=\"978.8321484375001\" y=\"55.0\" width=\"69.81253906250001\" height=\"40\" stroke=\"black\" fill=\"white\" stroke-width=\"1\" /><text x=\"1013.7384179687501\" y=\"75.0\" dominant-baseline=\"middle\" text-anchor=\"middle\" font-size=\"14px\">Z^0.442</text><rect x=\"978.8321484375001\" y=\"5.0\" width=\"69.81253906250001\" height=\"40\" stroke=\"black\" fill=\"white\" stroke-width=\"1\" /><text x=\"1013.7384179687501\" y=\"25.0\" dominant-baseline=\"middle\" text-anchor=\"middle\" font-size=\"14px\">Z^0.578</text></svg>"
      ],
      "text/plain": [
       "<cirq.contrib.svg.svg.SVGCircuit at 0x7f5de8931f28>"
      ]
     },
     "execution_count": 6,
     "metadata": {
      "tags": []
     },
     "output_type": "execute_result"
    }
   ],
   "source": [
    "desired_matrix = cirq.testing.random_unitary(dim=4)\n",
    "\n",
    "synthesized_operations = cirq.two_qubit_matrix_to_operations(\n",
    "    cirq.LineQubit(0),\n",
    "    cirq.LineQubit(1),\n",
    "    desired_matrix,\n",
    "    allow_partial_czs=True,\n",
    ")\n",
    "circuit = cirq.Circuit(synthesized_operations)\n",
    "\n",
    "synthesized_matrix = cirq.unitary(circuit)\n",
    "\n",
    "cirq.testing.assert_allclose_up_to_global_phase(\n",
    "    desired_matrix,\n",
    "    synthesized_matrix,\n",
    "    atol=1e-4\n",
    ")\n",
    "\n",
    "print(desired_matrix.round(3))\n",
    "print(synthesized_matrix.round(3))\n",
    "SVGCircuit(circuit)"
   ]
  },
  {
   "cell_type": "code",
   "execution_count": 20,
   "metadata": {
    "colab": {
     "base_uri": "https://localhost:8080/",
     "height": 105
    },
    "colab_type": "code",
    "executionInfo": {
     "elapsed": 1462,
     "status": "ok",
     "timestamp": 1590900156468,
     "user": {
      "displayName": "Vinit Singh",
      "photoUrl": "https://lh3.googleusercontent.com/a-/AOh14GgoL8sImEqXRxPWWhRxjJ5WXMgF2SYIIK4QOnexgbk=s64",
      "userId": "08885898808014521859"
     },
     "user_tz": -330
    },
    "id": "6j0S3LyII_SO",
    "outputId": "2dd70973-e6d9-435d-ee9a-e7d86c5c1260"
   },
   "outputs": [
    {
     "name": "stdout",
     "output_type": "stream",
     "text": [
      "[[-0.693+0.391j  0.505-0.336j]\n",
      " [-0.006-0.606j -0.067-0.792j]]\n"
     ]
    },
    {
     "data": {
      "image/svg+xml": [
       "<svg xmlns=\"http://www.w3.org/2000/svg\" width=\"370.59015625\" height=\"50.0\"><line x1=\"30.0\" x2=\"340.59015625\" y1=\"25.0\" y2=\"25.0\" stroke=\"#1967d2\" stroke-width=\"1\" /><rect x=\"10.0\" y=\"5.0\" width=\"40\" height=\"40\" stroke=\"black\" fill=\"white\" stroke-width=\"0\" /><text x=\"30.0\" y=\"25.0\" dominant-baseline=\"middle\" text-anchor=\"middle\" font-size=\"14px\">0: </text><rect x=\"70.0\" y=\"5.0\" width=\"74.70023437500001\" height=\"40\" stroke=\"black\" fill=\"white\" stroke-width=\"1\" /><text x=\"107.3501171875\" y=\"25.0\" dominant-baseline=\"middle\" text-anchor=\"middle\" font-size=\"14px\">Z^-0.523</text><rect x=\"164.70023437499998\" y=\"5.0\" width=\"69.7600390625\" height=\"40\" stroke=\"black\" fill=\"white\" stroke-width=\"1\" /><text x=\"199.58025390625\" y=\"25.0\" dominant-baseline=\"middle\" text-anchor=\"middle\" font-size=\"14px\">X^0.415</text><rect x=\"254.4602734375\" y=\"5.0\" width=\"66.1298828125\" height=\"40\" stroke=\"black\" fill=\"white\" stroke-width=\"1\" /><text x=\"287.52521484375\" y=\"25.0\" dominant-baseline=\"middle\" text-anchor=\"middle\" font-size=\"14px\">Z^-0.84</text></svg>"
      ],
      "text/plain": [
       "<cirq.contrib.svg.svg.SVGCircuit at 0x7f5de80b2ac8>"
      ]
     },
     "execution_count": 20,
     "metadata": {
      "tags": []
     },
     "output_type": "execute_result"
    }
   ],
   "source": [
    "circuit = cirq.Circuit()\n",
    "qubits=cirq.LineQubit.range(1)\n",
    "\n",
    "desired_matrix = cirq.testing.random_unitary(dim=2)\n",
    "\n",
    "synthesized_operations = cirq.single_qubit_matrix_to_gates(desired_matrix)\n",
    "for i in synthesized_operations:\n",
    "  circuit.append(i(qubits[0]))\n",
    "\n",
    "print(desired_matrix.round(3))\n",
    "#synthesized_operations\n",
    "SVGCircuit(circuit)"
   ]
  },
  {
   "cell_type": "code",
   "execution_count": 23,
   "metadata": {
    "colab": {
     "base_uri": "https://localhost:8080/",
     "height": 71
    },
    "colab_type": "code",
    "executionInfo": {
     "elapsed": 1640,
     "status": "ok",
     "timestamp": 1590900320564,
     "user": {
      "displayName": "Vinit Singh",
      "photoUrl": "https://lh3.googleusercontent.com/a-/AOh14GgoL8sImEqXRxPWWhRxjJ5WXMgF2SYIIK4QOnexgbk=s64",
      "userId": "08885898808014521859"
     },
     "user_tz": -330
    },
    "id": "k8A5sRjIFoYn",
    "outputId": "e789a85d-d217-4195-c66f-b071a9668cc1"
   },
   "outputs": [
    {
     "data": {
      "image/svg+xml": [
       "<svg xmlns=\"http://www.w3.org/2000/svg\" width=\"633.9764453125001\" height=\"50.0\"><line x1=\"30.0\" x2=\"603.9764453125001\" y1=\"25.0\" y2=\"25.0\" stroke=\"#1967d2\" stroke-width=\"1\" /><rect x=\"10.0\" y=\"5.0\" width=\"40\" height=\"40\" stroke=\"black\" fill=\"white\" stroke-width=\"0\" /><text x=\"30.0\" y=\"25.0\" dominant-baseline=\"middle\" text-anchor=\"middle\" font-size=\"14px\">0: </text><rect x=\"70.0\" y=\"5.0\" width=\"74.70023437500001\" height=\"40\" stroke=\"black\" fill=\"white\" stroke-width=\"1\" /><text x=\"107.3501171875\" y=\"25.0\" dominant-baseline=\"middle\" text-anchor=\"middle\" font-size=\"14px\">Z^-0.523</text><rect x=\"164.70023437499998\" y=\"5.0\" width=\"69.7600390625\" height=\"40\" stroke=\"black\" fill=\"white\" stroke-width=\"1\" /><text x=\"199.58025390625\" y=\"25.0\" dominant-baseline=\"middle\" text-anchor=\"middle\" font-size=\"14px\">X^0.415</text><rect x=\"254.4602734375\" y=\"5.0\" width=\"66.1298828125\" height=\"40\" stroke=\"black\" fill=\"white\" stroke-width=\"1\" /><text x=\"287.52521484375\" y=\"25.0\" dominant-baseline=\"middle\" text-anchor=\"middle\" font-size=\"14px\">Z^-0.84</text><rect x=\"340.59015625\" y=\"5.0\" width=\"243.38628906250005\" height=\"40\" stroke=\"black\" fill=\"white\" stroke-width=\"1\" /><text x=\"462.28330078125003\" y=\"25.0\" dominant-baseline=\"middle\" text-anchor=\"middle\" font-size=\"14px\">PhXZ(a=0.523,x=0.415,z=0.637)</text></svg>"
      ],
      "text/plain": [
       "<cirq.contrib.svg.svg.SVGCircuit at 0x7f5de80b26d8>"
      ]
     },
     "execution_count": 23,
     "metadata": {
      "tags": []
     },
     "output_type": "execute_result"
    }
   ],
   "source": [
    "circuit.append(cirq.single_qubit_matrix_to_phxz(desired_matrix)(qubits[0]))\n",
    "SVGCircuit(circuit)"
   ]
  },
  {
   "cell_type": "code",
   "execution_count": 24,
   "metadata": {
    "colab": {
     "base_uri": "https://localhost:8080/",
     "height": 67
    },
    "colab_type": "code",
    "executionInfo": {
     "elapsed": 1761,
     "status": "ok",
     "timestamp": 1590900443519,
     "user": {
      "displayName": "Vinit Singh",
      "photoUrl": "https://lh3.googleusercontent.com/a-/AOh14GgoL8sImEqXRxPWWhRxjJ5WXMgF2SYIIK4QOnexgbk=s64",
      "userId": "08885898808014521859"
     },
     "user_tz": -330
    },
    "id": "ObsLqNGQDihF",
    "outputId": "7c835d50-b090-4842-8d01-056b19fcdaf2"
   },
   "outputs": [
    {
     "data": {
      "text/plain": [
       "[(cirq.Z, 1.476576127469647),\n",
       " (cirq.X, 0.41485472118075273),\n",
       " (cirq.Z, 1.1601099916489654)]"
      ]
     },
     "execution_count": 24,
     "metadata": {
      "tags": []
     },
     "output_type": "execute_result"
    }
   ],
   "source": [
    "cirq.single_qubit_matrix_to_pauli_rotations(desired_matrix)"
   ]
  },
  {
   "cell_type": "code",
   "execution_count": 0,
   "metadata": {
    "colab": {},
    "colab_type": "code",
    "id": "njl2oML5F4nT"
   },
   "outputs": [],
   "source": [
    "cirq.testing.assert_allclose_up_to_global_phase(\n",
    "    desired_matrix,\n",
    "    synthesized_matrix,\n",
    "    atol=1e-4\n",
    ")"
   ]
  },
  {
   "cell_type": "code",
   "execution_count": 0,
   "metadata": {
    "colab": {},
    "colab_type": "code",
    "id": "ZBN0nQWhGP9K"
   },
   "outputs": [],
   "source": []
  }
 ],
 "metadata": {
  "colab": {
   "authorship_tag": "ABX9TyNHcXHy95o60yz3CCdWGsJY",
   "name": "Qiskit to Cirq.ipynb",
   "provenance": []
  },
  "kernelspec": {
   "display_name": "Python 3",
   "language": "python",
   "name": "python3"
  },
  "language_info": {
   "codemirror_mode": {
    "name": "ipython",
    "version": 3
   },
   "file_extension": ".py",
   "mimetype": "text/x-python",
   "name": "python",
   "nbconvert_exporter": "python",
   "pygments_lexer": "ipython3",
   "version": "3.7.4"
  }
 },
 "nbformat": 4,
 "nbformat_minor": 1
}
