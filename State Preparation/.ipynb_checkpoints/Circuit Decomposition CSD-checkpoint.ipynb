{
 "cells": [
  {
   "cell_type": "code",
   "execution_count": 1,
   "metadata": {
    "colab": {
     "base_uri": "https://localhost:8080/",
     "height": 1000
    },
    "colab_type": "code",
    "executionInfo": {
     "elapsed": 41131,
     "status": "ok",
     "timestamp": 1591109257905,
     "user": {
      "displayName": "Vinit Singh",
      "photoUrl": "https://lh3.googleusercontent.com/a-/AOh14GgoL8sImEqXRxPWWhRxjJ5WXMgF2SYIIK4QOnexgbk=s64",
      "userId": "08885898808014521859"
     },
     "user_tz": -330
    },
    "id": "rD6_0y5Jv0YZ",
    "outputId": "932a24c2-1b27-4b02-9c2d-e23e2a639e19"
   },
   "outputs": [],
   "source": [
    "#!pip install qiskit"
   ]
  },
  {
   "cell_type": "code",
   "execution_count": 2,
   "metadata": {
    "colab": {},
    "colab_type": "code",
    "id": "T_Mw6X700ltY"
   },
   "outputs": [],
   "source": [
    "from qiskit import QuantumRegister, QuantumCircuit, execute\n",
    "from qiskit.quantum_info.operators import Operator\n",
    "from qiskit.visualization import plot_histogram, plot_state_city\n",
    "from qiskit import Aer\n",
    "from qiskit.compiler import transpile"
   ]
  },
  {
   "cell_type": "code",
   "execution_count": 3,
   "metadata": {
    "colab": {},
    "colab_type": "code",
    "id": "QhvUqytOa7gi"
   },
   "outputs": [],
   "source": [
    "import numpy as np\n",
    "from math import sin, cos, atan2\n",
    "import matplotlib.pyplot as plt\n",
    "from numpy.linalg import norm,svd"
   ]
  },
  {
   "cell_type": "code",
   "execution_count": 4,
   "metadata": {
    "colab": {},
    "colab_type": "code",
    "id": "_m7eMShSwkr4"
   },
   "outputs": [],
   "source": [
    "def state_prep(ckt,A,q):\n",
    "    if q==1:\n",
    "        ckt.u3(2*atan2(A[1],A[0]),0,0,0)\n",
    "        return ckt\n",
    "    \n",
    "    n=q-q//2 #n>=m\n",
    "    m=q//2\n",
    "    A=np.reshape(A,(2**m,2**n))\n",
    "    A=np.transpose(A)\n",
    "    \n",
    "    U,S,V=np.linalg.svd(A)\n",
    "    ckt=state_prep(ckt,S,q//2)\n",
    "    \n",
    "    for i in range(m):\n",
    "        ckt.cx(i,i+n)\n",
    "    if q%2==1:\n",
    "        ckt.cx(q//2,q-1)\n",
    "    ckt.barrier()\n",
    "    \n",
    "    ckt.unitary(Operator(U), list(range(n)))\n",
    "    ckt.unitary(Operator(np.transpose(V)), list(range(n,q)))\n",
    "    ckt.barrier()\n",
    "    print(q,\"Q   done\")\n",
    "    return ckt"
   ]
  },
  {
   "cell_type": "code",
   "execution_count": 5,
   "metadata": {
    "colab": {},
    "colab_type": "code",
    "id": "KNXutkUP_lJD"
   },
   "outputs": [],
   "source": [
    "def direct_sum(A,B):\n",
    "    n=np.shape(A)[0]\n",
    "    m=np.shape(B)[0]\n",
    "    res=np.zeros((n+m,n+m))\n",
    "    res[:n,:n]=A\n",
    "    res[n:,n:]=B\n",
    "    return res\n",
    "\n",
    "def genY(C,S):\n",
    "    n=np.shape(C)[0]\n",
    "    m=np.shape(S)[0]\n",
    "    res=np.zeros((n+m,n+m))\n",
    "    res[:n,:n]=C\n",
    "    res[:n,n:]=-S\n",
    "    res[n:,:n]=S\n",
    "    res[n:,n:]=C\n",
    "    return res"
   ]
  },
  {
   "cell_type": "code",
   "execution_count": 6,
   "metadata": {
    "colab": {},
    "colab_type": "code",
    "id": "-BxP66_TvzKv"
   },
   "outputs": [],
   "source": [
    "def CSD(U,q):\n",
    "    n=2**q\n",
    "    A=U[:n//2,:n//2]\n",
    "    B=U[n//2:,n//2:]\n",
    "    U1,C,V1=np.linalg.svd(A)\n",
    "    U2,C,V2=np.linalg.svd(B)\n",
    "    V1=V1.T\n",
    "    V2=V2.T\n",
    "\n",
    "    S=U2.T@U[n//2:,:n//2]@V1      \n",
    "    #S=-U1.T@U[:n//2,n//2:]@V2 \n",
    "    #S=np.sin(np.arccos(C))#(1-C**2)**0.5   #Doesn't take care of the sign of Sine\n",
    "\n",
    "    C=np.diag(C)\n",
    "\n",
    "    return U1,U2,genY(C,S),V1.T,V2.T"
   ]
  },
  {
   "cell_type": "code",
   "execution_count": null,
   "metadata": {
    "colab": {
     "base_uri": "https://localhost:8080/",
     "height": 185
    },
    "colab_type": "code",
    "executionInfo": {
     "elapsed": 2649,
     "status": "ok",
     "timestamp": 1591109925764,
     "user": {
      "displayName": "Vinit Singh",
      "photoUrl": "https://lh3.googleusercontent.com/a-/AOh14GgoL8sImEqXRxPWWhRxjJ5WXMgF2SYIIK4QOnexgbk=s64",
      "userId": "08885898808014521859"
     },
     "user_tz": -330
    },
    "id": "4jIi4YEs7DPy",
    "outputId": "d0045e2c-1d96-4aeb-e042-8f7b392dbbb3"
   },
   "outputs": [],
   "source": [
    "q=2\n",
    "n=2**q\n",
    "\n",
    "A=np.random.rand(n,n)\n",
    "U,S,V=np.linalg.svd(A)\n",
    "\n",
    "ckt=QuantumCircuit(2,1)\n",
    "ckt.unitary(U,[0,1])\n",
    "\n",
    "ckt=transpile(ckt,basis_gates=['u3','cx'],seed_transpiler=0)\n",
    "\n",
    "ckt.draw(output='mpl')"
   ]
  },
  {
   "cell_type": "code",
   "execution_count": null,
   "metadata": {
    "colab": {
     "base_uri": "https://localhost:8080/",
     "height": 185
    },
    "colab_type": "code",
    "executionInfo": {
     "elapsed": 3923,
     "status": "ok",
     "timestamp": 1589426129338,
     "user": {
      "displayName": "Vinit Singh",
      "photoUrl": "https://lh3.googleusercontent.com/a-/AOh14GgoL8sImEqXRxPWWhRxjJ5WXMgF2SYIIK4QOnexgbk=s64",
      "userId": "08885898808014521859"
     },
     "user_tz": -330
    },
    "id": "ACVitDtr-3nh",
    "outputId": "6bb25ed3-2894-4e6d-a2d3-2bfe857da66f"
   },
   "outputs": [],
   "source": [
    "ckt=QuantumCircuit(2)\n",
    "ckt.crz(0.1,0,1)\n",
    "ckt=transpile(ckt,basis_gates=['u3','cx'],seed_transpiler=0)\n",
    "ckt.draw(output='mpl')"
   ]
  },
  {
   "cell_type": "code",
   "execution_count": 0,
   "metadata": {
    "colab": {},
    "colab_type": "code",
    "id": "7zoEqgOTB6nC"
   },
   "outputs": [],
   "source": []
  }
 ],
 "metadata": {
  "colab": {
   "authorship_tag": "ABX9TyN12arlRV95Wkg2QcEnd+dF",
   "collapsed_sections": [],
   "name": "Circuit Decomposition",
   "provenance": []
  },
  "kernelspec": {
   "display_name": "Python 3",
   "language": "python",
   "name": "python3"
  },
  "language_info": {
   "codemirror_mode": {
    "name": "ipython",
    "version": 3
   },
   "file_extension": ".py",
   "mimetype": "text/x-python",
   "name": "python",
   "nbconvert_exporter": "python",
   "pygments_lexer": "ipython3",
   "version": "3.7.4"
  }
 },
 "nbformat": 4,
 "nbformat_minor": 1
}
