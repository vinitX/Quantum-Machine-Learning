{
 "cells": [
  {
   "cell_type": "code",
   "execution_count": 6,
   "metadata": {
    "colab": {
     "base_uri": "https://localhost:8080/",
     "height": 1000
    },
    "colab_type": "code",
    "executionInfo": {
     "elapsed": 18251,
     "status": "ok",
     "timestamp": 1591329239206,
     "user": {
      "displayName": "Vinit Singh",
      "photoUrl": "https://lh3.googleusercontent.com/a-/AOh14GgoL8sImEqXRxPWWhRxjJ5WXMgF2SYIIK4QOnexgbk=s64",
      "userId": "08885898808014521859"
     },
     "user_tz": -330
    },
    "id": "rD6_0y5Jv0YZ",
    "outputId": "f43d2c69-f4a2-49e3-9285-9c1c8c8cf888"
   },
   "outputs": [
    {
     "name": "stdout",
     "output_type": "stream",
     "text": [
      "Requirement already satisfied: qiskit in /usr/local/lib/python3.6/dist-packages (0.19.3)\n",
      "Requirement already satisfied: qiskit-terra==0.14.1 in /usr/local/lib/python3.6/dist-packages (from qiskit) (0.14.1)\n",
      "Requirement already satisfied: qiskit-ignis==0.3.0 in /usr/local/lib/python3.6/dist-packages (from qiskit) (0.3.0)\n",
      "Requirement already satisfied: qiskit-ibmq-provider==0.7.2 in /usr/local/lib/python3.6/dist-packages (from qiskit) (0.7.2)\n",
      "Requirement already satisfied: qiskit-aer==0.5.2 in /usr/local/lib/python3.6/dist-packages (from qiskit) (0.5.2)\n",
      "Requirement already satisfied: qiskit-aqua==0.7.1 in /usr/local/lib/python3.6/dist-packages (from qiskit) (0.7.1)\n",
      "Requirement already satisfied: sympy>=1.3 in /usr/local/lib/python3.6/dist-packages (from qiskit-terra==0.14.1->qiskit) (1.6)\n",
      "Requirement already satisfied: networkx>=2.2; python_version > \"3.5\" in /usr/local/lib/python3.6/dist-packages (from qiskit-terra==0.14.1->qiskit) (2.4)\n",
      "Requirement already satisfied: dill>=0.3 in /usr/local/lib/python3.6/dist-packages (from qiskit-terra==0.14.1->qiskit) (0.3.1.1)\n",
      "Requirement already satisfied: numpy>=1.17 in /usr/local/lib/python3.6/dist-packages (from qiskit-terra==0.14.1->qiskit) (1.18.4)\n",
      "Requirement already satisfied: jsonschema>=2.6 in /usr/local/lib/python3.6/dist-packages (from qiskit-terra==0.14.1->qiskit) (2.6.0)\n",
      "Requirement already satisfied: marshmallow<4,>=3 in /usr/local/lib/python3.6/dist-packages (from qiskit-terra==0.14.1->qiskit) (3.6.1)\n",
      "Requirement already satisfied: fastjsonschema>=2.10 in /usr/local/lib/python3.6/dist-packages (from qiskit-terra==0.14.1->qiskit) (2.14.4)\n",
      "Requirement already satisfied: ply>=3.10 in /usr/local/lib/python3.6/dist-packages (from qiskit-terra==0.14.1->qiskit) (3.11)\n",
      "Requirement already satisfied: retworkx>=0.3.2 in /usr/local/lib/python3.6/dist-packages (from qiskit-terra==0.14.1->qiskit) (0.3.4)\n",
      "Requirement already satisfied: python-constraint>=1.4 in /usr/local/lib/python3.6/dist-packages (from qiskit-terra==0.14.1->qiskit) (1.4.0)\n",
      "Requirement already satisfied: marshmallow-polyfield<6,>=5.7 in /usr/local/lib/python3.6/dist-packages (from qiskit-terra==0.14.1->qiskit) (5.9)\n",
      "Requirement already satisfied: python-dateutil>=2.8.0 in /usr/local/lib/python3.6/dist-packages (from qiskit-terra==0.14.1->qiskit) (2.8.1)\n",
      "Requirement already satisfied: scipy>=1.4 in /usr/local/lib/python3.6/dist-packages (from qiskit-terra==0.14.1->qiskit) (1.4.1)\n",
      "Requirement already satisfied: psutil>=5 in /usr/local/lib/python3.6/dist-packages (from qiskit-terra==0.14.1->qiskit) (5.4.8)\n",
      "Requirement already satisfied: setuptools>=40.1.0 in /usr/local/lib/python3.6/dist-packages (from qiskit-ignis==0.3.0->qiskit) (47.1.1)\n",
      "Requirement already satisfied: requests-ntlm>=1.1.0 in /usr/local/lib/python3.6/dist-packages (from qiskit-ibmq-provider==0.7.2->qiskit) (1.1.0)\n",
      "Requirement already satisfied: urllib3>=1.21.1 in /usr/local/lib/python3.6/dist-packages (from qiskit-ibmq-provider==0.7.2->qiskit) (1.24.3)\n",
      "Requirement already satisfied: nest-asyncio!=1.1.0,>=1.0.0 in /usr/local/lib/python3.6/dist-packages (from qiskit-ibmq-provider==0.7.2->qiskit) (1.3.3)\n",
      "Requirement already satisfied: requests>=2.19 in /usr/local/lib/python3.6/dist-packages (from qiskit-ibmq-provider==0.7.2->qiskit) (2.23.0)\n",
      "Requirement already satisfied: websockets<8,>=7 in /usr/local/lib/python3.6/dist-packages (from qiskit-ibmq-provider==0.7.2->qiskit) (7.0)\n",
      "Requirement already satisfied: pybind11>=2.4 in /usr/local/lib/python3.6/dist-packages (from qiskit-aer==0.5.2->qiskit) (2.5.0)\n",
      "Requirement already satisfied: cython>=0.27.1 in /usr/local/lib/python3.6/dist-packages (from qiskit-aer==0.5.2->qiskit) (0.29.19)\n",
      "Requirement already satisfied: dlx in /usr/local/lib/python3.6/dist-packages (from qiskit-aqua==0.7.1->qiskit) (1.0.4)\n",
      "Requirement already satisfied: pyscf; sys_platform != \"win32\" in /usr/local/lib/python3.6/dist-packages (from qiskit-aqua==0.7.1->qiskit) (1.7.2.post2)\n",
      "Requirement already satisfied: fastdtw in /usr/local/lib/python3.6/dist-packages (from qiskit-aqua==0.7.1->qiskit) (0.3.4)\n",
      "Requirement already satisfied: quandl in /usr/local/lib/python3.6/dist-packages (from qiskit-aqua==0.7.1->qiskit) (3.5.0)\n",
      "Requirement already satisfied: scikit-learn>=0.20.0 in /usr/local/lib/python3.6/dist-packages (from qiskit-aqua==0.7.1->qiskit) (0.22.2.post1)\n",
      "Requirement already satisfied: docplex in /usr/local/lib/python3.6/dist-packages (from qiskit-aqua==0.7.1->qiskit) (2.14.186)\n",
      "Requirement already satisfied: h5py in /usr/local/lib/python3.6/dist-packages (from qiskit-aqua==0.7.1->qiskit) (2.10.0)\n",
      "Requirement already satisfied: mpmath>=0.19 in /usr/local/lib/python3.6/dist-packages (from sympy>=1.3->qiskit-terra==0.14.1->qiskit) (1.1.0)\n",
      "Requirement already satisfied: decorator>=4.3.0 in /usr/local/lib/python3.6/dist-packages (from networkx>=2.2; python_version > \"3.5\"->qiskit-terra==0.14.1->qiskit) (4.4.2)\n",
      "Requirement already satisfied: six>=1.5 in /usr/local/lib/python3.6/dist-packages (from python-dateutil>=2.8.0->qiskit-terra==0.14.1->qiskit) (1.12.0)\n",
      "Requirement already satisfied: cryptography>=1.3 in /usr/local/lib/python3.6/dist-packages (from requests-ntlm>=1.1.0->qiskit-ibmq-provider==0.7.2->qiskit) (2.9.2)\n",
      "Requirement already satisfied: ntlm-auth>=1.0.2 in /usr/local/lib/python3.6/dist-packages (from requests-ntlm>=1.1.0->qiskit-ibmq-provider==0.7.2->qiskit) (1.4.0)\n",
      "Requirement already satisfied: chardet<4,>=3.0.2 in /usr/local/lib/python3.6/dist-packages (from requests>=2.19->qiskit-ibmq-provider==0.7.2->qiskit) (3.0.4)\n",
      "Requirement already satisfied: idna<3,>=2.5 in /usr/local/lib/python3.6/dist-packages (from requests>=2.19->qiskit-ibmq-provider==0.7.2->qiskit) (2.9)\n",
      "Requirement already satisfied: certifi>=2017.4.17 in /usr/local/lib/python3.6/dist-packages (from requests>=2.19->qiskit-ibmq-provider==0.7.2->qiskit) (2020.4.5.1)\n",
      "Requirement already satisfied: inflection>=0.3.1 in /usr/local/lib/python3.6/dist-packages (from quandl->qiskit-aqua==0.7.1->qiskit) (0.4.0)\n",
      "Requirement already satisfied: pandas>=0.14 in /usr/local/lib/python3.6/dist-packages (from quandl->qiskit-aqua==0.7.1->qiskit) (1.0.4)\n",
      "Requirement already satisfied: more-itertools in /usr/local/lib/python3.6/dist-packages (from quandl->qiskit-aqua==0.7.1->qiskit) (8.3.0)\n",
      "Requirement already satisfied: joblib>=0.11 in /usr/local/lib/python3.6/dist-packages (from scikit-learn>=0.20.0->qiskit-aqua==0.7.1->qiskit) (0.15.1)\n",
      "Requirement already satisfied: cffi!=1.11.3,>=1.8 in /usr/local/lib/python3.6/dist-packages (from cryptography>=1.3->requests-ntlm>=1.1.0->qiskit-ibmq-provider==0.7.2->qiskit) (1.14.0)\n",
      "Requirement already satisfied: pytz>=2017.2 in /usr/local/lib/python3.6/dist-packages (from pandas>=0.14->quandl->qiskit-aqua==0.7.1->qiskit) (2018.9)\n",
      "Requirement already satisfied: pycparser in /usr/local/lib/python3.6/dist-packages (from cffi!=1.11.3,>=1.8->cryptography>=1.3->requests-ntlm>=1.1.0->qiskit-ibmq-provider==0.7.2->qiskit) (2.20)\n",
      "Collecting cirq\n",
      "\u001b[?25l  Downloading https://files.pythonhosted.org/packages/a2/a4/2bcd91b3d99f34482d43ec3fbd1399105c8e61b78606ce907b019bb0135c/cirq-0.8.1-py3-none-any.whl (1.4MB)\n",
      "\u001b[K     |████████████████████████████████| 1.4MB 8.9MB/s \n",
      "\u001b[?25hRequirement already satisfied: sortedcontainers~=2.0 in /usr/local/lib/python3.6/dist-packages (from cirq) (2.1.0)\n",
      "Requirement already satisfied: requests~=2.18 in /usr/local/lib/python3.6/dist-packages (from cirq) (2.23.0)\n",
      "Requirement already satisfied: sympy in /usr/local/lib/python3.6/dist-packages (from cirq) (1.6)\n",
      "Collecting freezegun~=0.3.15\n",
      "  Downloading https://files.pythonhosted.org/packages/17/5d/1b9d6d3c7995fff473f35861d674e0113a5f0bd5a72fe0199c3f254665c7/freezegun-0.3.15-py2.py3-none-any.whl\n",
      "Collecting protobuf==3.8.0\n",
      "\u001b[?25l  Downloading https://files.pythonhosted.org/packages/d2/fb/29de8d08967f0cce1bb10b39846d836b0f3bf6776ddc36aed7c73498ca7e/protobuf-3.8.0-cp36-cp36m-manylinux1_x86_64.whl (1.2MB)\n",
      "\u001b[K     |████████████████████████████████| 1.2MB 30.1MB/s \n",
      "\u001b[?25hRequirement already satisfied: dataclasses; python_version < \"3.7\" in /usr/local/lib/python3.6/dist-packages (from cirq) (0.7)\n",
      "Requirement already satisfied: scipy in /usr/local/lib/python3.6/dist-packages (from cirq) (1.4.1)\n",
      "Requirement already satisfied: google-api-core[grpc]<2.0.0dev,>=1.14.0 in /usr/local/lib/python3.6/dist-packages (from cirq) (1.16.0)\n",
      "Requirement already satisfied: numpy~=1.16 in /usr/local/lib/python3.6/dist-packages (from cirq) (1.18.4)\n",
      "Requirement already satisfied: pandas in /usr/local/lib/python3.6/dist-packages (from cirq) (1.0.4)\n",
      "Requirement already satisfied: networkx~=2.4 in /usr/local/lib/python3.6/dist-packages (from cirq) (2.4)\n",
      "Requirement already satisfied: typing-extensions in /usr/local/lib/python3.6/dist-packages (from cirq) (3.6.6)\n",
      "Requirement already satisfied: matplotlib~=3.0 in /usr/local/lib/python3.6/dist-packages (from cirq) (3.2.1)\n",
      "Requirement already satisfied: chardet<4,>=3.0.2 in /usr/local/lib/python3.6/dist-packages (from requests~=2.18->cirq) (3.0.4)\n",
      "Requirement already satisfied: urllib3!=1.25.0,!=1.25.1,<1.26,>=1.21.1 in /usr/local/lib/python3.6/dist-packages (from requests~=2.18->cirq) (1.24.3)\n",
      "Requirement already satisfied: certifi>=2017.4.17 in /usr/local/lib/python3.6/dist-packages (from requests~=2.18->cirq) (2020.4.5.1)\n",
      "Requirement already satisfied: idna<3,>=2.5 in /usr/local/lib/python3.6/dist-packages (from requests~=2.18->cirq) (2.9)\n",
      "Requirement already satisfied: mpmath>=0.19 in /usr/local/lib/python3.6/dist-packages (from sympy->cirq) (1.1.0)\n",
      "Requirement already satisfied: python-dateutil!=2.0,>=1.0 in /usr/local/lib/python3.6/dist-packages (from freezegun~=0.3.15->cirq) (2.8.1)\n",
      "Requirement already satisfied: six in /usr/local/lib/python3.6/dist-packages (from freezegun~=0.3.15->cirq) (1.12.0)\n",
      "Requirement already satisfied: setuptools in /usr/local/lib/python3.6/dist-packages (from protobuf==3.8.0->cirq) (47.1.1)\n",
      "Requirement already satisfied: googleapis-common-protos<2.0dev,>=1.6.0 in /usr/local/lib/python3.6/dist-packages (from google-api-core[grpc]<2.0.0dev,>=1.14.0->cirq) (1.51.0)\n",
      "Requirement already satisfied: google-auth<2.0dev,>=0.4.0 in /usr/local/lib/python3.6/dist-packages (from google-api-core[grpc]<2.0.0dev,>=1.14.0->cirq) (1.7.2)\n",
      "Requirement already satisfied: pytz in /usr/local/lib/python3.6/dist-packages (from google-api-core[grpc]<2.0.0dev,>=1.14.0->cirq) (2018.9)\n",
      "Requirement already satisfied: grpcio<2.0dev,>=1.8.2; extra == \"grpc\" in /usr/local/lib/python3.6/dist-packages (from google-api-core[grpc]<2.0.0dev,>=1.14.0->cirq) (1.29.0)\n",
      "Requirement already satisfied: decorator>=4.3.0 in /usr/local/lib/python3.6/dist-packages (from networkx~=2.4->cirq) (4.4.2)\n",
      "Requirement already satisfied: pyparsing!=2.0.4,!=2.1.2,!=2.1.6,>=2.0.1 in /usr/local/lib/python3.6/dist-packages (from matplotlib~=3.0->cirq) (2.4.7)\n",
      "Requirement already satisfied: cycler>=0.10 in /usr/local/lib/python3.6/dist-packages (from matplotlib~=3.0->cirq) (0.10.0)\n",
      "Requirement already satisfied: kiwisolver>=1.0.1 in /usr/local/lib/python3.6/dist-packages (from matplotlib~=3.0->cirq) (1.2.0)\n",
      "Requirement already satisfied: cachetools<3.2,>=2.0.0 in /usr/local/lib/python3.6/dist-packages (from google-auth<2.0dev,>=0.4.0->google-api-core[grpc]<2.0.0dev,>=1.14.0->cirq) (3.1.1)\n",
      "Requirement already satisfied: rsa<4.1,>=3.1.4 in /usr/local/lib/python3.6/dist-packages (from google-auth<2.0dev,>=0.4.0->google-api-core[grpc]<2.0.0dev,>=1.14.0->cirq) (4.0)\n",
      "Requirement already satisfied: pyasn1-modules>=0.2.1 in /usr/local/lib/python3.6/dist-packages (from google-auth<2.0dev,>=0.4.0->google-api-core[grpc]<2.0.0dev,>=1.14.0->cirq) (0.2.8)\n",
      "Requirement already satisfied: pyasn1>=0.1.3 in /usr/local/lib/python3.6/dist-packages (from rsa<4.1,>=3.1.4->google-auth<2.0dev,>=0.4.0->google-api-core[grpc]<2.0.0dev,>=1.14.0->cirq) (0.4.8)\n",
      "Installing collected packages: freezegun, protobuf, cirq\n",
      "  Found existing installation: protobuf 3.10.0\n",
      "    Uninstalling protobuf-3.10.0:\n",
      "      Successfully uninstalled protobuf-3.10.0\n",
      "Successfully installed cirq-0.8.1 freezegun-0.3.15 protobuf-3.8.0\n"
     ]
    },
    {
     "data": {
      "application/vnd.colab-display-data+json": {
       "pip_warning": {
        "packages": [
         "google"
        ]
       }
      }
     },
     "metadata": {
      "tags": []
     },
     "output_type": "display_data"
    }
   ],
   "source": [
    "!pip install qiskit\n",
    "!pip install cirq"
   ]
  },
  {
   "cell_type": "code",
   "execution_count": 1,
   "metadata": {
    "colab": {},
    "colab_type": "code",
    "id": "T_Mw6X700ltY"
   },
   "outputs": [],
   "source": [
    "from qiskit import QuantumRegister, QuantumCircuit, execute\n",
    "from qiskit.quantum_info.operators import Operator\n",
    "from qiskit.visualization import plot_histogram, plot_state_city\n",
    "from qiskit import Aer\n",
    "from qiskit.compiler import transpile"
   ]
  },
  {
   "cell_type": "code",
   "execution_count": 2,
   "metadata": {
    "colab": {},
    "colab_type": "code",
    "id": "QhvUqytOa7gi"
   },
   "outputs": [],
   "source": [
    "import numpy as np\n",
    "from math import sin, cos, atan2\n",
    "import matplotlib.pyplot as plt\n",
    "from numpy.linalg import norm,svd"
   ]
  },
  {
   "cell_type": "code",
   "execution_count": 0,
   "metadata": {
    "colab": {},
    "colab_type": "code",
    "id": "_m7eMShSwkr4"
   },
   "outputs": [],
   "source": [
    "def state_prep(ckt,A,q):\n",
    "    if q==1:\n",
    "        ckt.u3(2*atan2(A[1],A[0]),0,0,0)\n",
    "        return ckt\n",
    "    \n",
    "    n=q-q//2 #n>=m\n",
    "    m=q//2\n",
    "    A=np.reshape(A,(2**m,2**n))\n",
    "    A=np.transpose(A)\n",
    "    \n",
    "    U,S,V=np.linalg.svd(A)\n",
    "    ckt=state_prep(ckt,S,q//2)\n",
    "    \n",
    "    for i in range(m):\n",
    "        ckt.cx(i,i+n)\n",
    "    if q%2==1:\n",
    "        ckt.cx(q//2,q-1)\n",
    "    ckt.barrier()\n",
    "    \n",
    "    ckt.unitary(Operator(U), list(range(n)))\n",
    "    ckt.unitary(Operator(np.transpose(V)), list(range(n,q)))\n",
    "    ckt.barrier()\n",
    "    print(q,\"Q   done\")\n",
    "    return ckt"
   ]
  },
  {
   "cell_type": "markdown",
   "metadata": {
    "colab_type": "text",
    "id": "ta1bnP_Xli-g"
   },
   "source": [
    "## Cosine-Sine Decomposition Qiskit"
   ]
  },
  {
   "cell_type": "code",
   "execution_count": 0,
   "metadata": {
    "colab": {},
    "colab_type": "code",
    "id": "KNXutkUP_lJD"
   },
   "outputs": [],
   "source": [
    "def direct_sum(A,B):\n",
    "    n=np.shape(A)[0]\n",
    "    m=np.shape(B)[0]\n",
    "    res=np.zeros((n+m,n+m))\n",
    "    res[:n,:n]=A\n",
    "    res[n:,n:]=B\n",
    "    return res\n",
    "\n",
    "def genY(C,S):\n",
    "    n=np.shape(C)[0]\n",
    "    m=np.shape(S)[0]\n",
    "    res=np.zeros((n+m,n+m))\n",
    "    res[:n,:n]=C\n",
    "    res[:n,n:]=-S\n",
    "    res[n:,:n]=S\n",
    "    res[n:,n:]=C\n",
    "    return res"
   ]
  },
  {
   "cell_type": "code",
   "execution_count": 0,
   "metadata": {
    "colab": {},
    "colab_type": "code",
    "id": "-BxP66_TvzKv"
   },
   "outputs": [],
   "source": [
    "def CSD(U,q):\n",
    "    n=2**q\n",
    "    A=U[:n//2,:n//2]\n",
    "    B=U[n//2:,n//2:]\n",
    "    U1,C,V1=np.linalg.svd(A)\n",
    "    U2,C,V2=np.linalg.svd(B)\n",
    "    V1=V1.T\n",
    "    V2=V2.T\n",
    "\n",
    "    S=U2.T@U[n//2:,:n//2]@V1      \n",
    "    #S=-U1.T@U[:n//2,n//2:]@V2 \n",
    "    #S=np.sin(np.arccos(C))#(1-C**2)**0.5   #Doesn't take care of the sign of Sine\n",
    "\n",
    "    C=np.diag(C)\n",
    "\n",
    "    return U1,U2,genY(C,S),V1.T,V2.T"
   ]
  },
  {
   "cell_type": "code",
   "execution_count": 0,
   "metadata": {
    "colab": {},
    "colab_type": "code",
    "id": "4jIi4YEs7DPy"
   },
   "outputs": [],
   "source": [
    "q=2\n",
    "n=2**q\n",
    "\n",
    "A=np.random.rand(n,n)\n",
    "U,S,V=np.linalg.svd(A)\n",
    "\n",
    "ckt=QuantumCircuit(2,1)\n",
    "ckt.unitary(U,[0,1])\n",
    "\n",
    "ckt=transpile(ckt,basis_gates=['u3','cx'],seed_transpiler=0)\n",
    "\n",
    "ckt.draw(output='mpl')"
   ]
  },
  {
   "cell_type": "code",
   "execution_count": 0,
   "metadata": {
    "colab": {},
    "colab_type": "code",
    "id": "ACVitDtr-3nh"
   },
   "outputs": [],
   "source": [
    "ckt=QuantumCircuit(2)\n",
    "ckt.crz(0.1,0,1)\n",
    "ckt=transpile(ckt,basis_gates=['u3','cx'],seed_transpiler=0)\n",
    "ckt.draw(output='mpl')"
   ]
  },
  {
   "cell_type": "markdown",
   "metadata": {
    "colab_type": "text",
    "id": "NRYMQknAlobK"
   },
   "source": [
    "## Two-Qubit Decomposition using Cirq"
   ]
  },
  {
   "cell_type": "code",
   "execution_count": 32,
   "metadata": {
    "colab": {
     "base_uri": "https://localhost:8080/",
     "height": 151
    },
    "colab_type": "code",
    "executionInfo": {
     "elapsed": 1374,
     "status": "ok",
     "timestamp": 1591331508579,
     "user": {
      "displayName": "Vinit Singh",
      "photoUrl": "https://lh3.googleusercontent.com/a-/AOh14GgoL8sImEqXRxPWWhRxjJ5WXMgF2SYIIK4QOnexgbk=s64",
      "userId": "08885898808014521859"
     },
     "user_tz": -330
    },
    "id": "7zoEqgOTB6nC",
    "outputId": "cc4aa880-8f04-4ac4-f40f-899a8c3e960f"
   },
   "outputs": [
    {
     "name": "stdout",
     "output_type": "stream",
     "text": [
      "[[ 0.35+0.j -0.16+0.j  0.85+0.j -0.36+0.j]\n",
      " [-0.25+0.j -0.07+0.j -0.3 +0.j -0.92+0.j]\n",
      " [ 0.21+0.j  0.96+0.j  0.03+0.j -0.15+0.j]\n",
      " [-0.88+0.j  0.19+0.j  0.44+0.j  0.08+0.j]]\n",
      "[[-0.74+0.j -0.28+0.j  0.59+0.j -0.16+0.j]\n",
      " [ 0.39+0.j -0.71+0.j  0.  +0.j -0.59+0.j]\n",
      " [-0.28+0.j -0.62+0.j -0.49+0.j  0.55+0.j]\n",
      " [-0.47+0.j  0.22+0.j -0.63+0.j -0.57+0.j]]\n"
     ]
    }
   ],
   "source": [
    "import cirq\n",
    "from scipy.stats import unitary_group\n",
    "\n",
    "def two_qubit_unitary_decomposition(U):\n",
    "  M=np.array([[1,0,0,1j],[0,1j,1,0],[0,1j,-1,0],[1,0,0,1j]])\n",
    "  lambd=np.array([[1,1,-1,1],[1,1,1,-1],[1,-1,-1,-1],[1,-1,1,1]])\n",
    "  U0=(M.conj().T)@U@M\n",
    "  UR=(U0+U0.conj())/2\n",
    "  UL=(U0-U0.conj())/2j\n",
    "\n",
    "  V1,C,X=np.linalg.svd(UR)\n",
    "  X=X.T\n",
    "  #Incomplete\n",
    "\n",
    "U=unitary_group.rvs(4)\n",
    "two_qubit_unitary_decomposition(U)"
   ]
  },
  {
   "cell_type": "markdown",
   "metadata": {},
   "source": [
    "## Circuit Decompostion on Qiskit"
   ]
  },
  {
   "cell_type": "code",
   "execution_count": 3,
   "metadata": {},
   "outputs": [
    {
     "name": "stdout",
     "output_type": "stream",
     "text": [
      "OrderedDict([('u3', 4764), ('cx', 4474)])\n"
     ]
    },
    {
     "data": {
      "image/png": "[encoded data removed]",
      "text/plain": [
       "<Figure size 298.592x385.28 with 1 Axes>"
      ]
     },
     "execution_count": 3,
     "metadata": {},
     "output_type": "execute_result"
    }
   ],
   "source": [
    "q=6\n",
    "A=np.random.rand(2**q,2**q)\n",
    "\n",
    "U,S,V=np.linalg.svd(A)\n",
    "\n",
    "qiskit_ckt=QuantumCircuit(q)\n",
    "qiskit_ckt.unitary(Operator(U), list(range(q)))\n",
    "\n",
    "print(transpile(qiskit_ckt,basis_gates=['cx','u3']).count_ops())\n",
    "qiskit_ckt.draw(output='mpl')"
   ]
  },
  {
   "cell_type": "code",
   "execution_count": 4,
   "metadata": {
    "colab": {},
    "colab_type": "code",
    "id": "BiGAMgifq4uX"
   },
   "outputs": [
    {
     "data": {
      "image/png": "[encoded data removed]",
      "text/plain": [
       "<Figure size 432x288 with 1 Axes>"
      ]
     },
     "metadata": {
      "needs_background": "light"
     },
     "output_type": "display_data"
    }
   ],
   "source": [
    "T=np.array([[2,3,8],[3,41,55],[4,218,260],[5,1025,1139],[6,4474,4764],[7,18653,19359]])\n",
    "\n",
    "plt.plot(T[:,0],np.log2(T[:,1]),marker='*',label='cx')\n",
    "plt.plot(T[:,0],np.log2(T[:,2]),marker='*',label='u3')\n",
    "plt.plot(T[:,0],2*T[:,0])\n",
    "plt.xlabel('Qubits')\n",
    "plt.ylabel('Time (in sec)')\n",
    "plt.legend()\n",
    "plt.show()"
   ]
  },
  {
   "cell_type": "code",
   "execution_count": null,
   "metadata": {},
   "outputs": [],
   "source": []
  }
 ],
 "metadata": {
  "colab": {
   "collapsed_sections": [],
   "name": "Circuit Decomposition.ipynb",
   "provenance": []
  },
  "kernelspec": {
   "display_name": "Python 3",
   "language": "python",
   "name": "python3"
  },
  "language_info": {
   "codemirror_mode": {
    "name": "ipython",
    "version": 3
   },
   "file_extension": ".py",
   "mimetype": "text/x-python",
   "name": "python",
   "nbconvert_exporter": "python",
   "pygments_lexer": "ipython3",
   "version": "3.6.10"
  }
 },
 "nbformat": 4,
 "nbformat_minor": 1
}
